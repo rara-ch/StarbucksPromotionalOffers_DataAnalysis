{
 "cells": [
  {
   "cell_type": "markdown",
   "id": "e5ee2c3a-36e7-4d15-8655-708c0a354dae",
   "metadata": {},
   "source": [
    "# Starbucks Promotional Offers Data Analyst Project\n",
    "# Cleaning and Wrangling Data"
   ]
  },
  {
   "cell_type": "code",
   "execution_count": 1,
   "id": "ce08b64f-69b6-4a6a-9ad8-e6af67c19cca",
   "metadata": {},
   "outputs": [],
   "source": [
    "# Import modules\n",
    "import numpy as np\n",
    "import pandas as pd\n",
    "import matplotlib.pyplot as plt\n",
    "import seaborn as sns\n",
    "from ast import literal_eval\n",
    "from sqlalchemy import create_engine"
   ]
  },
  {
   "cell_type": "markdown",
   "id": "afd8742a-94c1-4224-9796-26d2e2ae9447",
   "metadata": {},
   "source": [
    "## Importing the Data\n",
    "I will use the pandas library to import the data into this workbook. I will then check both the head and tail of each table to ensure that they were loaded in correctly."
   ]
  },
  {
   "cell_type": "code",
   "execution_count": 2,
   "id": "058cbcc7-f6be-478f-88e4-bb1f98a0f62b",
   "metadata": {},
   "outputs": [],
   "source": [
    "# Load the data into pd.DataFrame objects\n",
    "customers = pd.read_csv('customers.csv')\n",
    "offers = pd.read_csv('offers.csv')\n",
    "events = pd.read_csv('events.csv')"
   ]
  },
  {
   "cell_type": "code",
   "execution_count": 3,
   "id": "04c13be5-a1c7-4bdf-9dd6-c39eac6f797a",
   "metadata": {},
   "outputs": [
    {
     "data": {
      "text/html": [
       "<div>\n",
       "<style scoped>\n",
       "    .dataframe tbody tr th:only-of-type {\n",
       "        vertical-align: middle;\n",
       "    }\n",
       "\n",
       "    .dataframe tbody tr th {\n",
       "        vertical-align: top;\n",
       "    }\n",
       "\n",
       "    .dataframe thead th {\n",
       "        text-align: right;\n",
       "    }\n",
       "</style>\n",
       "<table border=\"1\" class=\"dataframe\">\n",
       "  <thead>\n",
       "    <tr style=\"text-align: right;\">\n",
       "      <th></th>\n",
       "      <th>offer_id</th>\n",
       "      <th>offer_type</th>\n",
       "      <th>difficulty</th>\n",
       "      <th>reward</th>\n",
       "      <th>duration</th>\n",
       "      <th>channels</th>\n",
       "    </tr>\n",
       "  </thead>\n",
       "  <tbody>\n",
       "    <tr>\n",
       "      <th>0</th>\n",
       "      <td>ae264e3637204a6fb9bb56bc8210ddfd</td>\n",
       "      <td>bogo</td>\n",
       "      <td>10</td>\n",
       "      <td>10</td>\n",
       "      <td>7</td>\n",
       "      <td>['email', 'mobile', 'social']</td>\n",
       "    </tr>\n",
       "    <tr>\n",
       "      <th>1</th>\n",
       "      <td>4d5c57ea9a6940dd891ad53e9dbe8da0</td>\n",
       "      <td>bogo</td>\n",
       "      <td>10</td>\n",
       "      <td>10</td>\n",
       "      <td>5</td>\n",
       "      <td>['web', 'email', 'mobile', 'social']</td>\n",
       "    </tr>\n",
       "    <tr>\n",
       "      <th>2</th>\n",
       "      <td>3f207df678b143eea3cee63160fa8bed</td>\n",
       "      <td>informational</td>\n",
       "      <td>0</td>\n",
       "      <td>0</td>\n",
       "      <td>4</td>\n",
       "      <td>['web', 'email', 'mobile']</td>\n",
       "    </tr>\n",
       "  </tbody>\n",
       "</table>\n",
       "</div>"
      ],
      "text/plain": [
       "                           offer_id     offer_type  difficulty  reward  \\\n",
       "0  ae264e3637204a6fb9bb56bc8210ddfd           bogo          10      10   \n",
       "1  4d5c57ea9a6940dd891ad53e9dbe8da0           bogo          10      10   \n",
       "2  3f207df678b143eea3cee63160fa8bed  informational           0       0   \n",
       "\n",
       "   duration                              channels  \n",
       "0         7         ['email', 'mobile', 'social']  \n",
       "1         5  ['web', 'email', 'mobile', 'social']  \n",
       "2         4            ['web', 'email', 'mobile']  "
      ]
     },
     "execution_count": 3,
     "metadata": {},
     "output_type": "execute_result"
    }
   ],
   "source": [
    "# Make sure the offers table loaded in correctly by checking the head\n",
    "offers.head(3)"
   ]
  },
  {
   "cell_type": "code",
   "execution_count": 4,
   "id": "8a38693c-830d-4c74-b033-e15516818d6d",
   "metadata": {},
   "outputs": [
    {
     "data": {
      "text/html": [
       "<div>\n",
       "<style scoped>\n",
       "    .dataframe tbody tr th:only-of-type {\n",
       "        vertical-align: middle;\n",
       "    }\n",
       "\n",
       "    .dataframe tbody tr th {\n",
       "        vertical-align: top;\n",
       "    }\n",
       "\n",
       "    .dataframe thead th {\n",
       "        text-align: right;\n",
       "    }\n",
       "</style>\n",
       "<table border=\"1\" class=\"dataframe\">\n",
       "  <thead>\n",
       "    <tr style=\"text-align: right;\">\n",
       "      <th></th>\n",
       "      <th>offer_id</th>\n",
       "      <th>offer_type</th>\n",
       "      <th>difficulty</th>\n",
       "      <th>reward</th>\n",
       "      <th>duration</th>\n",
       "      <th>channels</th>\n",
       "    </tr>\n",
       "  </thead>\n",
       "  <tbody>\n",
       "    <tr>\n",
       "      <th>7</th>\n",
       "      <td>5a8bc65990b245e5a138643cd4eb9837</td>\n",
       "      <td>informational</td>\n",
       "      <td>0</td>\n",
       "      <td>0</td>\n",
       "      <td>3</td>\n",
       "      <td>['email', 'mobile', 'social']</td>\n",
       "    </tr>\n",
       "    <tr>\n",
       "      <th>8</th>\n",
       "      <td>f19421c1d4aa40978ebb69ca19b0e20d</td>\n",
       "      <td>bogo</td>\n",
       "      <td>5</td>\n",
       "      <td>5</td>\n",
       "      <td>5</td>\n",
       "      <td>['web', 'email', 'mobile', 'social']</td>\n",
       "    </tr>\n",
       "    <tr>\n",
       "      <th>9</th>\n",
       "      <td>2906b810c7d4411798c6938adc9daaa5</td>\n",
       "      <td>discount</td>\n",
       "      <td>10</td>\n",
       "      <td>2</td>\n",
       "      <td>7</td>\n",
       "      <td>['web', 'email', 'mobile']</td>\n",
       "    </tr>\n",
       "  </tbody>\n",
       "</table>\n",
       "</div>"
      ],
      "text/plain": [
       "                           offer_id     offer_type  difficulty  reward  \\\n",
       "7  5a8bc65990b245e5a138643cd4eb9837  informational           0       0   \n",
       "8  f19421c1d4aa40978ebb69ca19b0e20d           bogo           5       5   \n",
       "9  2906b810c7d4411798c6938adc9daaa5       discount          10       2   \n",
       "\n",
       "   duration                              channels  \n",
       "7         3         ['email', 'mobile', 'social']  \n",
       "8         5  ['web', 'email', 'mobile', 'social']  \n",
       "9         7            ['web', 'email', 'mobile']  "
      ]
     },
     "execution_count": 4,
     "metadata": {},
     "output_type": "execute_result"
    }
   ],
   "source": [
    "# Make sure the offers table loaded in correctly by checking the tail\n",
    "offers.tail(3)"
   ]
  },
  {
   "cell_type": "markdown",
   "id": "a0eb35e8-6f64-4b34-a4a3-50d2d713522d",
   "metadata": {},
   "source": [
    "The `offers` table looks like it has loaded in correctly. The `channels` column has values in the form of lists, which pandas does not work well with. Therefore, I will clean this up into something that is easier to use."
   ]
  },
  {
   "cell_type": "code",
   "execution_count": 5,
   "id": "a7e8dd86-42bb-4d70-85ab-d4ddeb23caa0",
   "metadata": {},
   "outputs": [
    {
     "data": {
      "text/html": [
       "<div>\n",
       "<style scoped>\n",
       "    .dataframe tbody tr th:only-of-type {\n",
       "        vertical-align: middle;\n",
       "    }\n",
       "\n",
       "    .dataframe tbody tr th {\n",
       "        vertical-align: top;\n",
       "    }\n",
       "\n",
       "    .dataframe thead th {\n",
       "        text-align: right;\n",
       "    }\n",
       "</style>\n",
       "<table border=\"1\" class=\"dataframe\">\n",
       "  <thead>\n",
       "    <tr style=\"text-align: right;\">\n",
       "      <th></th>\n",
       "      <th>customer_id</th>\n",
       "      <th>became_member_on</th>\n",
       "      <th>gender</th>\n",
       "      <th>age</th>\n",
       "      <th>income</th>\n",
       "    </tr>\n",
       "  </thead>\n",
       "  <tbody>\n",
       "    <tr>\n",
       "      <th>0</th>\n",
       "      <td>68be06ca386d4c31939f3a4f0e3dd783</td>\n",
       "      <td>20170212</td>\n",
       "      <td>NaN</td>\n",
       "      <td>118</td>\n",
       "      <td>NaN</td>\n",
       "    </tr>\n",
       "    <tr>\n",
       "      <th>1</th>\n",
       "      <td>0610b486422d4921ae7d2bf64640c50b</td>\n",
       "      <td>20170715</td>\n",
       "      <td>F</td>\n",
       "      <td>55</td>\n",
       "      <td>112000.0</td>\n",
       "    </tr>\n",
       "    <tr>\n",
       "      <th>2</th>\n",
       "      <td>38fe809add3b4fcf9315a9694bb96ff5</td>\n",
       "      <td>20180712</td>\n",
       "      <td>NaN</td>\n",
       "      <td>118</td>\n",
       "      <td>NaN</td>\n",
       "    </tr>\n",
       "  </tbody>\n",
       "</table>\n",
       "</div>"
      ],
      "text/plain": [
       "                        customer_id  became_member_on gender  age    income\n",
       "0  68be06ca386d4c31939f3a4f0e3dd783          20170212    NaN  118       NaN\n",
       "1  0610b486422d4921ae7d2bf64640c50b          20170715      F   55  112000.0\n",
       "2  38fe809add3b4fcf9315a9694bb96ff5          20180712    NaN  118       NaN"
      ]
     },
     "execution_count": 5,
     "metadata": {},
     "output_type": "execute_result"
    }
   ],
   "source": [
    "# Make sure the customers table loaded in correctly by checking the head\n",
    "customers.head(3)"
   ]
  },
  {
   "cell_type": "code",
   "execution_count": 6,
   "id": "5ccaf1f1-229d-45a7-88a9-27e5f3914ca1",
   "metadata": {
    "scrolled": true
   },
   "outputs": [
    {
     "data": {
      "text/html": [
       "<div>\n",
       "<style scoped>\n",
       "    .dataframe tbody tr th:only-of-type {\n",
       "        vertical-align: middle;\n",
       "    }\n",
       "\n",
       "    .dataframe tbody tr th {\n",
       "        vertical-align: top;\n",
       "    }\n",
       "\n",
       "    .dataframe thead th {\n",
       "        text-align: right;\n",
       "    }\n",
       "</style>\n",
       "<table border=\"1\" class=\"dataframe\">\n",
       "  <thead>\n",
       "    <tr style=\"text-align: right;\">\n",
       "      <th></th>\n",
       "      <th>customer_id</th>\n",
       "      <th>became_member_on</th>\n",
       "      <th>gender</th>\n",
       "      <th>age</th>\n",
       "      <th>income</th>\n",
       "    </tr>\n",
       "  </thead>\n",
       "  <tbody>\n",
       "    <tr>\n",
       "      <th>16997</th>\n",
       "      <td>01d26f638c274aa0b965d24cefe3183f</td>\n",
       "      <td>20170126</td>\n",
       "      <td>M</td>\n",
       "      <td>49</td>\n",
       "      <td>73000.0</td>\n",
       "    </tr>\n",
       "    <tr>\n",
       "      <th>16998</th>\n",
       "      <td>9dc1421481194dcd9400aec7c9ae6366</td>\n",
       "      <td>20160307</td>\n",
       "      <td>F</td>\n",
       "      <td>83</td>\n",
       "      <td>50000.0</td>\n",
       "    </tr>\n",
       "    <tr>\n",
       "      <th>16999</th>\n",
       "      <td>e4052622e5ba45a8b96b59aba68cf068</td>\n",
       "      <td>20170722</td>\n",
       "      <td>F</td>\n",
       "      <td>62</td>\n",
       "      <td>82000.0</td>\n",
       "    </tr>\n",
       "  </tbody>\n",
       "</table>\n",
       "</div>"
      ],
      "text/plain": [
       "                            customer_id  became_member_on gender  age   income\n",
       "16997  01d26f638c274aa0b965d24cefe3183f          20170126      M   49  73000.0\n",
       "16998  9dc1421481194dcd9400aec7c9ae6366          20160307      F   83  50000.0\n",
       "16999  e4052622e5ba45a8b96b59aba68cf068          20170722      F   62  82000.0"
      ]
     },
     "execution_count": 6,
     "metadata": {},
     "output_type": "execute_result"
    }
   ],
   "source": [
    "# Make sure the customers table loaded in correctly by checking the tail\n",
    "customers.tail(3)"
   ]
  },
  {
   "cell_type": "markdown",
   "id": "62e15e0c-ff12-40c0-99ed-7c84b5ef1a5e",
   "metadata": {},
   "source": [
    "The `customers` table looks like it has loaded in correctly. However, the `became_member_on` column will need to be changed into a datetime data type to make it easier to work with and more readable."
   ]
  },
  {
   "cell_type": "code",
   "execution_count": 7,
   "id": "c115550d-743c-4f52-9bb0-cb1753ae32c6",
   "metadata": {},
   "outputs": [
    {
     "data": {
      "text/html": [
       "<div>\n",
       "<style scoped>\n",
       "    .dataframe tbody tr th:only-of-type {\n",
       "        vertical-align: middle;\n",
       "    }\n",
       "\n",
       "    .dataframe tbody tr th {\n",
       "        vertical-align: top;\n",
       "    }\n",
       "\n",
       "    .dataframe thead th {\n",
       "        text-align: right;\n",
       "    }\n",
       "</style>\n",
       "<table border=\"1\" class=\"dataframe\">\n",
       "  <thead>\n",
       "    <tr style=\"text-align: right;\">\n",
       "      <th></th>\n",
       "      <th>customer_id</th>\n",
       "      <th>event</th>\n",
       "      <th>value</th>\n",
       "      <th>time</th>\n",
       "    </tr>\n",
       "  </thead>\n",
       "  <tbody>\n",
       "    <tr>\n",
       "      <th>0</th>\n",
       "      <td>78afa995795e4d85b5d9ceeca43f5fef</td>\n",
       "      <td>offer received</td>\n",
       "      <td>{'offer id': '9b98b8c7a33c4b65b9aebfe6a799e6d9'}</td>\n",
       "      <td>0</td>\n",
       "    </tr>\n",
       "    <tr>\n",
       "      <th>1</th>\n",
       "      <td>a03223e636434f42ac4c3df47e8bac43</td>\n",
       "      <td>offer received</td>\n",
       "      <td>{'offer id': '0b1e1539f2cc45b7b9fa7c272da2e1d7'}</td>\n",
       "      <td>0</td>\n",
       "    </tr>\n",
       "    <tr>\n",
       "      <th>2</th>\n",
       "      <td>e2127556f4f64592b11af22de27a7932</td>\n",
       "      <td>offer received</td>\n",
       "      <td>{'offer id': '2906b810c7d4411798c6938adc9daaa5'}</td>\n",
       "      <td>0</td>\n",
       "    </tr>\n",
       "  </tbody>\n",
       "</table>\n",
       "</div>"
      ],
      "text/plain": [
       "                        customer_id           event  \\\n",
       "0  78afa995795e4d85b5d9ceeca43f5fef  offer received   \n",
       "1  a03223e636434f42ac4c3df47e8bac43  offer received   \n",
       "2  e2127556f4f64592b11af22de27a7932  offer received   \n",
       "\n",
       "                                              value  time  \n",
       "0  {'offer id': '9b98b8c7a33c4b65b9aebfe6a799e6d9'}     0  \n",
       "1  {'offer id': '0b1e1539f2cc45b7b9fa7c272da2e1d7'}     0  \n",
       "2  {'offer id': '2906b810c7d4411798c6938adc9daaa5'}     0  "
      ]
     },
     "execution_count": 7,
     "metadata": {},
     "output_type": "execute_result"
    }
   ],
   "source": [
    "# Make sure the events table loaded in correctly by checking the head\n",
    "events.head(3)"
   ]
  },
  {
   "cell_type": "code",
   "execution_count": 8,
   "id": "914f98d9-eec1-491f-b1e4-fd099285de1a",
   "metadata": {},
   "outputs": [
    {
     "data": {
      "text/html": [
       "<div>\n",
       "<style scoped>\n",
       "    .dataframe tbody tr th:only-of-type {\n",
       "        vertical-align: middle;\n",
       "    }\n",
       "\n",
       "    .dataframe tbody tr th {\n",
       "        vertical-align: top;\n",
       "    }\n",
       "\n",
       "    .dataframe thead th {\n",
       "        text-align: right;\n",
       "    }\n",
       "</style>\n",
       "<table border=\"1\" class=\"dataframe\">\n",
       "  <thead>\n",
       "    <tr style=\"text-align: right;\">\n",
       "      <th></th>\n",
       "      <th>customer_id</th>\n",
       "      <th>event</th>\n",
       "      <th>value</th>\n",
       "      <th>time</th>\n",
       "    </tr>\n",
       "  </thead>\n",
       "  <tbody>\n",
       "    <tr>\n",
       "      <th>306531</th>\n",
       "      <td>a00058cf10334a308c68e7631c529907</td>\n",
       "      <td>transaction</td>\n",
       "      <td>{'amount': 3.61}</td>\n",
       "      <td>714</td>\n",
       "    </tr>\n",
       "    <tr>\n",
       "      <th>306532</th>\n",
       "      <td>76ddbd6576844afe811f1a3c0fbb5bec</td>\n",
       "      <td>transaction</td>\n",
       "      <td>{'amount': 3.5300000000000002}</td>\n",
       "      <td>714</td>\n",
       "    </tr>\n",
       "    <tr>\n",
       "      <th>306533</th>\n",
       "      <td>c02b10e8752c4d8e9b73f918558531f7</td>\n",
       "      <td>transaction</td>\n",
       "      <td>{'amount': 4.05}</td>\n",
       "      <td>714</td>\n",
       "    </tr>\n",
       "  </tbody>\n",
       "</table>\n",
       "</div>"
      ],
      "text/plain": [
       "                             customer_id        event  \\\n",
       "306531  a00058cf10334a308c68e7631c529907  transaction   \n",
       "306532  76ddbd6576844afe811f1a3c0fbb5bec  transaction   \n",
       "306533  c02b10e8752c4d8e9b73f918558531f7  transaction   \n",
       "\n",
       "                                 value  time  \n",
       "306531                {'amount': 3.61}   714  \n",
       "306532  {'amount': 3.5300000000000002}   714  \n",
       "306533                {'amount': 4.05}   714  "
      ]
     },
     "execution_count": 8,
     "metadata": {},
     "output_type": "execute_result"
    }
   ],
   "source": [
    "# Make sure the events table loaded in correctly by checking the tail\n",
    "events.tail(3)"
   ]
  },
  {
   "cell_type": "markdown",
   "id": "ba9e4242-1367-4b26-8df9-cc651d5d0706",
   "metadata": {},
   "source": [
    "The `events` table looks like it has loaded in correctly. The `value` column has values in the form of dictionaries, which pandas does not work well with. Therefore, I will clean this up in something easier to use. I will also change the `time` column into more informative columns."
   ]
  },
  {
   "cell_type": "markdown",
   "id": "3222b941-a93e-4a15-86be-235705568047",
   "metadata": {},
   "source": [
    "## Cleaning the Data\n",
    "I will now clean each table in the dataset one by one. To do this, I will first make to clean the messy columns that I noticed when looking and the head and tail of each table. I will then investigate the data types of each column. At the same time, I will investigate the bit-sizes and potentail outliers of the numeric columns. I will make any necessary changes to these attributes. I will then investigate missing data and decide on an case-by-case basis what to do with the missing data. I will then specifically check if there are inconsitent text or typos in the categorical columns and make necessary fixes. I will then check for duplicated rows and decide whether it is necessary to delete them.\n",
    "### `offers`\n",
    "The `offers` table has a column called `channels` that is in the form of lists. Since Pandas does not work overally well with lists as values, I will create dummy variables for the individual channels."
   ]
  },
  {
   "cell_type": "code",
   "execution_count": 9,
   "id": "cea73a7d-57de-4508-b9f8-a10356120f10",
   "metadata": {},
   "outputs": [],
   "source": [
    "# Turn channels column into list type\n",
    "offers['channels'] = offers['channels'].apply(literal_eval)\n",
    "\n",
    "# Create channels dummies\n",
    "for channel in ['web', 'email', 'mobile', 'social']:\n",
    "    offers[channel] = offers['channels'].apply(lambda x: 1 if channel in x else 0).astype('int8')\n",
    "\n",
    "# Drop the original columns list\n",
    "offers = offers.drop('channels', axis=1)"
   ]
  },
  {
   "cell_type": "code",
   "execution_count": 10,
   "id": "015563b1-93be-4f1e-9b9d-484552229560",
   "metadata": {},
   "outputs": [
    {
     "name": "stdout",
     "output_type": "stream",
     "text": [
      "<class 'pandas.core.frame.DataFrame'>\n",
      "RangeIndex: 10 entries, 0 to 9\n",
      "Data columns (total 9 columns):\n",
      " #   Column      Non-Null Count  Dtype \n",
      "---  ------      --------------  ----- \n",
      " 0   offer_id    10 non-null     object\n",
      " 1   offer_type  10 non-null     object\n",
      " 2   difficulty  10 non-null     int64 \n",
      " 3   reward      10 non-null     int64 \n",
      " 4   duration    10 non-null     int64 \n",
      " 5   web         10 non-null     int8  \n",
      " 6   email       10 non-null     int8  \n",
      " 7   mobile      10 non-null     int8  \n",
      " 8   social      10 non-null     int8  \n",
      "dtypes: int64(3), int8(4), object(2)\n",
      "memory usage: 1.7 KB\n"
     ]
    }
   ],
   "source": [
    "# Check the data types, size, and memory usage of the offers table\n",
    "offers.info(memory_usage='deep')"
   ]
  },
  {
   "cell_type": "code",
   "execution_count": 11,
   "id": "11215c60-0163-4561-aa4c-4af2a02e063c",
   "metadata": {},
   "outputs": [
    {
     "data": {
      "text/html": [
       "<div>\n",
       "<style scoped>\n",
       "    .dataframe tbody tr th:only-of-type {\n",
       "        vertical-align: middle;\n",
       "    }\n",
       "\n",
       "    .dataframe tbody tr th {\n",
       "        vertical-align: top;\n",
       "    }\n",
       "\n",
       "    .dataframe thead th {\n",
       "        text-align: right;\n",
       "    }\n",
       "</style>\n",
       "<table border=\"1\" class=\"dataframe\">\n",
       "  <thead>\n",
       "    <tr style=\"text-align: right;\">\n",
       "      <th></th>\n",
       "      <th>difficulty</th>\n",
       "      <th>reward</th>\n",
       "      <th>duration</th>\n",
       "      <th>web</th>\n",
       "      <th>email</th>\n",
       "      <th>mobile</th>\n",
       "      <th>social</th>\n",
       "    </tr>\n",
       "  </thead>\n",
       "  <tbody>\n",
       "    <tr>\n",
       "      <th>count</th>\n",
       "      <td>10.0</td>\n",
       "      <td>10.0</td>\n",
       "      <td>10.0</td>\n",
       "      <td>10.0</td>\n",
       "      <td>10.0</td>\n",
       "      <td>10.0</td>\n",
       "      <td>10.0</td>\n",
       "    </tr>\n",
       "    <tr>\n",
       "      <th>mean</th>\n",
       "      <td>8.0</td>\n",
       "      <td>4.0</td>\n",
       "      <td>6.0</td>\n",
       "      <td>1.0</td>\n",
       "      <td>1.0</td>\n",
       "      <td>1.0</td>\n",
       "      <td>1.0</td>\n",
       "    </tr>\n",
       "    <tr>\n",
       "      <th>std</th>\n",
       "      <td>6.0</td>\n",
       "      <td>4.0</td>\n",
       "      <td>2.0</td>\n",
       "      <td>0.0</td>\n",
       "      <td>0.0</td>\n",
       "      <td>0.0</td>\n",
       "      <td>1.0</td>\n",
       "    </tr>\n",
       "    <tr>\n",
       "      <th>min</th>\n",
       "      <td>0.0</td>\n",
       "      <td>0.0</td>\n",
       "      <td>3.0</td>\n",
       "      <td>0.0</td>\n",
       "      <td>1.0</td>\n",
       "      <td>0.0</td>\n",
       "      <td>0.0</td>\n",
       "    </tr>\n",
       "    <tr>\n",
       "      <th>25%</th>\n",
       "      <td>5.0</td>\n",
       "      <td>2.0</td>\n",
       "      <td>5.0</td>\n",
       "      <td>1.0</td>\n",
       "      <td>1.0</td>\n",
       "      <td>1.0</td>\n",
       "      <td>0.0</td>\n",
       "    </tr>\n",
       "    <tr>\n",
       "      <th>50%</th>\n",
       "      <td>8.0</td>\n",
       "      <td>4.0</td>\n",
       "      <td>7.0</td>\n",
       "      <td>1.0</td>\n",
       "      <td>1.0</td>\n",
       "      <td>1.0</td>\n",
       "      <td>1.0</td>\n",
       "    </tr>\n",
       "    <tr>\n",
       "      <th>75%</th>\n",
       "      <td>10.0</td>\n",
       "      <td>5.0</td>\n",
       "      <td>7.0</td>\n",
       "      <td>1.0</td>\n",
       "      <td>1.0</td>\n",
       "      <td>1.0</td>\n",
       "      <td>1.0</td>\n",
       "    </tr>\n",
       "    <tr>\n",
       "      <th>max</th>\n",
       "      <td>20.0</td>\n",
       "      <td>10.0</td>\n",
       "      <td>10.0</td>\n",
       "      <td>1.0</td>\n",
       "      <td>1.0</td>\n",
       "      <td>1.0</td>\n",
       "      <td>1.0</td>\n",
       "    </tr>\n",
       "  </tbody>\n",
       "</table>\n",
       "</div>"
      ],
      "text/plain": [
       "       difficulty  reward  duration   web  email  mobile  social\n",
       "count        10.0    10.0      10.0  10.0   10.0    10.0    10.0\n",
       "mean          8.0     4.0       6.0   1.0    1.0     1.0     1.0\n",
       "std           6.0     4.0       2.0   0.0    0.0     0.0     1.0\n",
       "min           0.0     0.0       3.0   0.0    1.0     0.0     0.0\n",
       "25%           5.0     2.0       5.0   1.0    1.0     1.0     0.0\n",
       "50%           8.0     4.0       7.0   1.0    1.0     1.0     1.0\n",
       "75%          10.0     5.0       7.0   1.0    1.0     1.0     1.0\n",
       "max          20.0    10.0      10.0   1.0    1.0     1.0     1.0"
      ]
     },
     "execution_count": 11,
     "metadata": {},
     "output_type": "execute_result"
    }
   ],
   "source": [
    "# Check the summary statistics for the numeric columns to see if we can reduce bit-sizes and identify possible outliers\n",
    "offers.describe().round()"
   ]
  },
  {
   "cell_type": "markdown",
   "id": "5bf6c62f-ab6a-4cee-a42c-4d4b5e79f031",
   "metadata": {},
   "source": [
    "It looks like the `difficulty`, `reward`, and `duration` column take integer values between 0 and 20. Therefore, I will reduce the bit-sizes for those column to the minimum bit-size to reduce memory usage and optimise efficiency. I will also change the `offer_type` column to category. I know it is a categorical column because of the data dictionary. In addition, there does not seem to be any outliers or unreasonable values for the numerical columns."
   ]
  },
  {
   "cell_type": "code",
   "execution_count": 12,
   "id": "51f22cab-d3af-40ee-ab70-2ceb229278e8",
   "metadata": {},
   "outputs": [],
   "source": [
    "# Reduce the bit-sizes of the numeric columns to save memory and optimise efficiency\n",
    "offers = offers.astype({\n",
    "    'difficulty': 'int8',\n",
    "    'reward': 'int8',\n",
    "    'duration': 'int8',\n",
    "    'offer_type': 'category'\n",
    "})"
   ]
  },
  {
   "cell_type": "code",
   "execution_count": 13,
   "id": "d2ef01c5-6c84-4c9f-a9d8-ae840e0c7c53",
   "metadata": {},
   "outputs": [
    {
     "name": "stdout",
     "output_type": "stream",
     "text": [
      "<class 'pandas.core.frame.DataFrame'>\n",
      "RangeIndex: 10 entries, 0 to 9\n",
      "Data columns (total 9 columns):\n",
      " #   Column      Non-Null Count  Dtype   \n",
      "---  ------      --------------  -----   \n",
      " 0   offer_id    10 non-null     object  \n",
      " 1   offer_type  10 non-null     category\n",
      " 2   difficulty  10 non-null     int8    \n",
      " 3   reward      10 non-null     int8    \n",
      " 4   duration    10 non-null     int8    \n",
      " 5   web         10 non-null     int8    \n",
      " 6   email       10 non-null     int8    \n",
      " 7   mobile      10 non-null     int8    \n",
      " 8   social      10 non-null     int8    \n",
      "dtypes: category(1), int8(7), object(1)\n",
      "memory usage: 1.3 KB\n"
     ]
    }
   ],
   "source": [
    "# Check to see if the changes occured\n",
    "offers.info(memory_usage='deep')"
   ]
  },
  {
   "cell_type": "code",
   "execution_count": 14,
   "id": "814de947-30dc-48f4-868d-527b003202cf",
   "metadata": {},
   "outputs": [
    {
     "data": {
      "text/plain": [
       "offer_id      0\n",
       "offer_type    0\n",
       "difficulty    0\n",
       "reward        0\n",
       "duration      0\n",
       "web           0\n",
       "email         0\n",
       "mobile        0\n",
       "social        0\n",
       "dtype: int64"
      ]
     },
     "execution_count": 14,
     "metadata": {},
     "output_type": "execute_result"
    }
   ],
   "source": [
    "# Check for any missing data\n",
    "offers.isna().sum()"
   ]
  },
  {
   "cell_type": "code",
   "execution_count": 15,
   "id": "caf49970-d563-45f3-8534-03872269cc93",
   "metadata": {},
   "outputs": [
    {
     "data": {
      "text/plain": [
       "['bogo', 'informational', 'discount']\n",
       "Categories (3, object): ['bogo', 'discount', 'informational']"
      ]
     },
     "execution_count": 15,
     "metadata": {},
     "output_type": "execute_result"
    }
   ],
   "source": [
    "# Check for any inconsistent text or typos, specifically in category columns\n",
    "offers['offer_type'].unique()"
   ]
  },
  {
   "cell_type": "code",
   "execution_count": 16,
   "id": "cfe6756a-bb10-40b8-a279-9dabbd21166e",
   "metadata": {},
   "outputs": [
    {
     "data": {
      "text/plain": [
       "0"
      ]
     },
     "execution_count": 16,
     "metadata": {},
     "output_type": "execute_result"
    }
   ],
   "source": [
    "# Check for any duplicate rows\n",
    "offers.duplicated().sum()"
   ]
  },
  {
   "cell_type": "code",
   "execution_count": 17,
   "id": "1f0c5ab9-f87b-4ec2-939b-160770e79946",
   "metadata": {},
   "outputs": [
    {
     "data": {
      "text/html": [
       "<div>\n",
       "<style scoped>\n",
       "    .dataframe tbody tr th:only-of-type {\n",
       "        vertical-align: middle;\n",
       "    }\n",
       "\n",
       "    .dataframe tbody tr th {\n",
       "        vertical-align: top;\n",
       "    }\n",
       "\n",
       "    .dataframe thead th {\n",
       "        text-align: right;\n",
       "    }\n",
       "</style>\n",
       "<table border=\"1\" class=\"dataframe\">\n",
       "  <thead>\n",
       "    <tr style=\"text-align: right;\">\n",
       "      <th></th>\n",
       "      <th>offer_id</th>\n",
       "      <th>offer_type</th>\n",
       "      <th>difficulty</th>\n",
       "      <th>reward</th>\n",
       "      <th>duration</th>\n",
       "      <th>web</th>\n",
       "      <th>email</th>\n",
       "      <th>mobile</th>\n",
       "      <th>social</th>\n",
       "    </tr>\n",
       "  </thead>\n",
       "  <tbody>\n",
       "    <tr>\n",
       "      <th>0</th>\n",
       "      <td>ae264e3637204a6fb9bb56bc8210ddfd</td>\n",
       "      <td>bogo</td>\n",
       "      <td>10</td>\n",
       "      <td>10</td>\n",
       "      <td>7</td>\n",
       "      <td>0</td>\n",
       "      <td>1</td>\n",
       "      <td>1</td>\n",
       "      <td>1</td>\n",
       "    </tr>\n",
       "    <tr>\n",
       "      <th>1</th>\n",
       "      <td>4d5c57ea9a6940dd891ad53e9dbe8da0</td>\n",
       "      <td>bogo</td>\n",
       "      <td>10</td>\n",
       "      <td>10</td>\n",
       "      <td>5</td>\n",
       "      <td>1</td>\n",
       "      <td>1</td>\n",
       "      <td>1</td>\n",
       "      <td>1</td>\n",
       "    </tr>\n",
       "    <tr>\n",
       "      <th>2</th>\n",
       "      <td>3f207df678b143eea3cee63160fa8bed</td>\n",
       "      <td>informational</td>\n",
       "      <td>0</td>\n",
       "      <td>0</td>\n",
       "      <td>4</td>\n",
       "      <td>1</td>\n",
       "      <td>1</td>\n",
       "      <td>1</td>\n",
       "      <td>0</td>\n",
       "    </tr>\n",
       "  </tbody>\n",
       "</table>\n",
       "</div>"
      ],
      "text/plain": [
       "                           offer_id     offer_type  difficulty  reward  \\\n",
       "0  ae264e3637204a6fb9bb56bc8210ddfd           bogo          10      10   \n",
       "1  4d5c57ea9a6940dd891ad53e9dbe8da0           bogo          10      10   \n",
       "2  3f207df678b143eea3cee63160fa8bed  informational           0       0   \n",
       "\n",
       "   duration  web  email  mobile  social  \n",
       "0         7    0      1       1       1  \n",
       "1         5    1      1       1       1  \n",
       "2         4    1      1       1       0  "
      ]
     },
     "execution_count": 17,
     "metadata": {},
     "output_type": "execute_result"
    }
   ],
   "source": [
    "# Here is the cleaned version of the offers table\n",
    "offers.head(3)"
   ]
  },
  {
   "cell_type": "markdown",
   "id": "de007972-43a9-44a8-8be9-64d904cb9d11",
   "metadata": {},
   "source": [
    "### `customers`"
   ]
  },
  {
   "cell_type": "code",
   "execution_count": 18,
   "id": "31d7e423-1c4f-461e-9832-349d18bf2b23",
   "metadata": {},
   "outputs": [
    {
     "name": "stdout",
     "output_type": "stream",
     "text": [
      "<class 'pandas.core.frame.DataFrame'>\n",
      "RangeIndex: 17000 entries, 0 to 16999\n",
      "Data columns (total 5 columns):\n",
      " #   Column            Non-Null Count  Dtype  \n",
      "---  ------            --------------  -----  \n",
      " 0   customer_id       17000 non-null  object \n",
      " 1   became_member_on  17000 non-null  int64  \n",
      " 2   gender            14825 non-null  object \n",
      " 3   age               17000 non-null  int64  \n",
      " 4   income            14825 non-null  float64\n",
      "dtypes: float64(1), int64(2), object(2)\n",
      "memory usage: 2.5 MB\n"
     ]
    }
   ],
   "source": [
    "# Check the data types, size, and memory usage of the customers data frame\n",
    "customers.info(memory_usage='deep')"
   ]
  },
  {
   "cell_type": "code",
   "execution_count": 19,
   "id": "5a91130a-5adf-45cd-916a-6b774ef41687",
   "metadata": {},
   "outputs": [
    {
     "data": {
      "text/html": [
       "<div>\n",
       "<style scoped>\n",
       "    .dataframe tbody tr th:only-of-type {\n",
       "        vertical-align: middle;\n",
       "    }\n",
       "\n",
       "    .dataframe tbody tr th {\n",
       "        vertical-align: top;\n",
       "    }\n",
       "\n",
       "    .dataframe thead th {\n",
       "        text-align: right;\n",
       "    }\n",
       "</style>\n",
       "<table border=\"1\" class=\"dataframe\">\n",
       "  <thead>\n",
       "    <tr style=\"text-align: right;\">\n",
       "      <th></th>\n",
       "      <th>became_member_on</th>\n",
       "      <th>age</th>\n",
       "      <th>income</th>\n",
       "    </tr>\n",
       "  </thead>\n",
       "  <tbody>\n",
       "    <tr>\n",
       "      <th>count</th>\n",
       "      <td>17000.0</td>\n",
       "      <td>17000.0</td>\n",
       "      <td>14825.0</td>\n",
       "    </tr>\n",
       "    <tr>\n",
       "      <th>mean</th>\n",
       "      <td>20167034.0</td>\n",
       "      <td>63.0</td>\n",
       "      <td>65405.0</td>\n",
       "    </tr>\n",
       "    <tr>\n",
       "      <th>std</th>\n",
       "      <td>11677.0</td>\n",
       "      <td>27.0</td>\n",
       "      <td>21598.0</td>\n",
       "    </tr>\n",
       "    <tr>\n",
       "      <th>min</th>\n",
       "      <td>20130729.0</td>\n",
       "      <td>18.0</td>\n",
       "      <td>30000.0</td>\n",
       "    </tr>\n",
       "    <tr>\n",
       "      <th>25%</th>\n",
       "      <td>20160526.0</td>\n",
       "      <td>45.0</td>\n",
       "      <td>49000.0</td>\n",
       "    </tr>\n",
       "    <tr>\n",
       "      <th>50%</th>\n",
       "      <td>20170802.0</td>\n",
       "      <td>58.0</td>\n",
       "      <td>64000.0</td>\n",
       "    </tr>\n",
       "    <tr>\n",
       "      <th>75%</th>\n",
       "      <td>20171230.0</td>\n",
       "      <td>73.0</td>\n",
       "      <td>80000.0</td>\n",
       "    </tr>\n",
       "    <tr>\n",
       "      <th>max</th>\n",
       "      <td>20180726.0</td>\n",
       "      <td>118.0</td>\n",
       "      <td>120000.0</td>\n",
       "    </tr>\n",
       "  </tbody>\n",
       "</table>\n",
       "</div>"
      ],
      "text/plain": [
       "       became_member_on      age    income\n",
       "count           17000.0  17000.0   14825.0\n",
       "mean         20167034.0     63.0   65405.0\n",
       "std             11677.0     27.0   21598.0\n",
       "min          20130729.0     18.0   30000.0\n",
       "25%          20160526.0     45.0   49000.0\n",
       "50%          20170802.0     58.0   64000.0\n",
       "75%          20171230.0     73.0   80000.0\n",
       "max          20180726.0    118.0  120000.0"
      ]
     },
     "execution_count": 19,
     "metadata": {},
     "output_type": "execute_result"
    }
   ],
   "source": [
    "# Check the summary statistics for the numeric columns to see if we can reduce bit-sizes and identify possible outliers\n",
    "customers.describe().round()"
   ]
  },
  {
   "cell_type": "markdown",
   "id": "521fb34d-57c6-4738-afc3-0789c919b4bd",
   "metadata": {},
   "source": [
    "It looks like the `age` column take integer values between 0 and 118 and `income` takes float values between 30000 and 120000. Therefore, I will reduce the bit-sizes for those columns to the minimum bit-size to reduce memory usage and optimise efficiency. I will also change the `gender` column to category. I know it is a categorical column because of the data dictionary. In addition, I will need to change the `became_member_on` to datetime data type. A possible outlier could be 118 in the `age` column. I will investigate this more later."
   ]
  },
  {
   "cell_type": "code",
   "execution_count": 20,
   "id": "1cf29c04-58e1-4260-95cb-f25ad6aaa17b",
   "metadata": {},
   "outputs": [],
   "source": [
    "# Convert the data types of the column in the wrong data type and reduce bit-sizes of numeric columns to save space\n",
    "customers = customers.astype({\n",
    "    'gender': 'category',\n",
    "    'age': 'int16',\n",
    "    'income': 'float32'\n",
    "})\n",
    "\n",
    "# Convert the became_member_on column to datetime dtype\n",
    "customers['became_member_on'] = pd.to_datetime(customers['became_member_on'], format='%Y%m%d')"
   ]
  },
  {
   "cell_type": "code",
   "execution_count": 21,
   "id": "3fff51a1-79ed-47da-b1d5-e18c6ba3cbdf",
   "metadata": {},
   "outputs": [
    {
     "name": "stdout",
     "output_type": "stream",
     "text": [
      "<class 'pandas.core.frame.DataFrame'>\n",
      "RangeIndex: 17000 entries, 0 to 16999\n",
      "Data columns (total 5 columns):\n",
      " #   Column            Non-Null Count  Dtype         \n",
      "---  ------            --------------  -----         \n",
      " 0   customer_id       17000 non-null  object        \n",
      " 1   became_member_on  17000 non-null  datetime64[ns]\n",
      " 2   gender            14825 non-null  category      \n",
      " 3   age               17000 non-null  int16         \n",
      " 4   income            14825 non-null  float32       \n",
      "dtypes: category(1), datetime64[ns](1), float32(1), int16(1), object(1)\n",
      "memory usage: 1.6 MB\n"
     ]
    }
   ],
   "source": [
    "# Check to see if the changes occured\n",
    "customers.info(memory_usage='deep')"
   ]
  },
  {
   "cell_type": "code",
   "execution_count": 22,
   "id": "2d1a76f7-fdf6-4124-9710-2bc3c235c072",
   "metadata": {},
   "outputs": [
    {
     "data": {
      "text/plain": [
       "customer_id            0\n",
       "became_member_on       0\n",
       "gender              2175\n",
       "age                    0\n",
       "income              2175\n",
       "dtype: int64"
      ]
     },
     "execution_count": 22,
     "metadata": {},
     "output_type": "execute_result"
    }
   ],
   "source": [
    "# Check for any missing data\n",
    "customers.isna().sum()"
   ]
  },
  {
   "cell_type": "code",
   "execution_count": 23,
   "id": "b2654cd7-fc7f-4f09-a540-502d5078fe9b",
   "metadata": {},
   "outputs": [
    {
     "data": {
      "text/html": [
       "<div>\n",
       "<style scoped>\n",
       "    .dataframe tbody tr th:only-of-type {\n",
       "        vertical-align: middle;\n",
       "    }\n",
       "\n",
       "    .dataframe tbody tr th {\n",
       "        vertical-align: top;\n",
       "    }\n",
       "\n",
       "    .dataframe thead th {\n",
       "        text-align: right;\n",
       "    }\n",
       "</style>\n",
       "<table border=\"1\" class=\"dataframe\">\n",
       "  <thead>\n",
       "    <tr style=\"text-align: right;\">\n",
       "      <th></th>\n",
       "      <th>customer_id</th>\n",
       "      <th>became_member_on</th>\n",
       "      <th>gender</th>\n",
       "      <th>age</th>\n",
       "      <th>income</th>\n",
       "    </tr>\n",
       "  </thead>\n",
       "  <tbody>\n",
       "    <tr>\n",
       "      <th>0</th>\n",
       "      <td>68be06ca386d4c31939f3a4f0e3dd783</td>\n",
       "      <td>2017-02-12</td>\n",
       "      <td>NaN</td>\n",
       "      <td>118</td>\n",
       "      <td>NaN</td>\n",
       "    </tr>\n",
       "    <tr>\n",
       "      <th>2</th>\n",
       "      <td>38fe809add3b4fcf9315a9694bb96ff5</td>\n",
       "      <td>2018-07-12</td>\n",
       "      <td>NaN</td>\n",
       "      <td>118</td>\n",
       "      <td>NaN</td>\n",
       "    </tr>\n",
       "    <tr>\n",
       "      <th>4</th>\n",
       "      <td>a03223e636434f42ac4c3df47e8bac43</td>\n",
       "      <td>2017-08-04</td>\n",
       "      <td>NaN</td>\n",
       "      <td>118</td>\n",
       "      <td>NaN</td>\n",
       "    </tr>\n",
       "    <tr>\n",
       "      <th>6</th>\n",
       "      <td>8ec6ce2a7e7949b1bf142def7d0e0586</td>\n",
       "      <td>2017-09-25</td>\n",
       "      <td>NaN</td>\n",
       "      <td>118</td>\n",
       "      <td>NaN</td>\n",
       "    </tr>\n",
       "    <tr>\n",
       "      <th>7</th>\n",
       "      <td>68617ca6246f4fbc85e91a2a49552598</td>\n",
       "      <td>2017-10-02</td>\n",
       "      <td>NaN</td>\n",
       "      <td>118</td>\n",
       "      <td>NaN</td>\n",
       "    </tr>\n",
       "  </tbody>\n",
       "</table>\n",
       "</div>"
      ],
      "text/plain": [
       "                        customer_id became_member_on gender  age  income\n",
       "0  68be06ca386d4c31939f3a4f0e3dd783       2017-02-12    NaN  118     NaN\n",
       "2  38fe809add3b4fcf9315a9694bb96ff5       2018-07-12    NaN  118     NaN\n",
       "4  a03223e636434f42ac4c3df47e8bac43       2017-08-04    NaN  118     NaN\n",
       "6  8ec6ce2a7e7949b1bf142def7d0e0586       2017-09-25    NaN  118     NaN\n",
       "7  68617ca6246f4fbc85e91a2a49552598       2017-10-02    NaN  118     NaN"
      ]
     },
     "execution_count": 23,
     "metadata": {},
     "output_type": "execute_result"
    }
   ],
   "source": [
    "# Investigate the rows that have missing values\n",
    "customers_nan_rows = customers[customers.isna().any(axis=1)]\n",
    "customers_nan_rows.head()"
   ]
  },
  {
   "cell_type": "code",
   "execution_count": 24,
   "id": "640b4769-b01e-4ccf-aa42-ae8078668dcc",
   "metadata": {},
   "outputs": [
    {
     "data": {
      "text/plain": [
       "2175"
      ]
     },
     "execution_count": 24,
     "metadata": {},
     "output_type": "execute_result"
    }
   ],
   "source": [
    "# Check to see how many rows have values missing\n",
    "len(customers_nan_rows)"
   ]
  },
  {
   "cell_type": "code",
   "execution_count": 25,
   "id": "28fd2dea-9808-4cc2-b7dc-7eb63b164d2a",
   "metadata": {},
   "outputs": [
    {
     "data": {
      "text/plain": [
       "array([118], dtype=int16)"
      ]
     },
     "execution_count": 25,
     "metadata": {},
     "output_type": "execute_result"
    }
   ],
   "source": [
    "# Check the ages of all the missing values\n",
    "customers_nan_rows['age'].unique()"
   ]
  },
  {
   "cell_type": "code",
   "execution_count": 26,
   "id": "1d823a2d-79f7-48a0-9b07-bdce1432e620",
   "metadata": {},
   "outputs": [
    {
     "data": {
      "text/plain": [
       "2175"
      ]
     },
     "execution_count": 26,
     "metadata": {},
     "output_type": "execute_result"
    }
   ],
   "source": [
    "# Check how many 118 values there are in the age column\n",
    "(customers['age'] == 118).sum()"
   ]
  },
  {
   "cell_type": "code",
   "execution_count": 27,
   "id": "26090ad5-22ea-45fb-9336-afb99c3ccd54",
   "metadata": {},
   "outputs": [
    {
     "data": {
      "text/plain": [
       "12.794117647058822"
      ]
     },
     "execution_count": 27,
     "metadata": {},
     "output_type": "execute_result"
    }
   ],
   "source": [
    "# Check the % of missing data\n",
    "(len(customers_nan_rows) / len(customers)) * 100"
   ]
  },
  {
   "cell_type": "code",
   "execution_count": 28,
   "id": "43fa2eaa-dae2-45b9-83db-9779c1595911",
   "metadata": {},
   "outputs": [
    {
     "data": {
      "image/png": "[encoded data removed]",
      "text/plain": [
       "<Figure size 640x480 with 1 Axes>"
      ]
     },
     "metadata": {},
     "output_type": "display_data"
    }
   ],
   "source": [
    "# Check the distribution of the age column\n",
    "customers['age'].hist();"
   ]
  },
  {
   "cell_type": "markdown",
   "id": "a67a2304-2230-4414-8ca8-aad9cde6476b",
   "metadata": {},
   "source": [
    "In `customers`, there are 2175 missing values each for both the `gender` and `income` columns. These missing values all occur in the same rows, meaning that there are 2175 rows that miss both the `gender` and `income` values. In addition, each one of these rows has `118` for its value for `age`, indicating that this is a placeholder for missing information. Moreover, it is skewing the distribution for the `age` column, so we will change these values to `np.NaN` values. Even though the rows with missing values make up 12.8% of our data, I will leave all the missing values as is for now so we do not lose any info when we join the tables later."
   ]
  },
  {
   "cell_type": "code",
   "execution_count": 29,
   "id": "c8e56c58-ac45-4de6-b7e4-bb812dc686a8",
   "metadata": {},
   "outputs": [],
   "source": [
    "# Replace the values of 118 in the age column with np.NaN values\n",
    "customers['age'] = customers['age'].replace({118: np.NaN})"
   ]
  },
  {
   "cell_type": "code",
   "execution_count": 30,
   "id": "8c422c33-64dd-4a8c-8828-07ce272e7d2f",
   "metadata": {},
   "outputs": [
    {
     "data": {
      "text/plain": [
       "0"
      ]
     },
     "execution_count": 30,
     "metadata": {},
     "output_type": "execute_result"
    }
   ],
   "source": [
    "# Check for dupilcate rows\n",
    "customers.duplicated().sum()"
   ]
  },
  {
   "cell_type": "code",
   "execution_count": 31,
   "id": "c3fc749d-c60e-4a25-ac70-582b9dda00df",
   "metadata": {},
   "outputs": [
    {
     "data": {
      "text/html": [
       "<div>\n",
       "<style scoped>\n",
       "    .dataframe tbody tr th:only-of-type {\n",
       "        vertical-align: middle;\n",
       "    }\n",
       "\n",
       "    .dataframe tbody tr th {\n",
       "        vertical-align: top;\n",
       "    }\n",
       "\n",
       "    .dataframe thead th {\n",
       "        text-align: right;\n",
       "    }\n",
       "</style>\n",
       "<table border=\"1\" class=\"dataframe\">\n",
       "  <thead>\n",
       "    <tr style=\"text-align: right;\">\n",
       "      <th></th>\n",
       "      <th>customer_id</th>\n",
       "      <th>became_member_on</th>\n",
       "      <th>gender</th>\n",
       "      <th>age</th>\n",
       "      <th>income</th>\n",
       "    </tr>\n",
       "  </thead>\n",
       "  <tbody>\n",
       "    <tr>\n",
       "      <th>0</th>\n",
       "      <td>68be06ca386d4c31939f3a4f0e3dd783</td>\n",
       "      <td>2017-02-12</td>\n",
       "      <td>NaN</td>\n",
       "      <td>NaN</td>\n",
       "      <td>NaN</td>\n",
       "    </tr>\n",
       "    <tr>\n",
       "      <th>1</th>\n",
       "      <td>0610b486422d4921ae7d2bf64640c50b</td>\n",
       "      <td>2017-07-15</td>\n",
       "      <td>F</td>\n",
       "      <td>55.0</td>\n",
       "      <td>112000.0</td>\n",
       "    </tr>\n",
       "    <tr>\n",
       "      <th>2</th>\n",
       "      <td>38fe809add3b4fcf9315a9694bb96ff5</td>\n",
       "      <td>2018-07-12</td>\n",
       "      <td>NaN</td>\n",
       "      <td>NaN</td>\n",
       "      <td>NaN</td>\n",
       "    </tr>\n",
       "  </tbody>\n",
       "</table>\n",
       "</div>"
      ],
      "text/plain": [
       "                        customer_id became_member_on gender   age    income\n",
       "0  68be06ca386d4c31939f3a4f0e3dd783       2017-02-12    NaN   NaN       NaN\n",
       "1  0610b486422d4921ae7d2bf64640c50b       2017-07-15      F  55.0  112000.0\n",
       "2  38fe809add3b4fcf9315a9694bb96ff5       2018-07-12    NaN   NaN       NaN"
      ]
     },
     "execution_count": 31,
     "metadata": {},
     "output_type": "execute_result"
    }
   ],
   "source": [
    "# Here is the cleaned version of the customers table\n",
    "customers.head(3)"
   ]
  },
  {
   "cell_type": "markdown",
   "id": "4ee2ba9f-bb4d-41b8-8620-53c9131bb793",
   "metadata": {},
   "source": [
    "### Cleaning the `events` Table\n",
    "The `events` table has a column called `value` that is in the form of dictionaries. Since Pandas does not work overally well with dictionaries as values, I will seperate the keys and values into seperate columns."
   ]
  },
  {
   "cell_type": "code",
   "execution_count": 32,
   "id": "cf1fbe44-2e2b-446c-b1f6-c677f7fe1dca",
   "metadata": {},
   "outputs": [],
   "source": [
    "# Turn channels column into dict type\n",
    "events['value'] = events['value'].apply(literal_eval)\n",
    "\n",
    "# Create a series that holds the dictionary keys as a list\n",
    "value_keys = events['value'].apply(lambda dict: list(dict.keys()))\n",
    "\n",
    "# Create a series that holds the dictionary values as a list\n",
    "value_values = events['value'].apply(lambda dict: list(dict.values()))"
   ]
  },
  {
   "cell_type": "code",
   "execution_count": 33,
   "id": "24d7c628-b960-4320-8da3-17b87543868a",
   "metadata": {},
   "outputs": [
    {
     "data": {
      "text/plain": [
       "value\n",
       "[amount]              138953\n",
       "[offer id]            134002\n",
       "[offer_id, reward]     33579\n",
       "Name: count, dtype: int64"
      ]
     },
     "execution_count": 33,
     "metadata": {},
     "output_type": "execute_result"
    }
   ],
   "source": [
    "# Check to see what values are in the dictionaries by checking the different possible keys.\n",
    "value_keys.value_counts()"
   ]
  },
  {
   "cell_type": "markdown",
   "id": "0890679e-10f3-481d-9821-248e8875f542",
   "metadata": {},
   "source": [
    "It looks like the `value` column has three different types of keys, which are `amount`, `offer_id`/`offer id`, and `reward`. Upon further investigation that I will omit here, the `value` values that have `amount` as their key are `transaction` events, the `value` values that just have `offer_id`/`offer id` as their key are `offer received` and `offer viewed` events, and `value` values that have both `offer_id` and `reward` as their keys are `offer completed` events. Hence, I will now create columns for these individual keys and corresponding values. However, for reward, I will just create a column called `reward` and fill it with the value or `NaN`."
   ]
  },
  {
   "cell_type": "code",
   "execution_count": 34,
   "id": "d9d2a071-ee64-43eb-9c2e-b2a2deb8383f",
   "metadata": {},
   "outputs": [],
   "source": [
    "# Create a column that hold the value key (either amount or offer id/offer_id)\n",
    "events['value_key'] = value_keys.apply(lambda lst: lst[0])\n",
    "\n",
    "# Create a column that holds the value value (either the amount or the offer id/offer_id)\n",
    "events['value'] = value_values.apply(lambda lst: lst[0])\n",
    "\n",
    "#Create a column that holds the reward value if it exists\n",
    "events['reward'] = value_values.apply(lambda lst: lst[1] if len(lst) == 2 else np.NaN)"
   ]
  },
  {
   "cell_type": "markdown",
   "id": "026a272f-0586-4804-b3c8-6990ae9b0422",
   "metadata": {},
   "source": [
    "I will now change the `time` column into more informative columns. The time column shows the number of hours passed in the 30 day period. Hence, I will make a column for the day and a column for the hour of that day. I also descovered, for reasons I can not explain, that the hours are rounded to the nearest multiple of six. Luckily, this makes no significant changes to my analysis."
   ]
  },
  {
   "cell_type": "code",
   "execution_count": 35,
   "id": "990c6adf-3b77-483e-9dbd-9d94c2b6c411",
   "metadata": {},
   "outputs": [],
   "source": [
    "# Turn the time column into two columns that is the day number and hour of that day\n",
    "events['day'] = events['time'] // 24\n",
    "events['hour'] = events['time'] % 24\n",
    "\n",
    "# Drop the original time column\n",
    "events = events.drop('time', axis=1)"
   ]
  },
  {
   "cell_type": "code",
   "execution_count": 36,
   "id": "d38a4df4-81e4-4a02-8f36-01d3083648e7",
   "metadata": {},
   "outputs": [
    {
     "name": "stdout",
     "output_type": "stream",
     "text": [
      "<class 'pandas.core.frame.DataFrame'>\n",
      "RangeIndex: 306534 entries, 0 to 306533\n",
      "Data columns (total 7 columns):\n",
      " #   Column       Non-Null Count   Dtype  \n",
      "---  ------       --------------   -----  \n",
      " 0   customer_id  306534 non-null  object \n",
      " 1   event        306534 non-null  object \n",
      " 2   value        306534 non-null  object \n",
      " 3   value_key    306534 non-null  object \n",
      " 4   reward       33579 non-null   float64\n",
      " 5   day          306534 non-null  int64  \n",
      " 6   hour         306534 non-null  int64  \n",
      "dtypes: float64(1), int64(2), object(4)\n",
      "memory usage: 82.2 MB\n"
     ]
    }
   ],
   "source": [
    "# Check the data types, size, and memory usage of the events table\n",
    "events.info(memory_usage='deep')"
   ]
  },
  {
   "cell_type": "code",
   "execution_count": 37,
   "id": "5e4705ea-89f2-4ce5-9cb3-12e7605f1f2f",
   "metadata": {},
   "outputs": [
    {
     "data": {
      "text/html": [
       "<div>\n",
       "<style scoped>\n",
       "    .dataframe tbody tr th:only-of-type {\n",
       "        vertical-align: middle;\n",
       "    }\n",
       "\n",
       "    .dataframe tbody tr th {\n",
       "        vertical-align: top;\n",
       "    }\n",
       "\n",
       "    .dataframe thead th {\n",
       "        text-align: right;\n",
       "    }\n",
       "</style>\n",
       "<table border=\"1\" class=\"dataframe\">\n",
       "  <thead>\n",
       "    <tr style=\"text-align: right;\">\n",
       "      <th></th>\n",
       "      <th>reward</th>\n",
       "      <th>day</th>\n",
       "      <th>hour</th>\n",
       "    </tr>\n",
       "  </thead>\n",
       "  <tbody>\n",
       "    <tr>\n",
       "      <th>count</th>\n",
       "      <td>33579.0</td>\n",
       "      <td>306534.0</td>\n",
       "      <td>306534.0</td>\n",
       "    </tr>\n",
       "    <tr>\n",
       "      <th>mean</th>\n",
       "      <td>5.0</td>\n",
       "      <td>15.0</td>\n",
       "      <td>6.0</td>\n",
       "    </tr>\n",
       "    <tr>\n",
       "      <th>std</th>\n",
       "      <td>3.0</td>\n",
       "      <td>8.0</td>\n",
       "      <td>7.0</td>\n",
       "    </tr>\n",
       "    <tr>\n",
       "      <th>min</th>\n",
       "      <td>2.0</td>\n",
       "      <td>0.0</td>\n",
       "      <td>0.0</td>\n",
       "    </tr>\n",
       "    <tr>\n",
       "      <th>25%</th>\n",
       "      <td>2.0</td>\n",
       "      <td>7.0</td>\n",
       "      <td>0.0</td>\n",
       "    </tr>\n",
       "    <tr>\n",
       "      <th>50%</th>\n",
       "      <td>5.0</td>\n",
       "      <td>17.0</td>\n",
       "      <td>6.0</td>\n",
       "    </tr>\n",
       "    <tr>\n",
       "      <th>75%</th>\n",
       "      <td>5.0</td>\n",
       "      <td>22.0</td>\n",
       "      <td>12.0</td>\n",
       "    </tr>\n",
       "    <tr>\n",
       "      <th>max</th>\n",
       "      <td>10.0</td>\n",
       "      <td>29.0</td>\n",
       "      <td>18.0</td>\n",
       "    </tr>\n",
       "  </tbody>\n",
       "</table>\n",
       "</div>"
      ],
      "text/plain": [
       "        reward       day      hour\n",
       "count  33579.0  306534.0  306534.0\n",
       "mean       5.0      15.0       6.0\n",
       "std        3.0       8.0       7.0\n",
       "min        2.0       0.0       0.0\n",
       "25%        2.0       7.0       0.0\n",
       "50%        5.0      17.0       6.0\n",
       "75%        5.0      22.0      12.0\n",
       "max       10.0      29.0      18.0"
      ]
     },
     "execution_count": 37,
     "metadata": {},
     "output_type": "execute_result"
    }
   ],
   "source": [
    "# Check the summary statistics for the numeric columns to see if we can reduce bit-sizes and identify possible outliers\n",
    "events.describe().round()"
   ]
  },
  {
   "cell_type": "code",
   "execution_count": 38,
   "id": "941b17dd-c810-4c22-a47e-e4ac702c9906",
   "metadata": {},
   "outputs": [
    {
     "data": {
      "text/plain": [
       "event\n",
       "transaction        138953\n",
       "offer received      76277\n",
       "offer viewed        57725\n",
       "offer completed     33579\n",
       "Name: count, dtype: int64"
      ]
     },
     "execution_count": 38,
     "metadata": {},
     "output_type": "execute_result"
    }
   ],
   "source": [
    "# Check if the event column is categorical and if there is any inconsistent text or typos \n",
    "events['event'].value_counts()"
   ]
  },
  {
   "cell_type": "code",
   "execution_count": 39,
   "id": "311572aa-ee73-4963-8301-5a62a205924b",
   "metadata": {},
   "outputs": [
    {
     "data": {
      "text/plain": [
       "value_key\n",
       "amount      138953\n",
       "offer id    134002\n",
       "offer_id     33579\n",
       "Name: count, dtype: int64"
      ]
     },
     "execution_count": 39,
     "metadata": {},
     "output_type": "execute_result"
    }
   ],
   "source": [
    "# Check if the value_key column is categorical and if there is any inconsistent text or typos \n",
    "events['value_key'].value_counts()"
   ]
  },
  {
   "cell_type": "code",
   "execution_count": 40,
   "id": "a98c2337-b5cf-4c57-ba05-8eb57cd956b3",
   "metadata": {},
   "outputs": [],
   "source": [
    "# Fix the inconsitent text\n",
    "events['value_key'] = events['value_key'].replace({'offer_id': 'offer id'})"
   ]
  },
  {
   "cell_type": "code",
   "execution_count": 41,
   "id": "62a9bb9d-2e21-4fdc-ba50-e40e92131de6",
   "metadata": {},
   "outputs": [
    {
     "data": {
      "text/plain": [
       "value_key\n",
       "offer id    167581\n",
       "amount      138953\n",
       "Name: count, dtype: int64"
      ]
     },
     "execution_count": 41,
     "metadata": {},
     "output_type": "execute_result"
    }
   ],
   "source": [
    "# Check to see if the inconsitent text was fixed\n",
    "events['value_key'].value_counts()"
   ]
  },
  {
   "cell_type": "code",
   "execution_count": 42,
   "id": "51e49b41-6aa1-4856-9e85-eeefa516f9dd",
   "metadata": {},
   "outputs": [],
   "source": [
    "# Convert the data types of the column in the wrong data type and reduce bit-sizes of numeric columns to save space\n",
    "events = events.astype({\n",
    "    'event': 'category',\n",
    "    'value_key': 'category',\n",
    "    'reward': 'float32',\n",
    "    'day': 'int8',\n",
    "    'hour': 'int8'\n",
    "})"
   ]
  },
  {
   "cell_type": "code",
   "execution_count": 43,
   "id": "4a1fc960-f708-4dda-b0ac-31eb8d78114a",
   "metadata": {},
   "outputs": [
    {
     "name": "stdout",
     "output_type": "stream",
     "text": [
      "<class 'pandas.core.frame.DataFrame'>\n",
      "RangeIndex: 306534 entries, 0 to 306533\n",
      "Data columns (total 7 columns):\n",
      " #   Column       Non-Null Count   Dtype   \n",
      "---  ------       --------------   -----   \n",
      " 0   customer_id  306534 non-null  object  \n",
      " 1   event        306534 non-null  category\n",
      " 2   value        306534 non-null  object  \n",
      " 3   value_key    306534 non-null  category\n",
      " 4   reward       33579 non-null   float32 \n",
      " 5   day          306534 non-null  int8    \n",
      " 6   hour         306534 non-null  int8    \n",
      "dtypes: category(2), float32(1), int8(2), object(2)\n",
      "memory usage: 43.2 MB\n"
     ]
    }
   ],
   "source": [
    "# Check to see if the changes occured\n",
    "events.info(memory_usage='deep')"
   ]
  },
  {
   "cell_type": "code",
   "execution_count": 44,
   "id": "461f4305-b4a2-4733-aeb7-97b430489986",
   "metadata": {},
   "outputs": [
    {
     "data": {
      "text/plain": [
       "customer_id         0\n",
       "event               0\n",
       "value               0\n",
       "value_key           0\n",
       "reward         272955\n",
       "day                 0\n",
       "hour                0\n",
       "dtype: int64"
      ]
     },
     "execution_count": 44,
     "metadata": {},
     "output_type": "execute_result"
    }
   ],
   "source": [
    "# Check for missing values\n",
    "events.isna().sum()"
   ]
  },
  {
   "cell_type": "markdown",
   "id": "be074136-3b45-44d0-8f12-5036b0287a4f",
   "metadata": {},
   "source": [
    "These missing values are a reflection of the amount of events in the table that are not `offer completed`. Therefore we want these values to remain missing."
   ]
  },
  {
   "cell_type": "code",
   "execution_count": 45,
   "id": "b7310802-aa63-40e8-a777-bf92d8d9b1f5",
   "metadata": {},
   "outputs": [
    {
     "data": {
      "text/plain": [
       "397"
      ]
     },
     "execution_count": 45,
     "metadata": {},
     "output_type": "execute_result"
    }
   ],
   "source": [
    "# Check for duplicate rows\n",
    "events.duplicated().sum()"
   ]
  },
  {
   "cell_type": "code",
   "execution_count": 46,
   "id": "bf82fce3-f411-4f6b-830e-26dc5a6d6578",
   "metadata": {},
   "outputs": [
    {
     "data": {
      "text/html": [
       "<div>\n",
       "<style scoped>\n",
       "    .dataframe tbody tr th:only-of-type {\n",
       "        vertical-align: middle;\n",
       "    }\n",
       "\n",
       "    .dataframe tbody tr th {\n",
       "        vertical-align: top;\n",
       "    }\n",
       "\n",
       "    .dataframe thead th {\n",
       "        text-align: right;\n",
       "    }\n",
       "</style>\n",
       "<table border=\"1\" class=\"dataframe\">\n",
       "  <thead>\n",
       "    <tr style=\"text-align: right;\">\n",
       "      <th></th>\n",
       "      <th>customer_id</th>\n",
       "      <th>event</th>\n",
       "      <th>value</th>\n",
       "      <th>value_key</th>\n",
       "      <th>reward</th>\n",
       "      <th>day</th>\n",
       "      <th>hour</th>\n",
       "    </tr>\n",
       "  </thead>\n",
       "  <tbody>\n",
       "    <tr>\n",
       "      <th>66123</th>\n",
       "      <td>3dde94fa581145cb9f206624f1a94d5a</td>\n",
       "      <td>offer completed</td>\n",
       "      <td>2906b810c7d4411798c6938adc9daaa5</td>\n",
       "      <td>offer id</td>\n",
       "      <td>2.0</td>\n",
       "      <td>7</td>\n",
       "      <td>0</td>\n",
       "    </tr>\n",
       "    <tr>\n",
       "      <th>66783</th>\n",
       "      <td>e9fb6ed2cecb4980ba98c86abc9c91e3</td>\n",
       "      <td>offer completed</td>\n",
       "      <td>ae264e3637204a6fb9bb56bc8210ddfd</td>\n",
       "      <td>offer id</td>\n",
       "      <td>10.0</td>\n",
       "      <td>7</td>\n",
       "      <td>0</td>\n",
       "    </tr>\n",
       "    <tr>\n",
       "      <th>67614</th>\n",
       "      <td>a7dc060f6fc94ca7bf71fbb188187dca</td>\n",
       "      <td>offer completed</td>\n",
       "      <td>9b98b8c7a33c4b65b9aebfe6a799e6d9</td>\n",
       "      <td>offer id</td>\n",
       "      <td>5.0</td>\n",
       "      <td>7</td>\n",
       "      <td>0</td>\n",
       "    </tr>\n",
       "    <tr>\n",
       "      <th>68562</th>\n",
       "      <td>30478a4c1e884a63a822aa87b833ed7a</td>\n",
       "      <td>offer completed</td>\n",
       "      <td>2298d6c36e964ae4a3e7e9706d1fb8c2</td>\n",
       "      <td>offer id</td>\n",
       "      <td>3.0</td>\n",
       "      <td>7</td>\n",
       "      <td>0</td>\n",
       "    </tr>\n",
       "    <tr>\n",
       "      <th>69218</th>\n",
       "      <td>84fb57a7fe8045a8bf6236738ee73a0f</td>\n",
       "      <td>offer completed</td>\n",
       "      <td>ae264e3637204a6fb9bb56bc8210ddfd</td>\n",
       "      <td>offer id</td>\n",
       "      <td>10.0</td>\n",
       "      <td>7</td>\n",
       "      <td>0</td>\n",
       "    </tr>\n",
       "  </tbody>\n",
       "</table>\n",
       "</div>"
      ],
      "text/plain": [
       "                            customer_id            event  \\\n",
       "66123  3dde94fa581145cb9f206624f1a94d5a  offer completed   \n",
       "66783  e9fb6ed2cecb4980ba98c86abc9c91e3  offer completed   \n",
       "67614  a7dc060f6fc94ca7bf71fbb188187dca  offer completed   \n",
       "68562  30478a4c1e884a63a822aa87b833ed7a  offer completed   \n",
       "69218  84fb57a7fe8045a8bf6236738ee73a0f  offer completed   \n",
       "\n",
       "                                  value value_key  reward  day  hour  \n",
       "66123  2906b810c7d4411798c6938adc9daaa5  offer id     2.0    7     0  \n",
       "66783  ae264e3637204a6fb9bb56bc8210ddfd  offer id    10.0    7     0  \n",
       "67614  9b98b8c7a33c4b65b9aebfe6a799e6d9  offer id     5.0    7     0  \n",
       "68562  2298d6c36e964ae4a3e7e9706d1fb8c2  offer id     3.0    7     0  \n",
       "69218  ae264e3637204a6fb9bb56bc8210ddfd  offer id    10.0    7     0  "
      ]
     },
     "execution_count": 46,
     "metadata": {},
     "output_type": "execute_result"
    }
   ],
   "source": [
    "# Investigate the duplicate rows\n",
    "events_dup_rows = events[events.duplicated()]\n",
    "events_dup_rows.head()"
   ]
  },
  {
   "cell_type": "code",
   "execution_count": 47,
   "id": "7f263a6f-77fd-4df8-850a-f5fa825fc584",
   "metadata": {},
   "outputs": [
    {
     "data": {
      "text/plain": [
       "['offer completed']\n",
       "Categories (4, object): ['offer completed', 'offer received', 'offer viewed', 'transaction']"
      ]
     },
     "execution_count": 47,
     "metadata": {},
     "output_type": "execute_result"
    }
   ],
   "source": [
    "# Investigate the event types of the duplicate rows\n",
    "events_dup_rows['event'].unique()"
   ]
  },
  {
   "cell_type": "code",
   "execution_count": 48,
   "id": "464f26f0-9ada-42e1-94bd-ad510ace63e0",
   "metadata": {},
   "outputs": [
    {
     "data": {
      "text/plain": [
       "['discount', 'bogo']\n",
       "Categories (3, object): ['bogo', 'discount', 'informational']"
      ]
     },
     "execution_count": 48,
     "metadata": {},
     "output_type": "execute_result"
    }
   ],
   "source": [
    "# Investigate the offer types of duplicate rows\n",
    "events_dup_rows.merge(offers, how='inner', left_on='value', right_on='offer_id')['offer_type'].unique()"
   ]
  },
  {
   "cell_type": "markdown",
   "id": "d2840692-826e-464f-83c1-77d6913e59b7",
   "metadata": {},
   "source": [
    "The only consitency with all the duplicate values in the `events` table is that they are all `offer completed` events. There will be no analysis on duplicate rows in our analysis. So I will delete them."
   ]
  },
  {
   "cell_type": "code",
   "execution_count": 49,
   "id": "21e538a9-3d2b-47de-b152-1c26877d34a5",
   "metadata": {},
   "outputs": [],
   "source": [
    "# Drop the duplicates in the events table\n",
    "events = events.drop_duplicates()"
   ]
  },
  {
   "cell_type": "markdown",
   "id": "33749b53-9931-4b6a-b0c5-dbb28d3f3008",
   "metadata": {},
   "source": [
    "Since the `events` table has has four distinct events. It seems benificial to break up the `events` table into the four distinct tables and clean the now seperate tables accordingly"
   ]
  },
  {
   "cell_type": "code",
   "execution_count": 50,
   "id": "d47062c3-2684-4091-abc0-bbbb33c432d6",
   "metadata": {},
   "outputs": [],
   "source": [
    "# Divide the events table into each event type\n",
    "def divide_table(event):\n",
    "    filtered_table = events[events['event'] == event]\n",
    "    filtered_table = filtered_table.drop('event', axis=1)\n",
    "    if event == 'offer completed':\n",
    "        filtered_table = filtered_table.drop('value_key', axis=1).rename({'value': 'offer_id'}, axis=1)\n",
    "    elif event == 'transaction':\n",
    "        filtered_table = filtered_table.drop(['reward', 'value_key'], axis=1).rename({'value': 'amount'}, axis=1)\n",
    "    else:\n",
    "        filtered_table = filtered_table.drop(['reward', 'value_key'], axis=1).rename({'value': 'offer_id'}, axis=1)\n",
    "    return filtered_table\n",
    "\n",
    "offers_completed = divide_table('offer completed')\n",
    "offers_received = divide_table('offer received')\n",
    "offers_viewed = divide_table('offer viewed')\n",
    "transactions = divide_table('transaction')"
   ]
  },
  {
   "cell_type": "code",
   "execution_count": 51,
   "id": "e1a50e63-8545-457c-87f4-38511bcaaf20",
   "metadata": {},
   "outputs": [
    {
     "data": {
      "text/html": [
       "<div>\n",
       "<style scoped>\n",
       "    .dataframe tbody tr th:only-of-type {\n",
       "        vertical-align: middle;\n",
       "    }\n",
       "\n",
       "    .dataframe tbody tr th {\n",
       "        vertical-align: top;\n",
       "    }\n",
       "\n",
       "    .dataframe thead th {\n",
       "        text-align: right;\n",
       "    }\n",
       "</style>\n",
       "<table border=\"1\" class=\"dataframe\">\n",
       "  <thead>\n",
       "    <tr style=\"text-align: right;\">\n",
       "      <th></th>\n",
       "      <th>customer_id</th>\n",
       "      <th>offer_id</th>\n",
       "      <th>reward</th>\n",
       "      <th>day</th>\n",
       "      <th>hour</th>\n",
       "    </tr>\n",
       "  </thead>\n",
       "  <tbody>\n",
       "    <tr>\n",
       "      <th>12658</th>\n",
       "      <td>9fa9ae8f57894cc9a3b8a9bbe0fc1b2f</td>\n",
       "      <td>2906b810c7d4411798c6938adc9daaa5</td>\n",
       "      <td>2.0</td>\n",
       "      <td>0</td>\n",
       "      <td>0</td>\n",
       "    </tr>\n",
       "    <tr>\n",
       "      <th>12672</th>\n",
       "      <td>fe97aa22dd3e48c8b143116a8403dd52</td>\n",
       "      <td>fafdcd668e3743c1bb461111dcafc2a4</td>\n",
       "      <td>2.0</td>\n",
       "      <td>0</td>\n",
       "      <td>0</td>\n",
       "    </tr>\n",
       "    <tr>\n",
       "      <th>12679</th>\n",
       "      <td>629fc02d56414d91bca360decdfa9288</td>\n",
       "      <td>9b98b8c7a33c4b65b9aebfe6a799e6d9</td>\n",
       "      <td>5.0</td>\n",
       "      <td>0</td>\n",
       "      <td>0</td>\n",
       "    </tr>\n",
       "  </tbody>\n",
       "</table>\n",
       "</div>"
      ],
      "text/plain": [
       "                            customer_id                          offer_id  \\\n",
       "12658  9fa9ae8f57894cc9a3b8a9bbe0fc1b2f  2906b810c7d4411798c6938adc9daaa5   \n",
       "12672  fe97aa22dd3e48c8b143116a8403dd52  fafdcd668e3743c1bb461111dcafc2a4   \n",
       "12679  629fc02d56414d91bca360decdfa9288  9b98b8c7a33c4b65b9aebfe6a799e6d9   \n",
       "\n",
       "       reward  day  hour  \n",
       "12658     2.0    0     0  \n",
       "12672     2.0    0     0  \n",
       "12679     5.0    0     0  "
      ]
     },
     "execution_count": 51,
     "metadata": {},
     "output_type": "execute_result"
    }
   ],
   "source": [
    "# Here are the cleaned offers_completed events from the events table\n",
    "offers_completed.head(3)"
   ]
  },
  {
   "cell_type": "code",
   "execution_count": 52,
   "id": "fe8a8f5d-5c0d-4111-9280-4f5bd8cea5f5",
   "metadata": {},
   "outputs": [
    {
     "data": {
      "text/html": [
       "<div>\n",
       "<style scoped>\n",
       "    .dataframe tbody tr th:only-of-type {\n",
       "        vertical-align: middle;\n",
       "    }\n",
       "\n",
       "    .dataframe tbody tr th {\n",
       "        vertical-align: top;\n",
       "    }\n",
       "\n",
       "    .dataframe thead th {\n",
       "        text-align: right;\n",
       "    }\n",
       "</style>\n",
       "<table border=\"1\" class=\"dataframe\">\n",
       "  <thead>\n",
       "    <tr style=\"text-align: right;\">\n",
       "      <th></th>\n",
       "      <th>customer_id</th>\n",
       "      <th>offer_id</th>\n",
       "      <th>day</th>\n",
       "      <th>hour</th>\n",
       "    </tr>\n",
       "  </thead>\n",
       "  <tbody>\n",
       "    <tr>\n",
       "      <th>0</th>\n",
       "      <td>78afa995795e4d85b5d9ceeca43f5fef</td>\n",
       "      <td>9b98b8c7a33c4b65b9aebfe6a799e6d9</td>\n",
       "      <td>0</td>\n",
       "      <td>0</td>\n",
       "    </tr>\n",
       "    <tr>\n",
       "      <th>1</th>\n",
       "      <td>a03223e636434f42ac4c3df47e8bac43</td>\n",
       "      <td>0b1e1539f2cc45b7b9fa7c272da2e1d7</td>\n",
       "      <td>0</td>\n",
       "      <td>0</td>\n",
       "    </tr>\n",
       "    <tr>\n",
       "      <th>2</th>\n",
       "      <td>e2127556f4f64592b11af22de27a7932</td>\n",
       "      <td>2906b810c7d4411798c6938adc9daaa5</td>\n",
       "      <td>0</td>\n",
       "      <td>0</td>\n",
       "    </tr>\n",
       "  </tbody>\n",
       "</table>\n",
       "</div>"
      ],
      "text/plain": [
       "                        customer_id                          offer_id  day  \\\n",
       "0  78afa995795e4d85b5d9ceeca43f5fef  9b98b8c7a33c4b65b9aebfe6a799e6d9    0   \n",
       "1  a03223e636434f42ac4c3df47e8bac43  0b1e1539f2cc45b7b9fa7c272da2e1d7    0   \n",
       "2  e2127556f4f64592b11af22de27a7932  2906b810c7d4411798c6938adc9daaa5    0   \n",
       "\n",
       "   hour  \n",
       "0     0  \n",
       "1     0  \n",
       "2     0  "
      ]
     },
     "execution_count": 52,
     "metadata": {},
     "output_type": "execute_result"
    }
   ],
   "source": [
    "# Here are the cleaned offers_received events from the events table\n",
    "offers_received.head(3)"
   ]
  },
  {
   "cell_type": "code",
   "execution_count": 53,
   "id": "9252650e-7ff3-4e6e-af73-14eba629f384",
   "metadata": {},
   "outputs": [
    {
     "data": {
      "text/html": [
       "<div>\n",
       "<style scoped>\n",
       "    .dataframe tbody tr th:only-of-type {\n",
       "        vertical-align: middle;\n",
       "    }\n",
       "\n",
       "    .dataframe tbody tr th {\n",
       "        vertical-align: top;\n",
       "    }\n",
       "\n",
       "    .dataframe thead th {\n",
       "        text-align: right;\n",
       "    }\n",
       "</style>\n",
       "<table border=\"1\" class=\"dataframe\">\n",
       "  <thead>\n",
       "    <tr style=\"text-align: right;\">\n",
       "      <th></th>\n",
       "      <th>customer_id</th>\n",
       "      <th>offer_id</th>\n",
       "      <th>day</th>\n",
       "      <th>hour</th>\n",
       "    </tr>\n",
       "  </thead>\n",
       "  <tbody>\n",
       "    <tr>\n",
       "      <th>12650</th>\n",
       "      <td>389bc3fa690240e798340f5a15918d5c</td>\n",
       "      <td>f19421c1d4aa40978ebb69ca19b0e20d</td>\n",
       "      <td>0</td>\n",
       "      <td>0</td>\n",
       "    </tr>\n",
       "    <tr>\n",
       "      <th>12651</th>\n",
       "      <td>d1ede868e29245ea91818a903fec04c6</td>\n",
       "      <td>5a8bc65990b245e5a138643cd4eb9837</td>\n",
       "      <td>0</td>\n",
       "      <td>0</td>\n",
       "    </tr>\n",
       "    <tr>\n",
       "      <th>12652</th>\n",
       "      <td>102e9454054946fda62242d2e176fdce</td>\n",
       "      <td>4d5c57ea9a6940dd891ad53e9dbe8da0</td>\n",
       "      <td>0</td>\n",
       "      <td>0</td>\n",
       "    </tr>\n",
       "  </tbody>\n",
       "</table>\n",
       "</div>"
      ],
      "text/plain": [
       "                            customer_id                          offer_id  \\\n",
       "12650  389bc3fa690240e798340f5a15918d5c  f19421c1d4aa40978ebb69ca19b0e20d   \n",
       "12651  d1ede868e29245ea91818a903fec04c6  5a8bc65990b245e5a138643cd4eb9837   \n",
       "12652  102e9454054946fda62242d2e176fdce  4d5c57ea9a6940dd891ad53e9dbe8da0   \n",
       "\n",
       "       day  hour  \n",
       "12650    0     0  \n",
       "12651    0     0  \n",
       "12652    0     0  "
      ]
     },
     "execution_count": 53,
     "metadata": {},
     "output_type": "execute_result"
    }
   ],
   "source": [
    "# Here are the cleaned offers_viewed events from the events table\n",
    "offers_viewed.head(3)"
   ]
  },
  {
   "cell_type": "code",
   "execution_count": 54,
   "id": "bb2a0bf8-6d4c-4646-b1ee-e0179384b365",
   "metadata": {},
   "outputs": [
    {
     "data": {
      "text/html": [
       "<div>\n",
       "<style scoped>\n",
       "    .dataframe tbody tr th:only-of-type {\n",
       "        vertical-align: middle;\n",
       "    }\n",
       "\n",
       "    .dataframe tbody tr th {\n",
       "        vertical-align: top;\n",
       "    }\n",
       "\n",
       "    .dataframe thead th {\n",
       "        text-align: right;\n",
       "    }\n",
       "</style>\n",
       "<table border=\"1\" class=\"dataframe\">\n",
       "  <thead>\n",
       "    <tr style=\"text-align: right;\">\n",
       "      <th></th>\n",
       "      <th>customer_id</th>\n",
       "      <th>amount</th>\n",
       "      <th>day</th>\n",
       "      <th>hour</th>\n",
       "    </tr>\n",
       "  </thead>\n",
       "  <tbody>\n",
       "    <tr>\n",
       "      <th>12654</th>\n",
       "      <td>02c083884c7d45b39cc68e1314fec56c</td>\n",
       "      <td>0.83</td>\n",
       "      <td>0</td>\n",
       "      <td>0</td>\n",
       "    </tr>\n",
       "    <tr>\n",
       "      <th>12657</th>\n",
       "      <td>9fa9ae8f57894cc9a3b8a9bbe0fc1b2f</td>\n",
       "      <td>34.56</td>\n",
       "      <td>0</td>\n",
       "      <td>0</td>\n",
       "    </tr>\n",
       "    <tr>\n",
       "      <th>12659</th>\n",
       "      <td>54890f68699049c2a04d415abc25e717</td>\n",
       "      <td>13.23</td>\n",
       "      <td>0</td>\n",
       "      <td>0</td>\n",
       "    </tr>\n",
       "  </tbody>\n",
       "</table>\n",
       "</div>"
      ],
      "text/plain": [
       "                            customer_id amount  day  hour\n",
       "12654  02c083884c7d45b39cc68e1314fec56c   0.83    0     0\n",
       "12657  9fa9ae8f57894cc9a3b8a9bbe0fc1b2f  34.56    0     0\n",
       "12659  54890f68699049c2a04d415abc25e717  13.23    0     0"
      ]
     },
     "execution_count": 54,
     "metadata": {},
     "output_type": "execute_result"
    }
   ],
   "source": [
    "# Here are the cleaned transactions events from the events table\n",
    "transactions.head(3)"
   ]
  },
  {
   "cell_type": "markdown",
   "id": "f8bb9568-7b70-4220-b311-e56b8b833244",
   "metadata": {},
   "source": [
    "Since SQL is better and joining and querying tables than Python, I will export all the cleaned tables to MySQL for some exploratory data analysis."
   ]
  },
  {
   "cell_type": "markdown",
   "id": "bfed25ef-2c26-420c-bbd6-84913ae2b14b",
   "metadata": {},
   "source": [
    "## Exporting Data to MySQL"
   ]
  },
  {
   "cell_type": "markdown",
   "id": "05c2b2a3-679e-4209-95f9-21852729887f",
   "metadata": {},
   "source": [
    "The following cells will not run. This is because they would cause an error because I have removed my password for security purposes "
   ]
  },
  {
   "cell_type": "code",
   "execution_count": 55,
   "id": "0f2ee8e2-376d-4711-8b01-b97f7a1b707a",
   "metadata": {},
   "outputs": [],
   "source": [
    "# Create a connection to the MySQL database (the password has been hidden)\n",
    "user = 'root'\n",
    "password = '' \n",
    "host = 'localhost'\n",
    "port = '3306'\n",
    "database = 'starbucks_promotions_db'\n",
    "\n",
    "engine = create_engine(f'mysql+mysqlconnector://{user}:{password}@{host}:{port}/{database}')"
   ]
  },
  {
   "cell_type": "code",
   "execution_count": 56,
   "id": "b235c1bf-24c8-4ddb-9436-d69026d94f4f",
   "metadata": {},
   "outputs": [],
   "source": [
    "# Export the tables to MySQL\n",
    "data = [offers, customers, offers_received, offers_viewed, offers_completed, transactions]\n",
    "table_names = ['offers', 'customers', 'offers_received', 'offers_viewed', 'offers_completed', 'transactions']\n",
    "\n",
    "for i, table in enumerate(data):\n",
    "    table.to_sql(table_names[i], con=engine, if_exists='replace', index=False)"
   ]
  }
 ],
 "metadata": {
  "kernelspec": {
   "display_name": "Python 3 (ipykernel)",
   "language": "python",
   "name": "python3"
  },
  "language_info": {
   "codemirror_mode": {
    "name": "ipython",
    "version": 3
   },
   "file_extension": ".py",
   "mimetype": "text/x-python",
   "name": "python",
   "nbconvert_exporter": "python",
   "pygments_lexer": "ipython3",
   "version": "3.12.7"
  }
 },
 "nbformat": 4,
 "nbformat_minor": 5
}
