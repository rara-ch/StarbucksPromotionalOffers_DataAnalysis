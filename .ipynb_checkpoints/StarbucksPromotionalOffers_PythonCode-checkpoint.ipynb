{
 "cells": [
  {
   "cell_type": "markdown",
   "id": "e5ee2c3a-36e7-4d15-8655-708c0a354dae",
   "metadata": {},
   "source": [
    "# Starbucks Promotional Offers Data Analysis Portfolio Project\n",
    "# Cleaning and Wrangling"
   ]
  },
  {
   "cell_type": "code",
   "execution_count": 1,
   "id": "6e490b37-b20c-4102-ba5a-f5833e95159b",
   "metadata": {},
   "outputs": [],
   "source": [
    "#git test"
   ]
  },
  {
   "cell_type": "code",
   "execution_count": 2,
   "id": "ce08b64f-69b6-4a6a-9ad8-e6af67c19cca",
   "metadata": {},
   "outputs": [],
   "source": [
    "# Import modules\n",
    "import numpy as np\n",
    "import pandas as pd\n",
    "import matplotlib.pyplot as plt\n",
    "import seaborn as sns\n",
    "from ast import literal_eval\n",
    "from sqlalchemy import create_engine"
   ]
  },
  {
   "cell_type": "markdown",
   "id": "afd8742a-94c1-4224-9796-26d2e2ae9447",
   "metadata": {},
   "source": [
    "## Importing the Data\n",
    "I will use the pandas library to import the data into this workbook. I will then check both the head and tail of each table to ensure that they were loaded in correctly."
   ]
  },
  {
   "cell_type": "code",
   "execution_count": 2,
   "id": "058cbcc7-f6be-478f-88e4-bb1f98a0f62b",
   "metadata": {},
   "outputs": [],
   "source": [
    "# Load the data into pd.DataFrame objects\n",
    "customers = pd.read_csv('customers.csv')\n",
    "offers = pd.read_csv('offers.csv')\n",
    "events = pd.read_csv('events.csv')"
   ]
  },
  {
   "cell_type": "code",
   "execution_count": 3,
   "id": "04c13be5-a1c7-4bdf-9dd6-c39eac6f797a",
   "metadata": {},
   "outputs": [
    {
     "data": {
      "text/html": [
       "<div>\n",
       "<style scoped>\n",
       "    .dataframe tbody tr th:only-of-type {\n",
       "        vertical-align: middle;\n",
       "    }\n",
       "\n",
       "    .dataframe tbody tr th {\n",
       "        vertical-align: top;\n",
       "    }\n",
       "\n",
       "    .dataframe thead th {\n",
       "        text-align: right;\n",
       "    }\n",
       "</style>\n",
       "<table border=\"1\" class=\"dataframe\">\n",
       "  <thead>\n",
       "    <tr style=\"text-align: right;\">\n",
       "      <th></th>\n",
       "      <th>offer_id</th>\n",
       "      <th>offer_type</th>\n",
       "      <th>difficulty</th>\n",
       "      <th>reward</th>\n",
       "      <th>duration</th>\n",
       "      <th>channels</th>\n",
       "    </tr>\n",
       "  </thead>\n",
       "  <tbody>\n",
       "    <tr>\n",
       "      <th>0</th>\n",
       "      <td>ae264e3637204a6fb9bb56bc8210ddfd</td>\n",
       "      <td>bogo</td>\n",
       "      <td>10</td>\n",
       "      <td>10</td>\n",
       "      <td>7</td>\n",
       "      <td>['email', 'mobile', 'social']</td>\n",
       "    </tr>\n",
       "    <tr>\n",
       "      <th>1</th>\n",
       "      <td>4d5c57ea9a6940dd891ad53e9dbe8da0</td>\n",
       "      <td>bogo</td>\n",
       "      <td>10</td>\n",
       "      <td>10</td>\n",
       "      <td>5</td>\n",
       "      <td>['web', 'email', 'mobile', 'social']</td>\n",
       "    </tr>\n",
       "    <tr>\n",
       "      <th>2</th>\n",
       "      <td>3f207df678b143eea3cee63160fa8bed</td>\n",
       "      <td>informational</td>\n",
       "      <td>0</td>\n",
       "      <td>0</td>\n",
       "      <td>4</td>\n",
       "      <td>['web', 'email', 'mobile']</td>\n",
       "    </tr>\n",
       "  </tbody>\n",
       "</table>\n",
       "</div>"
      ],
      "text/plain": [
       "                           offer_id     offer_type  difficulty  reward  \\\n",
       "0  ae264e3637204a6fb9bb56bc8210ddfd           bogo          10      10   \n",
       "1  4d5c57ea9a6940dd891ad53e9dbe8da0           bogo          10      10   \n",
       "2  3f207df678b143eea3cee63160fa8bed  informational           0       0   \n",
       "\n",
       "   duration                              channels  \n",
       "0         7         ['email', 'mobile', 'social']  \n",
       "1         5  ['web', 'email', 'mobile', 'social']  \n",
       "2         4            ['web', 'email', 'mobile']  "
      ]
     },
     "execution_count": 3,
     "metadata": {},
     "output_type": "execute_result"
    }
   ],
   "source": [
    "# Make sure the offers table loaded in correctly by checking the head\n",
    "offers.head(3)"
   ]
  },
  {
   "cell_type": "code",
   "execution_count": 4,
   "id": "8a38693c-830d-4c74-b033-e15516818d6d",
   "metadata": {},
   "outputs": [
    {
     "data": {
      "text/html": [
       "<div>\n",
       "<style scoped>\n",
       "    .dataframe tbody tr th:only-of-type {\n",
       "        vertical-align: middle;\n",
       "    }\n",
       "\n",
       "    .dataframe tbody tr th {\n",
       "        vertical-align: top;\n",
       "    }\n",
       "\n",
       "    .dataframe thead th {\n",
       "        text-align: right;\n",
       "    }\n",
       "</style>\n",
       "<table border=\"1\" class=\"dataframe\">\n",
       "  <thead>\n",
       "    <tr style=\"text-align: right;\">\n",
       "      <th></th>\n",
       "      <th>offer_id</th>\n",
       "      <th>offer_type</th>\n",
       "      <th>difficulty</th>\n",
       "      <th>reward</th>\n",
       "      <th>duration</th>\n",
       "      <th>channels</th>\n",
       "    </tr>\n",
       "  </thead>\n",
       "  <tbody>\n",
       "    <tr>\n",
       "      <th>7</th>\n",
       "      <td>5a8bc65990b245e5a138643cd4eb9837</td>\n",
       "      <td>informational</td>\n",
       "      <td>0</td>\n",
       "      <td>0</td>\n",
       "      <td>3</td>\n",
       "      <td>['email', 'mobile', 'social']</td>\n",
       "    </tr>\n",
       "    <tr>\n",
       "      <th>8</th>\n",
       "      <td>f19421c1d4aa40978ebb69ca19b0e20d</td>\n",
       "      <td>bogo</td>\n",
       "      <td>5</td>\n",
       "      <td>5</td>\n",
       "      <td>5</td>\n",
       "      <td>['web', 'email', 'mobile', 'social']</td>\n",
       "    </tr>\n",
       "    <tr>\n",
       "      <th>9</th>\n",
       "      <td>2906b810c7d4411798c6938adc9daaa5</td>\n",
       "      <td>discount</td>\n",
       "      <td>10</td>\n",
       "      <td>2</td>\n",
       "      <td>7</td>\n",
       "      <td>['web', 'email', 'mobile']</td>\n",
       "    </tr>\n",
       "  </tbody>\n",
       "</table>\n",
       "</div>"
      ],
      "text/plain": [
       "                           offer_id     offer_type  difficulty  reward  \\\n",
       "7  5a8bc65990b245e5a138643cd4eb9837  informational           0       0   \n",
       "8  f19421c1d4aa40978ebb69ca19b0e20d           bogo           5       5   \n",
       "9  2906b810c7d4411798c6938adc9daaa5       discount          10       2   \n",
       "\n",
       "   duration                              channels  \n",
       "7         3         ['email', 'mobile', 'social']  \n",
       "8         5  ['web', 'email', 'mobile', 'social']  \n",
       "9         7            ['web', 'email', 'mobile']  "
      ]
     },
     "execution_count": 4,
     "metadata": {},
     "output_type": "execute_result"
    }
   ],
   "source": [
    "# Make sure the offers table loaded in correctly by checking the tail\n",
    "offers.tail(3)"
   ]
  },
  {
   "cell_type": "markdown",
   "id": "a0eb35e8-6f64-4b34-a4a3-50d2d713522d",
   "metadata": {},
   "source": [
    "The `offers` table looks like it has loaded in correctly. The `channels` column has values in the form of lists, which pandas does not work well with. Therefore, I will clean this up into something that is easier to use."
   ]
  },
  {
   "cell_type": "code",
   "execution_count": 5,
   "id": "a7e8dd86-42bb-4d70-85ab-d4ddeb23caa0",
   "metadata": {},
   "outputs": [
    {
     "data": {
      "text/html": [
       "<div>\n",
       "<style scoped>\n",
       "    .dataframe tbody tr th:only-of-type {\n",
       "        vertical-align: middle;\n",
       "    }\n",
       "\n",
       "    .dataframe tbody tr th {\n",
       "        vertical-align: top;\n",
       "    }\n",
       "\n",
       "    .dataframe thead th {\n",
       "        text-align: right;\n",
       "    }\n",
       "</style>\n",
       "<table border=\"1\" class=\"dataframe\">\n",
       "  <thead>\n",
       "    <tr style=\"text-align: right;\">\n",
       "      <th></th>\n",
       "      <th>customer_id</th>\n",
       "      <th>became_member_on</th>\n",
       "      <th>gender</th>\n",
       "      <th>age</th>\n",
       "      <th>income</th>\n",
       "    </tr>\n",
       "  </thead>\n",
       "  <tbody>\n",
       "    <tr>\n",
       "      <th>0</th>\n",
       "      <td>68be06ca386d4c31939f3a4f0e3dd783</td>\n",
       "      <td>20170212</td>\n",
       "      <td>NaN</td>\n",
       "      <td>118</td>\n",
       "      <td>NaN</td>\n",
       "    </tr>\n",
       "    <tr>\n",
       "      <th>1</th>\n",
       "      <td>0610b486422d4921ae7d2bf64640c50b</td>\n",
       "      <td>20170715</td>\n",
       "      <td>F</td>\n",
       "      <td>55</td>\n",
       "      <td>112000.0</td>\n",
       "    </tr>\n",
       "    <tr>\n",
       "      <th>2</th>\n",
       "      <td>38fe809add3b4fcf9315a9694bb96ff5</td>\n",
       "      <td>20180712</td>\n",
       "      <td>NaN</td>\n",
       "      <td>118</td>\n",
       "      <td>NaN</td>\n",
       "    </tr>\n",
       "  </tbody>\n",
       "</table>\n",
       "</div>"
      ],
      "text/plain": [
       "                        customer_id  became_member_on gender  age    income\n",
       "0  68be06ca386d4c31939f3a4f0e3dd783          20170212    NaN  118       NaN\n",
       "1  0610b486422d4921ae7d2bf64640c50b          20170715      F   55  112000.0\n",
       "2  38fe809add3b4fcf9315a9694bb96ff5          20180712    NaN  118       NaN"
      ]
     },
     "execution_count": 5,
     "metadata": {},
     "output_type": "execute_result"
    }
   ],
   "source": [
    "# Make sure the customers table loaded in correctly by checking the head\n",
    "customers.head(3)"
   ]
  },
  {
   "cell_type": "code",
   "execution_count": 6,
   "id": "5ccaf1f1-229d-45a7-88a9-27e5f3914ca1",
   "metadata": {
    "scrolled": true
   },
   "outputs": [
    {
     "data": {
      "text/html": [
       "<div>\n",
       "<style scoped>\n",
       "    .dataframe tbody tr th:only-of-type {\n",
       "        vertical-align: middle;\n",
       "    }\n",
       "\n",
       "    .dataframe tbody tr th {\n",
       "        vertical-align: top;\n",
       "    }\n",
       "\n",
       "    .dataframe thead th {\n",
       "        text-align: right;\n",
       "    }\n",
       "</style>\n",
       "<table border=\"1\" class=\"dataframe\">\n",
       "  <thead>\n",
       "    <tr style=\"text-align: right;\">\n",
       "      <th></th>\n",
       "      <th>customer_id</th>\n",
       "      <th>became_member_on</th>\n",
       "      <th>gender</th>\n",
       "      <th>age</th>\n",
       "      <th>income</th>\n",
       "    </tr>\n",
       "  </thead>\n",
       "  <tbody>\n",
       "    <tr>\n",
       "      <th>16997</th>\n",
       "      <td>01d26f638c274aa0b965d24cefe3183f</td>\n",
       "      <td>20170126</td>\n",
       "      <td>M</td>\n",
       "      <td>49</td>\n",
       "      <td>73000.0</td>\n",
       "    </tr>\n",
       "    <tr>\n",
       "      <th>16998</th>\n",
       "      <td>9dc1421481194dcd9400aec7c9ae6366</td>\n",
       "      <td>20160307</td>\n",
       "      <td>F</td>\n",
       "      <td>83</td>\n",
       "      <td>50000.0</td>\n",
       "    </tr>\n",
       "    <tr>\n",
       "      <th>16999</th>\n",
       "      <td>e4052622e5ba45a8b96b59aba68cf068</td>\n",
       "      <td>20170722</td>\n",
       "      <td>F</td>\n",
       "      <td>62</td>\n",
       "      <td>82000.0</td>\n",
       "    </tr>\n",
       "  </tbody>\n",
       "</table>\n",
       "</div>"
      ],
      "text/plain": [
       "                            customer_id  became_member_on gender  age   income\n",
       "16997  01d26f638c274aa0b965d24cefe3183f          20170126      M   49  73000.0\n",
       "16998  9dc1421481194dcd9400aec7c9ae6366          20160307      F   83  50000.0\n",
       "16999  e4052622e5ba45a8b96b59aba68cf068          20170722      F   62  82000.0"
      ]
     },
     "execution_count": 6,
     "metadata": {},
     "output_type": "execute_result"
    }
   ],
   "source": [
    "# Make sure the customers table loaded in correctly by checking the tail\n",
    "customers.tail(3)"
   ]
  },
  {
   "cell_type": "markdown",
   "id": "62e15e0c-ff12-40c0-99ed-7c84b5ef1a5e",
   "metadata": {},
   "source": [
    "The `customers` table looks like it has loaded in correctly. However, the `became_member_on` column will need to be changed into a datetime data type to make it easier to work with and more readable."
   ]
  },
  {
   "cell_type": "code",
   "execution_count": 7,
   "id": "c115550d-743c-4f52-9bb0-cb1753ae32c6",
   "metadata": {},
   "outputs": [
    {
     "data": {
      "text/html": [
       "<div>\n",
       "<style scoped>\n",
       "    .dataframe tbody tr th:only-of-type {\n",
       "        vertical-align: middle;\n",
       "    }\n",
       "\n",
       "    .dataframe tbody tr th {\n",
       "        vertical-align: top;\n",
       "    }\n",
       "\n",
       "    .dataframe thead th {\n",
       "        text-align: right;\n",
       "    }\n",
       "</style>\n",
       "<table border=\"1\" class=\"dataframe\">\n",
       "  <thead>\n",
       "    <tr style=\"text-align: right;\">\n",
       "      <th></th>\n",
       "      <th>customer_id</th>\n",
       "      <th>event</th>\n",
       "      <th>value</th>\n",
       "      <th>time</th>\n",
       "    </tr>\n",
       "  </thead>\n",
       "  <tbody>\n",
       "    <tr>\n",
       "      <th>0</th>\n",
       "      <td>78afa995795e4d85b5d9ceeca43f5fef</td>\n",
       "      <td>offer received</td>\n",
       "      <td>{'offer id': '9b98b8c7a33c4b65b9aebfe6a799e6d9'}</td>\n",
       "      <td>0</td>\n",
       "    </tr>\n",
       "    <tr>\n",
       "      <th>1</th>\n",
       "      <td>a03223e636434f42ac4c3df47e8bac43</td>\n",
       "      <td>offer received</td>\n",
       "      <td>{'offer id': '0b1e1539f2cc45b7b9fa7c272da2e1d7'}</td>\n",
       "      <td>0</td>\n",
       "    </tr>\n",
       "    <tr>\n",
       "      <th>2</th>\n",
       "      <td>e2127556f4f64592b11af22de27a7932</td>\n",
       "      <td>offer received</td>\n",
       "      <td>{'offer id': '2906b810c7d4411798c6938adc9daaa5'}</td>\n",
       "      <td>0</td>\n",
       "    </tr>\n",
       "  </tbody>\n",
       "</table>\n",
       "</div>"
      ],
      "text/plain": [
       "                        customer_id           event  \\\n",
       "0  78afa995795e4d85b5d9ceeca43f5fef  offer received   \n",
       "1  a03223e636434f42ac4c3df47e8bac43  offer received   \n",
       "2  e2127556f4f64592b11af22de27a7932  offer received   \n",
       "\n",
       "                                              value  time  \n",
       "0  {'offer id': '9b98b8c7a33c4b65b9aebfe6a799e6d9'}     0  \n",
       "1  {'offer id': '0b1e1539f2cc45b7b9fa7c272da2e1d7'}     0  \n",
       "2  {'offer id': '2906b810c7d4411798c6938adc9daaa5'}     0  "
      ]
     },
     "execution_count": 7,
     "metadata": {},
     "output_type": "execute_result"
    }
   ],
   "source": [
    "# Make sure the events table loaded in correctly by checking the head\n",
    "events.head(3)"
   ]
  },
  {
   "cell_type": "code",
   "execution_count": 8,
   "id": "914f98d9-eec1-491f-b1e4-fd099285de1a",
   "metadata": {},
   "outputs": [
    {
     "data": {
      "text/html": [
       "<div>\n",
       "<style scoped>\n",
       "    .dataframe tbody tr th:only-of-type {\n",
       "        vertical-align: middle;\n",
       "    }\n",
       "\n",
       "    .dataframe tbody tr th {\n",
       "        vertical-align: top;\n",
       "    }\n",
       "\n",
       "    .dataframe thead th {\n",
       "        text-align: right;\n",
       "    }\n",
       "</style>\n",
       "<table border=\"1\" class=\"dataframe\">\n",
       "  <thead>\n",
       "    <tr style=\"text-align: right;\">\n",
       "      <th></th>\n",
       "      <th>customer_id</th>\n",
       "      <th>event</th>\n",
       "      <th>value</th>\n",
       "      <th>time</th>\n",
       "    </tr>\n",
       "  </thead>\n",
       "  <tbody>\n",
       "    <tr>\n",
       "      <th>306531</th>\n",
       "      <td>a00058cf10334a308c68e7631c529907</td>\n",
       "      <td>transaction</td>\n",
       "      <td>{'amount': 3.61}</td>\n",
       "      <td>714</td>\n",
       "    </tr>\n",
       "    <tr>\n",
       "      <th>306532</th>\n",
       "      <td>76ddbd6576844afe811f1a3c0fbb5bec</td>\n",
       "      <td>transaction</td>\n",
       "      <td>{'amount': 3.5300000000000002}</td>\n",
       "      <td>714</td>\n",
       "    </tr>\n",
       "    <tr>\n",
       "      <th>306533</th>\n",
       "      <td>c02b10e8752c4d8e9b73f918558531f7</td>\n",
       "      <td>transaction</td>\n",
       "      <td>{'amount': 4.05}</td>\n",
       "      <td>714</td>\n",
       "    </tr>\n",
       "  </tbody>\n",
       "</table>\n",
       "</div>"
      ],
      "text/plain": [
       "                             customer_id        event  \\\n",
       "306531  a00058cf10334a308c68e7631c529907  transaction   \n",
       "306532  76ddbd6576844afe811f1a3c0fbb5bec  transaction   \n",
       "306533  c02b10e8752c4d8e9b73f918558531f7  transaction   \n",
       "\n",
       "                                 value  time  \n",
       "306531                {'amount': 3.61}   714  \n",
       "306532  {'amount': 3.5300000000000002}   714  \n",
       "306533                {'amount': 4.05}   714  "
      ]
     },
     "execution_count": 8,
     "metadata": {},
     "output_type": "execute_result"
    }
   ],
   "source": [
    "# Make sure the events table loaded in correctly by checking the tail\n",
    "events.tail(3)"
   ]
  },
  {
   "cell_type": "markdown",
   "id": "ba9e4242-1367-4b26-8df9-cc651d5d0706",
   "metadata": {},
   "source": [
    "The `events` table looks like it has loaded in correctly. The `value` column has values in the form of dictionaries, which pandas does not work well with. Therefore, I will clean this up in something easier to use. I will also change the `time` column into more informative columns."
   ]
  },
  {
   "cell_type": "markdown",
   "id": "3222b941-a93e-4a15-86be-235705568047",
   "metadata": {},
   "source": [
    "## Cleaning the Data\n",
    "I will now clean each table in the dataset one by one. To do this, I will first clean the messy columns that I noticed when looking at the head and tail of each table. I will then investigate the data types of each column. At the same time, I will investigate the bit-sizes and potentail outliers of the numeric columns. I will make any necessary changes to these attributes. I will then investigate missing data and decide on an case-by-case basis what to do with the missing data. I will then specifically check if there are inconsitent text or typos in the categorical columns and make necessary fixes. I will then check for duplicated rows and decide whether it is necessary to delete them.\n",
    "### `offers`\n",
    "The `offers` table has a column called `channels` that is in the form of lists. Since Pandas does not work overally well with lists as values, I will create dummy variables for the individual channels."
   ]
  },
  {
   "cell_type": "code",
   "execution_count": 9,
   "id": "cea73a7d-57de-4508-b9f8-a10356120f10",
   "metadata": {},
   "outputs": [],
   "source": [
    "# Turn channels column into list type\n",
    "offers['channels'] = offers['channels'].apply(literal_eval)\n",
    "\n",
    "# Create channels dummies\n",
    "for channel in ['web', 'email', 'mobile', 'social']:\n",
    "    offers[channel] = offers['channels'].apply(lambda x: 1 if channel in x else 0).astype('int8')\n",
    "\n",
    "# Drop the original columns list\n",
    "offers = offers.drop('channels', axis=1)"
   ]
  },
  {
   "cell_type": "code",
   "execution_count": 10,
   "id": "015563b1-93be-4f1e-9b9d-484552229560",
   "metadata": {},
   "outputs": [
    {
     "name": "stdout",
     "output_type": "stream",
     "text": [
      "<class 'pandas.core.frame.DataFrame'>\n",
      "RangeIndex: 10 entries, 0 to 9\n",
      "Data columns (total 9 columns):\n",
      " #   Column      Non-Null Count  Dtype \n",
      "---  ------      --------------  ----- \n",
      " 0   offer_id    10 non-null     object\n",
      " 1   offer_type  10 non-null     object\n",
      " 2   difficulty  10 non-null     int64 \n",
      " 3   reward      10 non-null     int64 \n",
      " 4   duration    10 non-null     int64 \n",
      " 5   web         10 non-null     int8  \n",
      " 6   email       10 non-null     int8  \n",
      " 7   mobile      10 non-null     int8  \n",
      " 8   social      10 non-null     int8  \n",
      "dtypes: int64(3), int8(4), object(2)\n",
      "memory usage: 1.7 KB\n"
     ]
    }
   ],
   "source": [
    "# Check the data types, size, and memory usage of the offers table\n",
    "offers.info(memory_usage='deep')"
   ]
  },
  {
   "cell_type": "code",
   "execution_count": 11,
   "id": "11215c60-0163-4561-aa4c-4af2a02e063c",
   "metadata": {},
   "outputs": [
    {
     "data": {
      "text/html": [
       "<div>\n",
       "<style scoped>\n",
       "    .dataframe tbody tr th:only-of-type {\n",
       "        vertical-align: middle;\n",
       "    }\n",
       "\n",
       "    .dataframe tbody tr th {\n",
       "        vertical-align: top;\n",
       "    }\n",
       "\n",
       "    .dataframe thead th {\n",
       "        text-align: right;\n",
       "    }\n",
       "</style>\n",
       "<table border=\"1\" class=\"dataframe\">\n",
       "  <thead>\n",
       "    <tr style=\"text-align: right;\">\n",
       "      <th></th>\n",
       "      <th>difficulty</th>\n",
       "      <th>reward</th>\n",
       "      <th>duration</th>\n",
       "      <th>web</th>\n",
       "      <th>email</th>\n",
       "      <th>mobile</th>\n",
       "      <th>social</th>\n",
       "    </tr>\n",
       "  </thead>\n",
       "  <tbody>\n",
       "    <tr>\n",
       "      <th>count</th>\n",
       "      <td>10.0</td>\n",
       "      <td>10.0</td>\n",
       "      <td>10.0</td>\n",
       "      <td>10.0</td>\n",
       "      <td>10.0</td>\n",
       "      <td>10.0</td>\n",
       "      <td>10.0</td>\n",
       "    </tr>\n",
       "    <tr>\n",
       "      <th>mean</th>\n",
       "      <td>8.0</td>\n",
       "      <td>4.0</td>\n",
       "      <td>6.0</td>\n",
       "      <td>1.0</td>\n",
       "      <td>1.0</td>\n",
       "      <td>1.0</td>\n",
       "      <td>1.0</td>\n",
       "    </tr>\n",
       "    <tr>\n",
       "      <th>std</th>\n",
       "      <td>6.0</td>\n",
       "      <td>4.0</td>\n",
       "      <td>2.0</td>\n",
       "      <td>0.0</td>\n",
       "      <td>0.0</td>\n",
       "      <td>0.0</td>\n",
       "      <td>1.0</td>\n",
       "    </tr>\n",
       "    <tr>\n",
       "      <th>min</th>\n",
       "      <td>0.0</td>\n",
       "      <td>0.0</td>\n",
       "      <td>3.0</td>\n",
       "      <td>0.0</td>\n",
       "      <td>1.0</td>\n",
       "      <td>0.0</td>\n",
       "      <td>0.0</td>\n",
       "    </tr>\n",
       "    <tr>\n",
       "      <th>25%</th>\n",
       "      <td>5.0</td>\n",
       "      <td>2.0</td>\n",
       "      <td>5.0</td>\n",
       "      <td>1.0</td>\n",
       "      <td>1.0</td>\n",
       "      <td>1.0</td>\n",
       "      <td>0.0</td>\n",
       "    </tr>\n",
       "    <tr>\n",
       "      <th>50%</th>\n",
       "      <td>8.0</td>\n",
       "      <td>4.0</td>\n",
       "      <td>7.0</td>\n",
       "      <td>1.0</td>\n",
       "      <td>1.0</td>\n",
       "      <td>1.0</td>\n",
       "      <td>1.0</td>\n",
       "    </tr>\n",
       "    <tr>\n",
       "      <th>75%</th>\n",
       "      <td>10.0</td>\n",
       "      <td>5.0</td>\n",
       "      <td>7.0</td>\n",
       "      <td>1.0</td>\n",
       "      <td>1.0</td>\n",
       "      <td>1.0</td>\n",
       "      <td>1.0</td>\n",
       "    </tr>\n",
       "    <tr>\n",
       "      <th>max</th>\n",
       "      <td>20.0</td>\n",
       "      <td>10.0</td>\n",
       "      <td>10.0</td>\n",
       "      <td>1.0</td>\n",
       "      <td>1.0</td>\n",
       "      <td>1.0</td>\n",
       "      <td>1.0</td>\n",
       "    </tr>\n",
       "  </tbody>\n",
       "</table>\n",
       "</div>"
      ],
      "text/plain": [
       "       difficulty  reward  duration   web  email  mobile  social\n",
       "count        10.0    10.0      10.0  10.0   10.0    10.0    10.0\n",
       "mean          8.0     4.0       6.0   1.0    1.0     1.0     1.0\n",
       "std           6.0     4.0       2.0   0.0    0.0     0.0     1.0\n",
       "min           0.0     0.0       3.0   0.0    1.0     0.0     0.0\n",
       "25%           5.0     2.0       5.0   1.0    1.0     1.0     0.0\n",
       "50%           8.0     4.0       7.0   1.0    1.0     1.0     1.0\n",
       "75%          10.0     5.0       7.0   1.0    1.0     1.0     1.0\n",
       "max          20.0    10.0      10.0   1.0    1.0     1.0     1.0"
      ]
     },
     "execution_count": 11,
     "metadata": {},
     "output_type": "execute_result"
    }
   ],
   "source": [
    "# Check the summary statistics for the numeric columns to see if we can reduce bit-sizes and identify possible outliers\n",
    "offers.describe().round()"
   ]
  },
  {
   "cell_type": "markdown",
   "id": "5bf6c62f-ab6a-4cee-a42c-4d4b5e79f031",
   "metadata": {},
   "source": [
    "It looks like the `difficulty`, `reward`, and `duration` column take integer values between 0 and 20. Therefore, I will reduce the bit-sizes for those column to the minimum bit-size to reduce memory usage and optimise efficiency. I will also change the `offer_type` column to category. I know it is a categorical column because of the data dictionary. In addition, there does not seem to be any outliers or unreasonable values for the numerical columns."
   ]
  },
  {
   "cell_type": "code",
   "execution_count": 12,
   "id": "51f22cab-d3af-40ee-ab70-2ceb229278e8",
   "metadata": {},
   "outputs": [],
   "source": [
    "# Reduce the bit-sizes of the numeric columns to save memory and optimise efficiency\n",
    "offers = offers.astype({\n",
    "    'difficulty': 'int8',\n",
    "    'reward': 'int8',\n",
    "    'duration': 'int8',\n",
    "    'offer_type': 'category'\n",
    "})"
   ]
  },
  {
   "cell_type": "code",
   "execution_count": 13,
   "id": "d2ef01c5-6c84-4c9f-a9d8-ae840e0c7c53",
   "metadata": {},
   "outputs": [
    {
     "name": "stdout",
     "output_type": "stream",
     "text": [
      "<class 'pandas.core.frame.DataFrame'>\n",
      "RangeIndex: 10 entries, 0 to 9\n",
      "Data columns (total 9 columns):\n",
      " #   Column      Non-Null Count  Dtype   \n",
      "---  ------      --------------  -----   \n",
      " 0   offer_id    10 non-null     object  \n",
      " 1   offer_type  10 non-null     category\n",
      " 2   difficulty  10 non-null     int8    \n",
      " 3   reward      10 non-null     int8    \n",
      " 4   duration    10 non-null     int8    \n",
      " 5   web         10 non-null     int8    \n",
      " 6   email       10 non-null     int8    \n",
      " 7   mobile      10 non-null     int8    \n",
      " 8   social      10 non-null     int8    \n",
      "dtypes: category(1), int8(7), object(1)\n",
      "memory usage: 1.3 KB\n"
     ]
    }
   ],
   "source": [
    "# Check to see if the changes occured\n",
    "offers.info(memory_usage='deep')"
   ]
  },
  {
   "cell_type": "code",
   "execution_count": 14,
   "id": "814de947-30dc-48f4-868d-527b003202cf",
   "metadata": {},
   "outputs": [
    {
     "data": {
      "text/plain": [
       "offer_id      0\n",
       "offer_type    0\n",
       "difficulty    0\n",
       "reward        0\n",
       "duration      0\n",
       "web           0\n",
       "email         0\n",
       "mobile        0\n",
       "social        0\n",
       "dtype: int64"
      ]
     },
     "execution_count": 14,
     "metadata": {},
     "output_type": "execute_result"
    }
   ],
   "source": [
    "# Check for any missing data\n",
    "offers.isna().sum()"
   ]
  },
  {
   "cell_type": "code",
   "execution_count": 15,
   "id": "caf49970-d563-45f3-8534-03872269cc93",
   "metadata": {},
   "outputs": [
    {
     "data": {
      "text/plain": [
       "['bogo', 'informational', 'discount']\n",
       "Categories (3, object): ['bogo', 'discount', 'informational']"
      ]
     },
     "execution_count": 15,
     "metadata": {},
     "output_type": "execute_result"
    }
   ],
   "source": [
    "# Check for any inconsistent text or typos, specifically in category columns\n",
    "offers['offer_type'].unique()"
   ]
  },
  {
   "cell_type": "code",
   "execution_count": 16,
   "id": "cfe6756a-bb10-40b8-a279-9dabbd21166e",
   "metadata": {},
   "outputs": [
    {
     "data": {
      "text/plain": [
       "0"
      ]
     },
     "execution_count": 16,
     "metadata": {},
     "output_type": "execute_result"
    }
   ],
   "source": [
    "# Check for any duplicate rows\n",
    "offers.duplicated().sum()"
   ]
  },
  {
   "cell_type": "code",
   "execution_count": 17,
   "id": "1f0c5ab9-f87b-4ec2-939b-160770e79946",
   "metadata": {},
   "outputs": [
    {
     "data": {
      "text/html": [
       "<div>\n",
       "<style scoped>\n",
       "    .dataframe tbody tr th:only-of-type {\n",
       "        vertical-align: middle;\n",
       "    }\n",
       "\n",
       "    .dataframe tbody tr th {\n",
       "        vertical-align: top;\n",
       "    }\n",
       "\n",
       "    .dataframe thead th {\n",
       "        text-align: right;\n",
       "    }\n",
       "</style>\n",
       "<table border=\"1\" class=\"dataframe\">\n",
       "  <thead>\n",
       "    <tr style=\"text-align: right;\">\n",
       "      <th></th>\n",
       "      <th>offer_id</th>\n",
       "      <th>offer_type</th>\n",
       "      <th>difficulty</th>\n",
       "      <th>reward</th>\n",
       "      <th>duration</th>\n",
       "      <th>web</th>\n",
       "      <th>email</th>\n",
       "      <th>mobile</th>\n",
       "      <th>social</th>\n",
       "    </tr>\n",
       "  </thead>\n",
       "  <tbody>\n",
       "    <tr>\n",
       "      <th>0</th>\n",
       "      <td>ae264e3637204a6fb9bb56bc8210ddfd</td>\n",
       "      <td>bogo</td>\n",
       "      <td>10</td>\n",
       "      <td>10</td>\n",
       "      <td>7</td>\n",
       "      <td>0</td>\n",
       "      <td>1</td>\n",
       "      <td>1</td>\n",
       "      <td>1</td>\n",
       "    </tr>\n",
       "    <tr>\n",
       "      <th>1</th>\n",
       "      <td>4d5c57ea9a6940dd891ad53e9dbe8da0</td>\n",
       "      <td>bogo</td>\n",
       "      <td>10</td>\n",
       "      <td>10</td>\n",
       "      <td>5</td>\n",
       "      <td>1</td>\n",
       "      <td>1</td>\n",
       "      <td>1</td>\n",
       "      <td>1</td>\n",
       "    </tr>\n",
       "    <tr>\n",
       "      <th>2</th>\n",
       "      <td>3f207df678b143eea3cee63160fa8bed</td>\n",
       "      <td>informational</td>\n",
       "      <td>0</td>\n",
       "      <td>0</td>\n",
       "      <td>4</td>\n",
       "      <td>1</td>\n",
       "      <td>1</td>\n",
       "      <td>1</td>\n",
       "      <td>0</td>\n",
       "    </tr>\n",
       "  </tbody>\n",
       "</table>\n",
       "</div>"
      ],
      "text/plain": [
       "                           offer_id     offer_type  difficulty  reward  \\\n",
       "0  ae264e3637204a6fb9bb56bc8210ddfd           bogo          10      10   \n",
       "1  4d5c57ea9a6940dd891ad53e9dbe8da0           bogo          10      10   \n",
       "2  3f207df678b143eea3cee63160fa8bed  informational           0       0   \n",
       "\n",
       "   duration  web  email  mobile  social  \n",
       "0         7    0      1       1       1  \n",
       "1         5    1      1       1       1  \n",
       "2         4    1      1       1       0  "
      ]
     },
     "execution_count": 17,
     "metadata": {},
     "output_type": "execute_result"
    }
   ],
   "source": [
    "# Here is the cleaned version of the offers table\n",
    "offers.head(3)"
   ]
  },
  {
   "cell_type": "markdown",
   "id": "de007972-43a9-44a8-8be9-64d904cb9d11",
   "metadata": {},
   "source": [
    "### `customers`"
   ]
  },
  {
   "cell_type": "code",
   "execution_count": 18,
   "id": "31d7e423-1c4f-461e-9832-349d18bf2b23",
   "metadata": {},
   "outputs": [
    {
     "name": "stdout",
     "output_type": "stream",
     "text": [
      "<class 'pandas.core.frame.DataFrame'>\n",
      "RangeIndex: 17000 entries, 0 to 16999\n",
      "Data columns (total 5 columns):\n",
      " #   Column            Non-Null Count  Dtype  \n",
      "---  ------            --------------  -----  \n",
      " 0   customer_id       17000 non-null  object \n",
      " 1   became_member_on  17000 non-null  int64  \n",
      " 2   gender            14825 non-null  object \n",
      " 3   age               17000 non-null  int64  \n",
      " 4   income            14825 non-null  float64\n",
      "dtypes: float64(1), int64(2), object(2)\n",
      "memory usage: 2.5 MB\n"
     ]
    }
   ],
   "source": [
    "# Check the data types, size, and memory usage of the customers data frame\n",
    "customers.info(memory_usage='deep')"
   ]
  },
  {
   "cell_type": "code",
   "execution_count": 19,
   "id": "5a91130a-5adf-45cd-916a-6b774ef41687",
   "metadata": {},
   "outputs": [
    {
     "data": {
      "text/html": [
       "<div>\n",
       "<style scoped>\n",
       "    .dataframe tbody tr th:only-of-type {\n",
       "        vertical-align: middle;\n",
       "    }\n",
       "\n",
       "    .dataframe tbody tr th {\n",
       "        vertical-align: top;\n",
       "    }\n",
       "\n",
       "    .dataframe thead th {\n",
       "        text-align: right;\n",
       "    }\n",
       "</style>\n",
       "<table border=\"1\" class=\"dataframe\">\n",
       "  <thead>\n",
       "    <tr style=\"text-align: right;\">\n",
       "      <th></th>\n",
       "      <th>became_member_on</th>\n",
       "      <th>age</th>\n",
       "      <th>income</th>\n",
       "    </tr>\n",
       "  </thead>\n",
       "  <tbody>\n",
       "    <tr>\n",
       "      <th>count</th>\n",
       "      <td>17000.0</td>\n",
       "      <td>17000.0</td>\n",
       "      <td>14825.0</td>\n",
       "    </tr>\n",
       "    <tr>\n",
       "      <th>mean</th>\n",
       "      <td>20167034.0</td>\n",
       "      <td>63.0</td>\n",
       "      <td>65405.0</td>\n",
       "    </tr>\n",
       "    <tr>\n",
       "      <th>std</th>\n",
       "      <td>11677.0</td>\n",
       "      <td>27.0</td>\n",
       "      <td>21598.0</td>\n",
       "    </tr>\n",
       "    <tr>\n",
       "      <th>min</th>\n",
       "      <td>20130729.0</td>\n",
       "      <td>18.0</td>\n",
       "      <td>30000.0</td>\n",
       "    </tr>\n",
       "    <tr>\n",
       "      <th>25%</th>\n",
       "      <td>20160526.0</td>\n",
       "      <td>45.0</td>\n",
       "      <td>49000.0</td>\n",
       "    </tr>\n",
       "    <tr>\n",
       "      <th>50%</th>\n",
       "      <td>20170802.0</td>\n",
       "      <td>58.0</td>\n",
       "      <td>64000.0</td>\n",
       "    </tr>\n",
       "    <tr>\n",
       "      <th>75%</th>\n",
       "      <td>20171230.0</td>\n",
       "      <td>73.0</td>\n",
       "      <td>80000.0</td>\n",
       "    </tr>\n",
       "    <tr>\n",
       "      <th>max</th>\n",
       "      <td>20180726.0</td>\n",
       "      <td>118.0</td>\n",
       "      <td>120000.0</td>\n",
       "    </tr>\n",
       "  </tbody>\n",
       "</table>\n",
       "</div>"
      ],
      "text/plain": [
       "       became_member_on      age    income\n",
       "count           17000.0  17000.0   14825.0\n",
       "mean         20167034.0     63.0   65405.0\n",
       "std             11677.0     27.0   21598.0\n",
       "min          20130729.0     18.0   30000.0\n",
       "25%          20160526.0     45.0   49000.0\n",
       "50%          20170802.0     58.0   64000.0\n",
       "75%          20171230.0     73.0   80000.0\n",
       "max          20180726.0    118.0  120000.0"
      ]
     },
     "execution_count": 19,
     "metadata": {},
     "output_type": "execute_result"
    }
   ],
   "source": [
    "# Check the summary statistics for the numeric columns to see if we can reduce bit-sizes and identify possible outliers\n",
    "customers.describe().round()"
   ]
  },
  {
   "cell_type": "markdown",
   "id": "521fb34d-57c6-4738-afc3-0789c919b4bd",
   "metadata": {},
   "source": [
    "It looks like the `age` column take integer values between 0 and 118 and `income` takes float values between 30000 and 120000. Therefore, I will reduce the bit-sizes for those columns to the minimum bit-size to reduce memory usage and optimise efficiency. I will also change the `gender` column to category. I know it is a categorical column because of the data dictionary. In addition, I will need to change the `became_member_on` to datetime data type. A possible outlier could be 118 in the `age` column. I will investigate this more later."
   ]
  },
  {
   "cell_type": "code",
   "execution_count": 20,
   "id": "1cf29c04-58e1-4260-95cb-f25ad6aaa17b",
   "metadata": {},
   "outputs": [],
   "source": [
    "# Convert the data types of the column in the wrong data type and reduce bit-sizes of numeric columns to save space\n",
    "customers = customers.astype({\n",
    "    'gender': 'category',\n",
    "    'age': 'int16',\n",
    "    'income': 'float32'\n",
    "})\n",
    "\n",
    "# Convert the became_member_on column to datetime dtype\n",
    "customers['became_member_on'] = pd.to_datetime(customers['became_member_on'], format='%Y%m%d')"
   ]
  },
  {
   "cell_type": "code",
   "execution_count": 21,
   "id": "3fff51a1-79ed-47da-b1d5-e18c6ba3cbdf",
   "metadata": {},
   "outputs": [
    {
     "name": "stdout",
     "output_type": "stream",
     "text": [
      "<class 'pandas.core.frame.DataFrame'>\n",
      "RangeIndex: 17000 entries, 0 to 16999\n",
      "Data columns (total 5 columns):\n",
      " #   Column            Non-Null Count  Dtype         \n",
      "---  ------            --------------  -----         \n",
      " 0   customer_id       17000 non-null  object        \n",
      " 1   became_member_on  17000 non-null  datetime64[ns]\n",
      " 2   gender            14825 non-null  category      \n",
      " 3   age               17000 non-null  int16         \n",
      " 4   income            14825 non-null  float32       \n",
      "dtypes: category(1), datetime64[ns](1), float32(1), int16(1), object(1)\n",
      "memory usage: 1.6 MB\n"
     ]
    }
   ],
   "source": [
    "# Check to see if the changes occured\n",
    "customers.info(memory_usage='deep')"
   ]
  },
  {
   "cell_type": "code",
   "execution_count": 22,
   "id": "2d1a76f7-fdf6-4124-9710-2bc3c235c072",
   "metadata": {},
   "outputs": [
    {
     "data": {
      "text/plain": [
       "customer_id            0\n",
       "became_member_on       0\n",
       "gender              2175\n",
       "age                    0\n",
       "income              2175\n",
       "dtype: int64"
      ]
     },
     "execution_count": 22,
     "metadata": {},
     "output_type": "execute_result"
    }
   ],
   "source": [
    "# Check for any missing data\n",
    "customers.isna().sum()"
   ]
  },
  {
   "cell_type": "code",
   "execution_count": 23,
   "id": "b2654cd7-fc7f-4f09-a540-502d5078fe9b",
   "metadata": {},
   "outputs": [
    {
     "data": {
      "text/html": [
       "<div>\n",
       "<style scoped>\n",
       "    .dataframe tbody tr th:only-of-type {\n",
       "        vertical-align: middle;\n",
       "    }\n",
       "\n",
       "    .dataframe tbody tr th {\n",
       "        vertical-align: top;\n",
       "    }\n",
       "\n",
       "    .dataframe thead th {\n",
       "        text-align: right;\n",
       "    }\n",
       "</style>\n",
       "<table border=\"1\" class=\"dataframe\">\n",
       "  <thead>\n",
       "    <tr style=\"text-align: right;\">\n",
       "      <th></th>\n",
       "      <th>customer_id</th>\n",
       "      <th>became_member_on</th>\n",
       "      <th>gender</th>\n",
       "      <th>age</th>\n",
       "      <th>income</th>\n",
       "    </tr>\n",
       "  </thead>\n",
       "  <tbody>\n",
       "    <tr>\n",
       "      <th>0</th>\n",
       "      <td>68be06ca386d4c31939f3a4f0e3dd783</td>\n",
       "      <td>2017-02-12</td>\n",
       "      <td>NaN</td>\n",
       "      <td>118</td>\n",
       "      <td>NaN</td>\n",
       "    </tr>\n",
       "    <tr>\n",
       "      <th>2</th>\n",
       "      <td>38fe809add3b4fcf9315a9694bb96ff5</td>\n",
       "      <td>2018-07-12</td>\n",
       "      <td>NaN</td>\n",
       "      <td>118</td>\n",
       "      <td>NaN</td>\n",
       "    </tr>\n",
       "    <tr>\n",
       "      <th>4</th>\n",
       "      <td>a03223e636434f42ac4c3df47e8bac43</td>\n",
       "      <td>2017-08-04</td>\n",
       "      <td>NaN</td>\n",
       "      <td>118</td>\n",
       "      <td>NaN</td>\n",
       "    </tr>\n",
       "    <tr>\n",
       "      <th>6</th>\n",
       "      <td>8ec6ce2a7e7949b1bf142def7d0e0586</td>\n",
       "      <td>2017-09-25</td>\n",
       "      <td>NaN</td>\n",
       "      <td>118</td>\n",
       "      <td>NaN</td>\n",
       "    </tr>\n",
       "    <tr>\n",
       "      <th>7</th>\n",
       "      <td>68617ca6246f4fbc85e91a2a49552598</td>\n",
       "      <td>2017-10-02</td>\n",
       "      <td>NaN</td>\n",
       "      <td>118</td>\n",
       "      <td>NaN</td>\n",
       "    </tr>\n",
       "  </tbody>\n",
       "</table>\n",
       "</div>"
      ],
      "text/plain": [
       "                        customer_id became_member_on gender  age  income\n",
       "0  68be06ca386d4c31939f3a4f0e3dd783       2017-02-12    NaN  118     NaN\n",
       "2  38fe809add3b4fcf9315a9694bb96ff5       2018-07-12    NaN  118     NaN\n",
       "4  a03223e636434f42ac4c3df47e8bac43       2017-08-04    NaN  118     NaN\n",
       "6  8ec6ce2a7e7949b1bf142def7d0e0586       2017-09-25    NaN  118     NaN\n",
       "7  68617ca6246f4fbc85e91a2a49552598       2017-10-02    NaN  118     NaN"
      ]
     },
     "execution_count": 23,
     "metadata": {},
     "output_type": "execute_result"
    }
   ],
   "source": [
    "# Investigate the rows that have missing values\n",
    "customers_nan_rows = customers[customers.isna().any(axis=1)]\n",
    "customers_nan_rows.head()"
   ]
  },
  {
   "cell_type": "code",
   "execution_count": 24,
   "id": "640b4769-b01e-4ccf-aa42-ae8078668dcc",
   "metadata": {},
   "outputs": [
    {
     "data": {
      "text/plain": [
       "2175"
      ]
     },
     "execution_count": 24,
     "metadata": {},
     "output_type": "execute_result"
    }
   ],
   "source": [
    "# Check to see how many rows have values missing\n",
    "len(customers_nan_rows)"
   ]
  },
  {
   "cell_type": "code",
   "execution_count": 25,
   "id": "28fd2dea-9808-4cc2-b7dc-7eb63b164d2a",
   "metadata": {},
   "outputs": [
    {
     "data": {
      "text/plain": [
       "array([118], dtype=int16)"
      ]
     },
     "execution_count": 25,
     "metadata": {},
     "output_type": "execute_result"
    }
   ],
   "source": [
    "# Check the ages of all the missing values\n",
    "customers_nan_rows['age'].unique()"
   ]
  },
  {
   "cell_type": "code",
   "execution_count": 26,
   "id": "1d823a2d-79f7-48a0-9b07-bdce1432e620",
   "metadata": {},
   "outputs": [
    {
     "data": {
      "text/plain": [
       "2175"
      ]
     },
     "execution_count": 26,
     "metadata": {},
     "output_type": "execute_result"
    }
   ],
   "source": [
    "# Check how many 118 values there are in the age column\n",
    "(customers['age'] == 118).sum()"
   ]
  },
  {
   "cell_type": "code",
   "execution_count": 27,
   "id": "26090ad5-22ea-45fb-9336-afb99c3ccd54",
   "metadata": {},
   "outputs": [
    {
     "data": {
      "text/plain": [
       "12.794117647058822"
      ]
     },
     "execution_count": 27,
     "metadata": {},
     "output_type": "execute_result"
    }
   ],
   "source": [
    "# Check the % of missing data\n",
    "(len(customers_nan_rows) / len(customers)) * 100"
   ]
  },
  {
   "cell_type": "code",
   "execution_count": 28,
   "id": "43fa2eaa-dae2-45b9-83db-9779c1595911",
   "metadata": {},
   "outputs": [
    {
     "data": {
      "image/png": "[encoded data removed]",
      "text/plain": [
       "<Figure size 640x480 with 1 Axes>"
      ]
     },
     "metadata": {},
     "output_type": "display_data"
    }
   ],
   "source": [
    "# Check the distribution of the age column\n",
    "customers['age'].hist();"
   ]
  },
  {
   "cell_type": "markdown",
   "id": "a67a2304-2230-4414-8ca8-aad9cde6476b",
   "metadata": {},
   "source": [
    "In `customers`, there are 2175 missing values each for both the `gender` and `income` columns. These missing values all occur in the same rows, meaning that there are 2175 rows that miss both the `gender` and `income` values. In addition, each one of these rows has `118` for its value for `age`, indicating that this is a placeholder for missing information. Moreover, it is skewing the distribution for the `age` column, so we will change these values to `np.NaN` values. Even though the rows with missing values make up 12.8% of our data, I will leave all the missing values as is for now so we do not lose any info when we join the tables later."
   ]
  },
  {
   "cell_type": "code",
   "execution_count": 29,
   "id": "c8e56c58-ac45-4de6-b7e4-bb812dc686a8",
   "metadata": {},
   "outputs": [],
   "source": [
    "# Replace the values of 118 in the age column with np.NaN values\n",
    "customers['age'] = customers['age'].replace({118: np.NaN})"
   ]
  },
  {
   "cell_type": "code",
   "execution_count": 30,
   "id": "8c422c33-64dd-4a8c-8828-07ce272e7d2f",
   "metadata": {},
   "outputs": [
    {
     "data": {
      "text/plain": [
       "0"
      ]
     },
     "execution_count": 30,
     "metadata": {},
     "output_type": "execute_result"
    }
   ],
   "source": [
    "# Check for dupilcate rows\n",
    "customers.duplicated().sum()"
   ]
  },
  {
   "cell_type": "code",
   "execution_count": 31,
   "id": "c3fc749d-c60e-4a25-ac70-582b9dda00df",
   "metadata": {},
   "outputs": [
    {
     "data": {
      "text/html": [
       "<div>\n",
       "<style scoped>\n",
       "    .dataframe tbody tr th:only-of-type {\n",
       "        vertical-align: middle;\n",
       "    }\n",
       "\n",
       "    .dataframe tbody tr th {\n",
       "        vertical-align: top;\n",
       "    }\n",
       "\n",
       "    .dataframe thead th {\n",
       "        text-align: right;\n",
       "    }\n",
       "</style>\n",
       "<table border=\"1\" class=\"dataframe\">\n",
       "  <thead>\n",
       "    <tr style=\"text-align: right;\">\n",
       "      <th></th>\n",
       "      <th>customer_id</th>\n",
       "      <th>became_member_on</th>\n",
       "      <th>gender</th>\n",
       "      <th>age</th>\n",
       "      <th>income</th>\n",
       "    </tr>\n",
       "  </thead>\n",
       "  <tbody>\n",
       "    <tr>\n",
       "      <th>0</th>\n",
       "      <td>68be06ca386d4c31939f3a4f0e3dd783</td>\n",
       "      <td>2017-02-12</td>\n",
       "      <td>NaN</td>\n",
       "      <td>NaN</td>\n",
       "      <td>NaN</td>\n",
       "    </tr>\n",
       "    <tr>\n",
       "      <th>1</th>\n",
       "      <td>0610b486422d4921ae7d2bf64640c50b</td>\n",
       "      <td>2017-07-15</td>\n",
       "      <td>F</td>\n",
       "      <td>55.0</td>\n",
       "      <td>112000.0</td>\n",
       "    </tr>\n",
       "    <tr>\n",
       "      <th>2</th>\n",
       "      <td>38fe809add3b4fcf9315a9694bb96ff5</td>\n",
       "      <td>2018-07-12</td>\n",
       "      <td>NaN</td>\n",
       "      <td>NaN</td>\n",
       "      <td>NaN</td>\n",
       "    </tr>\n",
       "  </tbody>\n",
       "</table>\n",
       "</div>"
      ],
      "text/plain": [
       "                        customer_id became_member_on gender   age    income\n",
       "0  68be06ca386d4c31939f3a4f0e3dd783       2017-02-12    NaN   NaN       NaN\n",
       "1  0610b486422d4921ae7d2bf64640c50b       2017-07-15      F  55.0  112000.0\n",
       "2  38fe809add3b4fcf9315a9694bb96ff5       2018-07-12    NaN   NaN       NaN"
      ]
     },
     "execution_count": 31,
     "metadata": {},
     "output_type": "execute_result"
    }
   ],
   "source": [
    "# Here is the cleaned version of the customers table\n",
    "customers.head(3)"
   ]
  },
  {
   "cell_type": "markdown",
   "id": "4ee2ba9f-bb4d-41b8-8620-53c9131bb793",
   "metadata": {},
   "source": [
    "### `events`\n",
    "The `events` table has a column called `value` that is in the form of dictionaries. Since Pandas does not work overally well with dictionaries as values, I will seperate the keys and values into seperate columns."
   ]
  },
  {
   "cell_type": "code",
   "execution_count": 32,
   "id": "cf1fbe44-2e2b-446c-b1f6-c677f7fe1dca",
   "metadata": {},
   "outputs": [],
   "source": [
    "# Turn channels column into dict type\n",
    "events['value'] = events['value'].apply(literal_eval)\n",
    "\n",
    "# Create a series that holds the dictionary keys as a list\n",
    "value_keys = events['value'].apply(lambda dict: list(dict.keys()))\n",
    "\n",
    "# Create a series that holds the dictionary values as a list\n",
    "value_values = events['value'].apply(lambda dict: list(dict.values()))"
   ]
  },
  {
   "cell_type": "code",
   "execution_count": 33,
   "id": "24d7c628-b960-4320-8da3-17b87543868a",
   "metadata": {},
   "outputs": [
    {
     "data": {
      "text/plain": [
       "value\n",
       "[amount]              138953\n",
       "[offer id]            134002\n",
       "[offer_id, reward]     33579\n",
       "Name: count, dtype: int64"
      ]
     },
     "execution_count": 33,
     "metadata": {},
     "output_type": "execute_result"
    }
   ],
   "source": [
    "# Check to see what values are in the dictionaries by checking the different possible keys.\n",
    "value_keys.value_counts()"
   ]
  },
  {
   "cell_type": "markdown",
   "id": "0890679e-10f3-481d-9821-248e8875f542",
   "metadata": {},
   "source": [
    "It looks like the `value` column has three different types of keys, which are `amount`, `offer_id`/`offer id`, and `reward`. Upon further investigation that I will omit here, the `value` values that have `amount` as their key are `transaction` events, the `value` values that just have `offer_id`/`offer id` as their key are `offer received` and `offer viewed` events, and `value` values that have both `offer_id` and `reward` as their keys are `offer completed` events. Hence, I will now create columns for these individual keys and corresponding values. However, for reward, I will just create a column called `reward` and fill it with the value or `NaN`."
   ]
  },
  {
   "cell_type": "code",
   "execution_count": 34,
   "id": "d9d2a071-ee64-43eb-9c2e-b2a2deb8383f",
   "metadata": {},
   "outputs": [],
   "source": [
    "# Create a column that hold the value key (either amount or offer id/offer_id)\n",
    "events['value_key'] = value_keys.apply(lambda lst: lst[0])\n",
    "\n",
    "# Create a column that holds the value value (either the amount or the offer id/offer_id)\n",
    "events['value'] = value_values.apply(lambda lst: lst[0])\n",
    "\n",
    "#Create a column that holds the reward value if it exists\n",
    "events['reward'] = value_values.apply(lambda lst: lst[1] if len(lst) == 2 else np.NaN)"
   ]
  },
  {
   "cell_type": "markdown",
   "id": "026a272f-0586-4804-b3c8-6990ae9b0422",
   "metadata": {},
   "source": [
    "I will now change the `time` column into more informative columns. The time column shows the number of hours passed in the 30 day period. Hence, I will make a column for the day and a column for the hour of that day. I also descovered, for reasons I can not explain, that the hours are rounded to the nearest multiple of six. Luckily, this makes no significant changes to my analysis."
   ]
  },
  {
   "cell_type": "code",
   "execution_count": 35,
   "id": "990c6adf-3b77-483e-9dbd-9d94c2b6c411",
   "metadata": {},
   "outputs": [],
   "source": [
    "# Turn the time column into two columns that is the day number and hour of that day\n",
    "events['day'] = events['time'] // 24\n",
    "events['hour'] = events['time'] % 24\n",
    "\n",
    "# Drop the original time column\n",
    "# events = events.drop('time', axis=1)"
   ]
  },
  {
   "cell_type": "code",
   "execution_count": 36,
   "id": "d38a4df4-81e4-4a02-8f36-01d3083648e7",
   "metadata": {},
   "outputs": [
    {
     "name": "stdout",
     "output_type": "stream",
     "text": [
      "<class 'pandas.core.frame.DataFrame'>\n",
      "RangeIndex: 306534 entries, 0 to 306533\n",
      "Data columns (total 8 columns):\n",
      " #   Column       Non-Null Count   Dtype  \n",
      "---  ------       --------------   -----  \n",
      " 0   customer_id  306534 non-null  object \n",
      " 1   event        306534 non-null  object \n",
      " 2   value        306534 non-null  object \n",
      " 3   time         306534 non-null  int64  \n",
      " 4   value_key    306534 non-null  object \n",
      " 5   reward       33579 non-null   float64\n",
      " 6   day          306534 non-null  int64  \n",
      " 7   hour         306534 non-null  int64  \n",
      "dtypes: float64(1), int64(3), object(4)\n",
      "memory usage: 84.6 MB\n"
     ]
    }
   ],
   "source": [
    "# Check the data types, size, and memory usage of the events table\n",
    "events.info(memory_usage='deep')"
   ]
  },
  {
   "cell_type": "code",
   "execution_count": 37,
   "id": "5e4705ea-89f2-4ce5-9cb3-12e7605f1f2f",
   "metadata": {},
   "outputs": [
    {
     "data": {
      "text/html": [
       "<div>\n",
       "<style scoped>\n",
       "    .dataframe tbody tr th:only-of-type {\n",
       "        vertical-align: middle;\n",
       "    }\n",
       "\n",
       "    .dataframe tbody tr th {\n",
       "        vertical-align: top;\n",
       "    }\n",
       "\n",
       "    .dataframe thead th {\n",
       "        text-align: right;\n",
       "    }\n",
       "</style>\n",
       "<table border=\"1\" class=\"dataframe\">\n",
       "  <thead>\n",
       "    <tr style=\"text-align: right;\">\n",
       "      <th></th>\n",
       "      <th>time</th>\n",
       "      <th>reward</th>\n",
       "      <th>day</th>\n",
       "      <th>hour</th>\n",
       "    </tr>\n",
       "  </thead>\n",
       "  <tbody>\n",
       "    <tr>\n",
       "      <th>count</th>\n",
       "      <td>306534.0</td>\n",
       "      <td>33579.0</td>\n",
       "      <td>306534.0</td>\n",
       "      <td>306534.0</td>\n",
       "    </tr>\n",
       "    <tr>\n",
       "      <th>mean</th>\n",
       "      <td>366.0</td>\n",
       "      <td>5.0</td>\n",
       "      <td>15.0</td>\n",
       "      <td>6.0</td>\n",
       "    </tr>\n",
       "    <tr>\n",
       "      <th>std</th>\n",
       "      <td>200.0</td>\n",
       "      <td>3.0</td>\n",
       "      <td>8.0</td>\n",
       "      <td>7.0</td>\n",
       "    </tr>\n",
       "    <tr>\n",
       "      <th>min</th>\n",
       "      <td>0.0</td>\n",
       "      <td>2.0</td>\n",
       "      <td>0.0</td>\n",
       "      <td>0.0</td>\n",
       "    </tr>\n",
       "    <tr>\n",
       "      <th>25%</th>\n",
       "      <td>186.0</td>\n",
       "      <td>2.0</td>\n",
       "      <td>7.0</td>\n",
       "      <td>0.0</td>\n",
       "    </tr>\n",
       "    <tr>\n",
       "      <th>50%</th>\n",
       "      <td>408.0</td>\n",
       "      <td>5.0</td>\n",
       "      <td>17.0</td>\n",
       "      <td>6.0</td>\n",
       "    </tr>\n",
       "    <tr>\n",
       "      <th>75%</th>\n",
       "      <td>528.0</td>\n",
       "      <td>5.0</td>\n",
       "      <td>22.0</td>\n",
       "      <td>12.0</td>\n",
       "    </tr>\n",
       "    <tr>\n",
       "      <th>max</th>\n",
       "      <td>714.0</td>\n",
       "      <td>10.0</td>\n",
       "      <td>29.0</td>\n",
       "      <td>18.0</td>\n",
       "    </tr>\n",
       "  </tbody>\n",
       "</table>\n",
       "</div>"
      ],
      "text/plain": [
       "           time   reward       day      hour\n",
       "count  306534.0  33579.0  306534.0  306534.0\n",
       "mean      366.0      5.0      15.0       6.0\n",
       "std       200.0      3.0       8.0       7.0\n",
       "min         0.0      2.0       0.0       0.0\n",
       "25%       186.0      2.0       7.0       0.0\n",
       "50%       408.0      5.0      17.0       6.0\n",
       "75%       528.0      5.0      22.0      12.0\n",
       "max       714.0     10.0      29.0      18.0"
      ]
     },
     "execution_count": 37,
     "metadata": {},
     "output_type": "execute_result"
    }
   ],
   "source": [
    "# Check the summary statistics for the numeric columns to see if we can reduce bit-sizes and identify possible outliers\n",
    "events.describe().round()"
   ]
  },
  {
   "cell_type": "code",
   "execution_count": 38,
   "id": "941b17dd-c810-4c22-a47e-e4ac702c9906",
   "metadata": {},
   "outputs": [
    {
     "data": {
      "text/plain": [
       "event\n",
       "transaction        138953\n",
       "offer received      76277\n",
       "offer viewed        57725\n",
       "offer completed     33579\n",
       "Name: count, dtype: int64"
      ]
     },
     "execution_count": 38,
     "metadata": {},
     "output_type": "execute_result"
    }
   ],
   "source": [
    "# Check if the event column is categorical and if there is any inconsistent text or typos \n",
    "events['event'].value_counts()"
   ]
  },
  {
   "cell_type": "code",
   "execution_count": 39,
   "id": "311572aa-ee73-4963-8301-5a62a205924b",
   "metadata": {},
   "outputs": [
    {
     "data": {
      "text/plain": [
       "value_key\n",
       "amount      138953\n",
       "offer id    134002\n",
       "offer_id     33579\n",
       "Name: count, dtype: int64"
      ]
     },
     "execution_count": 39,
     "metadata": {},
     "output_type": "execute_result"
    }
   ],
   "source": [
    "# Check if the value_key column is categorical and if there is any inconsistent text or typos \n",
    "events['value_key'].value_counts()"
   ]
  },
  {
   "cell_type": "code",
   "execution_count": 40,
   "id": "a98c2337-b5cf-4c57-ba05-8eb57cd956b3",
   "metadata": {},
   "outputs": [],
   "source": [
    "# Fix the inconsitent text\n",
    "events['value_key'] = events['value_key'].replace({'offer_id': 'offer id'})"
   ]
  },
  {
   "cell_type": "code",
   "execution_count": 41,
   "id": "62a9bb9d-2e21-4fdc-ba50-e40e92131de6",
   "metadata": {},
   "outputs": [
    {
     "data": {
      "text/plain": [
       "value_key\n",
       "offer id    167581\n",
       "amount      138953\n",
       "Name: count, dtype: int64"
      ]
     },
     "execution_count": 41,
     "metadata": {},
     "output_type": "execute_result"
    }
   ],
   "source": [
    "# Check to see if the inconsitent text was fixed\n",
    "events['value_key'].value_counts()"
   ]
  },
  {
   "cell_type": "code",
   "execution_count": 42,
   "id": "51e49b41-6aa1-4856-9e85-eeefa516f9dd",
   "metadata": {},
   "outputs": [],
   "source": [
    "# Convert the data types of the column in the wrong data type and reduce bit-sizes of numeric columns to save space\n",
    "events = events.astype({\n",
    "    'event': 'category',\n",
    "    'value_key': 'category',\n",
    "    'reward': 'float32',\n",
    "    'day': 'int8',\n",
    "    'hour': 'int8'\n",
    "})"
   ]
  },
  {
   "cell_type": "code",
   "execution_count": 43,
   "id": "4a1fc960-f708-4dda-b0ac-31eb8d78114a",
   "metadata": {},
   "outputs": [
    {
     "name": "stdout",
     "output_type": "stream",
     "text": [
      "<class 'pandas.core.frame.DataFrame'>\n",
      "RangeIndex: 306534 entries, 0 to 306533\n",
      "Data columns (total 8 columns):\n",
      " #   Column       Non-Null Count   Dtype   \n",
      "---  ------       --------------   -----   \n",
      " 0   customer_id  306534 non-null  object  \n",
      " 1   event        306534 non-null  category\n",
      " 2   value        306534 non-null  object  \n",
      " 3   time         306534 non-null  int64   \n",
      " 4   value_key    306534 non-null  category\n",
      " 5   reward       33579 non-null   float32 \n",
      " 6   day          306534 non-null  int8    \n",
      " 7   hour         306534 non-null  int8    \n",
      "dtypes: category(2), float32(1), int64(1), int8(2), object(2)\n",
      "memory usage: 45.5 MB\n"
     ]
    }
   ],
   "source": [
    "# Check to see if the changes occured\n",
    "events.info(memory_usage='deep')"
   ]
  },
  {
   "cell_type": "code",
   "execution_count": 44,
   "id": "461f4305-b4a2-4733-aeb7-97b430489986",
   "metadata": {},
   "outputs": [
    {
     "data": {
      "text/plain": [
       "customer_id         0\n",
       "event               0\n",
       "value               0\n",
       "time                0\n",
       "value_key           0\n",
       "reward         272955\n",
       "day                 0\n",
       "hour                0\n",
       "dtype: int64"
      ]
     },
     "execution_count": 44,
     "metadata": {},
     "output_type": "execute_result"
    }
   ],
   "source": [
    "# Check for missing values\n",
    "events.isna().sum()"
   ]
  },
  {
   "cell_type": "markdown",
   "id": "be074136-3b45-44d0-8f12-5036b0287a4f",
   "metadata": {},
   "source": [
    "These missing values are a reflection of the amount of events in the table that are not `offer completed`. Therefore we want these values to remain missing."
   ]
  },
  {
   "cell_type": "code",
   "execution_count": 45,
   "id": "b7310802-aa63-40e8-a777-bf92d8d9b1f5",
   "metadata": {},
   "outputs": [
    {
     "data": {
      "text/plain": [
       "397"
      ]
     },
     "execution_count": 45,
     "metadata": {},
     "output_type": "execute_result"
    }
   ],
   "source": [
    "# Check for duplicate rows\n",
    "events.duplicated().sum()"
   ]
  },
  {
   "cell_type": "code",
   "execution_count": 46,
   "id": "bf82fce3-f411-4f6b-830e-26dc5a6d6578",
   "metadata": {},
   "outputs": [
    {
     "data": {
      "text/html": [
       "<div>\n",
       "<style scoped>\n",
       "    .dataframe tbody tr th:only-of-type {\n",
       "        vertical-align: middle;\n",
       "    }\n",
       "\n",
       "    .dataframe tbody tr th {\n",
       "        vertical-align: top;\n",
       "    }\n",
       "\n",
       "    .dataframe thead th {\n",
       "        text-align: right;\n",
       "    }\n",
       "</style>\n",
       "<table border=\"1\" class=\"dataframe\">\n",
       "  <thead>\n",
       "    <tr style=\"text-align: right;\">\n",
       "      <th></th>\n",
       "      <th>customer_id</th>\n",
       "      <th>event</th>\n",
       "      <th>value</th>\n",
       "      <th>time</th>\n",
       "      <th>value_key</th>\n",
       "      <th>reward</th>\n",
       "      <th>day</th>\n",
       "      <th>hour</th>\n",
       "    </tr>\n",
       "  </thead>\n",
       "  <tbody>\n",
       "    <tr>\n",
       "      <th>66123</th>\n",
       "      <td>3dde94fa581145cb9f206624f1a94d5a</td>\n",
       "      <td>offer completed</td>\n",
       "      <td>2906b810c7d4411798c6938adc9daaa5</td>\n",
       "      <td>168</td>\n",
       "      <td>offer id</td>\n",
       "      <td>2.0</td>\n",
       "      <td>7</td>\n",
       "      <td>0</td>\n",
       "    </tr>\n",
       "    <tr>\n",
       "      <th>66783</th>\n",
       "      <td>e9fb6ed2cecb4980ba98c86abc9c91e3</td>\n",
       "      <td>offer completed</td>\n",
       "      <td>ae264e3637204a6fb9bb56bc8210ddfd</td>\n",
       "      <td>168</td>\n",
       "      <td>offer id</td>\n",
       "      <td>10.0</td>\n",
       "      <td>7</td>\n",
       "      <td>0</td>\n",
       "    </tr>\n",
       "    <tr>\n",
       "      <th>67614</th>\n",
       "      <td>a7dc060f6fc94ca7bf71fbb188187dca</td>\n",
       "      <td>offer completed</td>\n",
       "      <td>9b98b8c7a33c4b65b9aebfe6a799e6d9</td>\n",
       "      <td>168</td>\n",
       "      <td>offer id</td>\n",
       "      <td>5.0</td>\n",
       "      <td>7</td>\n",
       "      <td>0</td>\n",
       "    </tr>\n",
       "    <tr>\n",
       "      <th>68562</th>\n",
       "      <td>30478a4c1e884a63a822aa87b833ed7a</td>\n",
       "      <td>offer completed</td>\n",
       "      <td>2298d6c36e964ae4a3e7e9706d1fb8c2</td>\n",
       "      <td>168</td>\n",
       "      <td>offer id</td>\n",
       "      <td>3.0</td>\n",
       "      <td>7</td>\n",
       "      <td>0</td>\n",
       "    </tr>\n",
       "    <tr>\n",
       "      <th>69218</th>\n",
       "      <td>84fb57a7fe8045a8bf6236738ee73a0f</td>\n",
       "      <td>offer completed</td>\n",
       "      <td>ae264e3637204a6fb9bb56bc8210ddfd</td>\n",
       "      <td>168</td>\n",
       "      <td>offer id</td>\n",
       "      <td>10.0</td>\n",
       "      <td>7</td>\n",
       "      <td>0</td>\n",
       "    </tr>\n",
       "  </tbody>\n",
       "</table>\n",
       "</div>"
      ],
      "text/plain": [
       "                            customer_id            event  \\\n",
       "66123  3dde94fa581145cb9f206624f1a94d5a  offer completed   \n",
       "66783  e9fb6ed2cecb4980ba98c86abc9c91e3  offer completed   \n",
       "67614  a7dc060f6fc94ca7bf71fbb188187dca  offer completed   \n",
       "68562  30478a4c1e884a63a822aa87b833ed7a  offer completed   \n",
       "69218  84fb57a7fe8045a8bf6236738ee73a0f  offer completed   \n",
       "\n",
       "                                  value  time value_key  reward  day  hour  \n",
       "66123  2906b810c7d4411798c6938adc9daaa5   168  offer id     2.0    7     0  \n",
       "66783  ae264e3637204a6fb9bb56bc8210ddfd   168  offer id    10.0    7     0  \n",
       "67614  9b98b8c7a33c4b65b9aebfe6a799e6d9   168  offer id     5.0    7     0  \n",
       "68562  2298d6c36e964ae4a3e7e9706d1fb8c2   168  offer id     3.0    7     0  \n",
       "69218  ae264e3637204a6fb9bb56bc8210ddfd   168  offer id    10.0    7     0  "
      ]
     },
     "execution_count": 46,
     "metadata": {},
     "output_type": "execute_result"
    }
   ],
   "source": [
    "# Investigate the duplicate rows\n",
    "events_dup_rows = events[events.duplicated()]\n",
    "events_dup_rows.head()"
   ]
  },
  {
   "cell_type": "code",
   "execution_count": 47,
   "id": "7f263a6f-77fd-4df8-850a-f5fa825fc584",
   "metadata": {},
   "outputs": [
    {
     "data": {
      "text/plain": [
       "['offer completed']\n",
       "Categories (4, object): ['offer completed', 'offer received', 'offer viewed', 'transaction']"
      ]
     },
     "execution_count": 47,
     "metadata": {},
     "output_type": "execute_result"
    }
   ],
   "source": [
    "# Investigate the event types of the duplicate rows\n",
    "events_dup_rows['event'].unique()"
   ]
  },
  {
   "cell_type": "code",
   "execution_count": 48,
   "id": "464f26f0-9ada-42e1-94bd-ad510ace63e0",
   "metadata": {},
   "outputs": [
    {
     "data": {
      "text/plain": [
       "['discount', 'bogo']\n",
       "Categories (3, object): ['bogo', 'discount', 'informational']"
      ]
     },
     "execution_count": 48,
     "metadata": {},
     "output_type": "execute_result"
    }
   ],
   "source": [
    "# Investigate the offer types of duplicate rows\n",
    "events_dup_rows.merge(offers, how='inner', left_on='value', right_on='offer_id')['offer_type'].unique()"
   ]
  },
  {
   "cell_type": "markdown",
   "id": "d2840692-826e-464f-83c1-77d6913e59b7",
   "metadata": {},
   "source": [
    "The only consitency with all the duplicate values in the `events` table is that they are all `offer completed` events. There will be no analysis on duplicate rows in our analysis. So I will delete them."
   ]
  },
  {
   "cell_type": "code",
   "execution_count": 49,
   "id": "21e538a9-3d2b-47de-b152-1c26877d34a5",
   "metadata": {},
   "outputs": [],
   "source": [
    "# Drop the duplicates in the events table\n",
    "events = events.drop_duplicates()"
   ]
  },
  {
   "cell_type": "markdown",
   "id": "33749b53-9931-4b6a-b0c5-dbb28d3f3008",
   "metadata": {},
   "source": [
    "Since the `events` table has has four distinct events. It seems benificial to break up the `events` table into the four distinct tables and clean the now seperate tables accordingly"
   ]
  },
  {
   "cell_type": "code",
   "execution_count": 50,
   "id": "d47062c3-2684-4091-abc0-bbbb33c432d6",
   "metadata": {},
   "outputs": [],
   "source": [
    "# Divide the events table into each event type\n",
    "def divide_table(event):\n",
    "    filtered_table = events[events['event'] == event]\n",
    "    filtered_table = filtered_table.drop('event', axis=1)\n",
    "    if event == 'offer completed':\n",
    "        filtered_table = filtered_table.drop('value_key', axis=1).rename({'value': 'offer_id'}, axis=1)\n",
    "    elif event == 'transaction':\n",
    "        filtered_table = filtered_table.drop(['reward', 'value_key'], axis=1).rename({'value': 'amount'}, axis=1)\n",
    "    else:\n",
    "        filtered_table = filtered_table.drop(['reward', 'value_key'], axis=1).rename({'value': 'offer_id'}, axis=1)\n",
    "    return filtered_table\n",
    "\n",
    "offers_completed = divide_table('offer completed')\n",
    "offers_received = divide_table('offer received')\n",
    "offers_viewed = divide_table('offer viewed')\n",
    "transactions = divide_table('transaction')"
   ]
  },
  {
   "cell_type": "code",
   "execution_count": 51,
   "id": "e1a50e63-8545-457c-87f4-38511bcaaf20",
   "metadata": {},
   "outputs": [
    {
     "data": {
      "text/html": [
       "<div>\n",
       "<style scoped>\n",
       "    .dataframe tbody tr th:only-of-type {\n",
       "        vertical-align: middle;\n",
       "    }\n",
       "\n",
       "    .dataframe tbody tr th {\n",
       "        vertical-align: top;\n",
       "    }\n",
       "\n",
       "    .dataframe thead th {\n",
       "        text-align: right;\n",
       "    }\n",
       "</style>\n",
       "<table border=\"1\" class=\"dataframe\">\n",
       "  <thead>\n",
       "    <tr style=\"text-align: right;\">\n",
       "      <th></th>\n",
       "      <th>customer_id</th>\n",
       "      <th>offer_id</th>\n",
       "      <th>time</th>\n",
       "      <th>reward</th>\n",
       "      <th>day</th>\n",
       "      <th>hour</th>\n",
       "    </tr>\n",
       "  </thead>\n",
       "  <tbody>\n",
       "    <tr>\n",
       "      <th>12658</th>\n",
       "      <td>9fa9ae8f57894cc9a3b8a9bbe0fc1b2f</td>\n",
       "      <td>2906b810c7d4411798c6938adc9daaa5</td>\n",
       "      <td>0</td>\n",
       "      <td>2.0</td>\n",
       "      <td>0</td>\n",
       "      <td>0</td>\n",
       "    </tr>\n",
       "    <tr>\n",
       "      <th>12672</th>\n",
       "      <td>fe97aa22dd3e48c8b143116a8403dd52</td>\n",
       "      <td>fafdcd668e3743c1bb461111dcafc2a4</td>\n",
       "      <td>0</td>\n",
       "      <td>2.0</td>\n",
       "      <td>0</td>\n",
       "      <td>0</td>\n",
       "    </tr>\n",
       "    <tr>\n",
       "      <th>12679</th>\n",
       "      <td>629fc02d56414d91bca360decdfa9288</td>\n",
       "      <td>9b98b8c7a33c4b65b9aebfe6a799e6d9</td>\n",
       "      <td>0</td>\n",
       "      <td>5.0</td>\n",
       "      <td>0</td>\n",
       "      <td>0</td>\n",
       "    </tr>\n",
       "  </tbody>\n",
       "</table>\n",
       "</div>"
      ],
      "text/plain": [
       "                            customer_id                          offer_id  \\\n",
       "12658  9fa9ae8f57894cc9a3b8a9bbe0fc1b2f  2906b810c7d4411798c6938adc9daaa5   \n",
       "12672  fe97aa22dd3e48c8b143116a8403dd52  fafdcd668e3743c1bb461111dcafc2a4   \n",
       "12679  629fc02d56414d91bca360decdfa9288  9b98b8c7a33c4b65b9aebfe6a799e6d9   \n",
       "\n",
       "       time  reward  day  hour  \n",
       "12658     0     2.0    0     0  \n",
       "12672     0     2.0    0     0  \n",
       "12679     0     5.0    0     0  "
      ]
     },
     "execution_count": 51,
     "metadata": {},
     "output_type": "execute_result"
    }
   ],
   "source": [
    "# Here are the cleaned offers_completed events from the events table\n",
    "offers_completed.head(3)"
   ]
  },
  {
   "cell_type": "code",
   "execution_count": 52,
   "id": "fe8a8f5d-5c0d-4111-9280-4f5bd8cea5f5",
   "metadata": {},
   "outputs": [
    {
     "data": {
      "text/html": [
       "<div>\n",
       "<style scoped>\n",
       "    .dataframe tbody tr th:only-of-type {\n",
       "        vertical-align: middle;\n",
       "    }\n",
       "\n",
       "    .dataframe tbody tr th {\n",
       "        vertical-align: top;\n",
       "    }\n",
       "\n",
       "    .dataframe thead th {\n",
       "        text-align: right;\n",
       "    }\n",
       "</style>\n",
       "<table border=\"1\" class=\"dataframe\">\n",
       "  <thead>\n",
       "    <tr style=\"text-align: right;\">\n",
       "      <th></th>\n",
       "      <th>customer_id</th>\n",
       "      <th>offer_id</th>\n",
       "      <th>time</th>\n",
       "      <th>day</th>\n",
       "      <th>hour</th>\n",
       "    </tr>\n",
       "  </thead>\n",
       "  <tbody>\n",
       "    <tr>\n",
       "      <th>0</th>\n",
       "      <td>78afa995795e4d85b5d9ceeca43f5fef</td>\n",
       "      <td>9b98b8c7a33c4b65b9aebfe6a799e6d9</td>\n",
       "      <td>0</td>\n",
       "      <td>0</td>\n",
       "      <td>0</td>\n",
       "    </tr>\n",
       "    <tr>\n",
       "      <th>1</th>\n",
       "      <td>a03223e636434f42ac4c3df47e8bac43</td>\n",
       "      <td>0b1e1539f2cc45b7b9fa7c272da2e1d7</td>\n",
       "      <td>0</td>\n",
       "      <td>0</td>\n",
       "      <td>0</td>\n",
       "    </tr>\n",
       "    <tr>\n",
       "      <th>2</th>\n",
       "      <td>e2127556f4f64592b11af22de27a7932</td>\n",
       "      <td>2906b810c7d4411798c6938adc9daaa5</td>\n",
       "      <td>0</td>\n",
       "      <td>0</td>\n",
       "      <td>0</td>\n",
       "    </tr>\n",
       "  </tbody>\n",
       "</table>\n",
       "</div>"
      ],
      "text/plain": [
       "                        customer_id                          offer_id  time  \\\n",
       "0  78afa995795e4d85b5d9ceeca43f5fef  9b98b8c7a33c4b65b9aebfe6a799e6d9     0   \n",
       "1  a03223e636434f42ac4c3df47e8bac43  0b1e1539f2cc45b7b9fa7c272da2e1d7     0   \n",
       "2  e2127556f4f64592b11af22de27a7932  2906b810c7d4411798c6938adc9daaa5     0   \n",
       "\n",
       "   day  hour  \n",
       "0    0     0  \n",
       "1    0     0  \n",
       "2    0     0  "
      ]
     },
     "execution_count": 52,
     "metadata": {},
     "output_type": "execute_result"
    }
   ],
   "source": [
    "# Here are the cleaned offers_received events from the events table\n",
    "offers_received.head(3)"
   ]
  },
  {
   "cell_type": "code",
   "execution_count": 53,
   "id": "9252650e-7ff3-4e6e-af73-14eba629f384",
   "metadata": {},
   "outputs": [
    {
     "data": {
      "text/html": [
       "<div>\n",
       "<style scoped>\n",
       "    .dataframe tbody tr th:only-of-type {\n",
       "        vertical-align: middle;\n",
       "    }\n",
       "\n",
       "    .dataframe tbody tr th {\n",
       "        vertical-align: top;\n",
       "    }\n",
       "\n",
       "    .dataframe thead th {\n",
       "        text-align: right;\n",
       "    }\n",
       "</style>\n",
       "<table border=\"1\" class=\"dataframe\">\n",
       "  <thead>\n",
       "    <tr style=\"text-align: right;\">\n",
       "      <th></th>\n",
       "      <th>customer_id</th>\n",
       "      <th>offer_id</th>\n",
       "      <th>time</th>\n",
       "      <th>day</th>\n",
       "      <th>hour</th>\n",
       "    </tr>\n",
       "  </thead>\n",
       "  <tbody>\n",
       "    <tr>\n",
       "      <th>12650</th>\n",
       "      <td>389bc3fa690240e798340f5a15918d5c</td>\n",
       "      <td>f19421c1d4aa40978ebb69ca19b0e20d</td>\n",
       "      <td>0</td>\n",
       "      <td>0</td>\n",
       "      <td>0</td>\n",
       "    </tr>\n",
       "    <tr>\n",
       "      <th>12651</th>\n",
       "      <td>d1ede868e29245ea91818a903fec04c6</td>\n",
       "      <td>5a8bc65990b245e5a138643cd4eb9837</td>\n",
       "      <td>0</td>\n",
       "      <td>0</td>\n",
       "      <td>0</td>\n",
       "    </tr>\n",
       "    <tr>\n",
       "      <th>12652</th>\n",
       "      <td>102e9454054946fda62242d2e176fdce</td>\n",
       "      <td>4d5c57ea9a6940dd891ad53e9dbe8da0</td>\n",
       "      <td>0</td>\n",
       "      <td>0</td>\n",
       "      <td>0</td>\n",
       "    </tr>\n",
       "  </tbody>\n",
       "</table>\n",
       "</div>"
      ],
      "text/plain": [
       "                            customer_id                          offer_id  \\\n",
       "12650  389bc3fa690240e798340f5a15918d5c  f19421c1d4aa40978ebb69ca19b0e20d   \n",
       "12651  d1ede868e29245ea91818a903fec04c6  5a8bc65990b245e5a138643cd4eb9837   \n",
       "12652  102e9454054946fda62242d2e176fdce  4d5c57ea9a6940dd891ad53e9dbe8da0   \n",
       "\n",
       "       time  day  hour  \n",
       "12650     0    0     0  \n",
       "12651     0    0     0  \n",
       "12652     0    0     0  "
      ]
     },
     "execution_count": 53,
     "metadata": {},
     "output_type": "execute_result"
    }
   ],
   "source": [
    "# Here are the cleaned offers_viewed events from the events table\n",
    "offers_viewed.head(3)"
   ]
  },
  {
   "cell_type": "code",
   "execution_count": 54,
   "id": "bb2a0bf8-6d4c-4646-b1ee-e0179384b365",
   "metadata": {},
   "outputs": [
    {
     "data": {
      "text/html": [
       "<div>\n",
       "<style scoped>\n",
       "    .dataframe tbody tr th:only-of-type {\n",
       "        vertical-align: middle;\n",
       "    }\n",
       "\n",
       "    .dataframe tbody tr th {\n",
       "        vertical-align: top;\n",
       "    }\n",
       "\n",
       "    .dataframe thead th {\n",
       "        text-align: right;\n",
       "    }\n",
       "</style>\n",
       "<table border=\"1\" class=\"dataframe\">\n",
       "  <thead>\n",
       "    <tr style=\"text-align: right;\">\n",
       "      <th></th>\n",
       "      <th>customer_id</th>\n",
       "      <th>amount</th>\n",
       "      <th>time</th>\n",
       "      <th>day</th>\n",
       "      <th>hour</th>\n",
       "    </tr>\n",
       "  </thead>\n",
       "  <tbody>\n",
       "    <tr>\n",
       "      <th>12654</th>\n",
       "      <td>02c083884c7d45b39cc68e1314fec56c</td>\n",
       "      <td>0.83</td>\n",
       "      <td>0</td>\n",
       "      <td>0</td>\n",
       "      <td>0</td>\n",
       "    </tr>\n",
       "    <tr>\n",
       "      <th>12657</th>\n",
       "      <td>9fa9ae8f57894cc9a3b8a9bbe0fc1b2f</td>\n",
       "      <td>34.56</td>\n",
       "      <td>0</td>\n",
       "      <td>0</td>\n",
       "      <td>0</td>\n",
       "    </tr>\n",
       "    <tr>\n",
       "      <th>12659</th>\n",
       "      <td>54890f68699049c2a04d415abc25e717</td>\n",
       "      <td>13.23</td>\n",
       "      <td>0</td>\n",
       "      <td>0</td>\n",
       "      <td>0</td>\n",
       "    </tr>\n",
       "  </tbody>\n",
       "</table>\n",
       "</div>"
      ],
      "text/plain": [
       "                            customer_id amount  time  day  hour\n",
       "12654  02c083884c7d45b39cc68e1314fec56c   0.83     0    0     0\n",
       "12657  9fa9ae8f57894cc9a3b8a9bbe0fc1b2f  34.56     0    0     0\n",
       "12659  54890f68699049c2a04d415abc25e717  13.23     0    0     0"
      ]
     },
     "execution_count": 54,
     "metadata": {},
     "output_type": "execute_result"
    }
   ],
   "source": [
    "# Here are the cleaned transactions events from the events table\n",
    "transactions.head(3)"
   ]
  },
  {
   "cell_type": "markdown",
   "id": "f8bb9568-7b70-4220-b311-e56b8b833244",
   "metadata": {},
   "source": [
    "Since SQL is better and joining and querying tables than Python, I will export all the cleaned tables to MySQL for some exploratory data analysis."
   ]
  },
  {
   "cell_type": "markdown",
   "id": "bfed25ef-2c26-420c-bbd6-84913ae2b14b",
   "metadata": {},
   "source": [
    "## Exporting Data to MySQL"
   ]
  },
  {
   "cell_type": "markdown",
   "id": "05c2b2a3-679e-4209-95f9-21852729887f",
   "metadata": {},
   "source": [
    "The following cells will not run. This is because they would cause an error because I have removed my password for security purposes "
   ]
  },
  {
   "cell_type": "code",
   "execution_count": 55,
   "id": "0f2ee8e2-376d-4711-8b01-b97f7a1b707a",
   "metadata": {},
   "outputs": [],
   "source": [
    "# Create a connection to the MySQL database (the password has been hidden)\n",
    "# user = 'root'\n",
    "# password = '' \n",
    "# host = 'localhost'\n",
    "# port = '3306'\n",
    "# database = 'starbucks_promotions_db'\n",
    "\n",
    "# connection = create_engine(f'mysql+mysqlconnector://{user}:{password}@{host}:{port}/{database}')"
   ]
  },
  {
   "cell_type": "code",
   "execution_count": 56,
   "id": "b235c1bf-24c8-4ddb-9436-d69026d94f4f",
   "metadata": {},
   "outputs": [],
   "source": [
    "# Export the tables to MySQL\n",
    "#data = [offers, customers, offers_received, offers_viewed, transactions]\n",
    "#table_names = ['offers', 'customers', 'offers_received', 'offers_viewed', 'transactions']\n",
    "\n",
    "#for i, table in enumerate(data):\n",
    " #   table.to_sql(table_names[i], con=connection, if_exists='replace', index=False)"
   ]
  },
  {
   "cell_type": "markdown",
   "id": "577d83fa-2e69-4fe7-aad4-a0a3cfa0dada",
   "metadata": {},
   "source": [
    "## Further Cleaning the Events Table\n",
    "### Update the `completed_offers` table to include transaction amounts"
   ]
  },
  {
   "cell_type": "code",
   "execution_count": 57,
   "id": "8232d70d-b542-455b-a256-58cffdd4c96d",
   "metadata": {},
   "outputs": [],
   "source": [
    "# Divide the value into two columns based on the value of value_key and drop the old columns\n",
    "events['amount'] = np.where(events['value_key'] == 'amount', events['value'], np.NaN)\n",
    "events['offer_id'] = np.where(events['value_key'] == 'offer id', events['value'], np.NaN)\n",
    "events = events.drop(['value', 'value_key'], axis=1)"
   ]
  },
  {
   "cell_type": "code",
   "execution_count": 58,
   "id": "a1d6e0a0-4db5-457c-8a89-362037038b03",
   "metadata": {},
   "outputs": [],
   "source": [
    "# Reorder the columns into a more intuitive order\n",
    "events = events[['event', 'time', 'day', 'hour', 'customer_id', 'offer_id', 'amount', 'reward']]"
   ]
  },
  {
   "cell_type": "code",
   "execution_count": 59,
   "id": "24606759-d495-4143-b0b7-cc92443761cf",
   "metadata": {},
   "outputs": [
    {
     "data": {
      "text/html": [
       "<div>\n",
       "<style scoped>\n",
       "    .dataframe tbody tr th:only-of-type {\n",
       "        vertical-align: middle;\n",
       "    }\n",
       "\n",
       "    .dataframe tbody tr th {\n",
       "        vertical-align: top;\n",
       "    }\n",
       "\n",
       "    .dataframe thead th {\n",
       "        text-align: right;\n",
       "    }\n",
       "</style>\n",
       "<table border=\"1\" class=\"dataframe\">\n",
       "  <thead>\n",
       "    <tr style=\"text-align: right;\">\n",
       "      <th></th>\n",
       "      <th>event</th>\n",
       "      <th>time</th>\n",
       "      <th>day</th>\n",
       "      <th>hour</th>\n",
       "      <th>customer_id</th>\n",
       "      <th>offer_id</th>\n",
       "      <th>amount</th>\n",
       "      <th>reward</th>\n",
       "    </tr>\n",
       "  </thead>\n",
       "  <tbody>\n",
       "    <tr>\n",
       "      <th>0</th>\n",
       "      <td>offer received</td>\n",
       "      <td>0</td>\n",
       "      <td>0</td>\n",
       "      <td>0</td>\n",
       "      <td>78afa995795e4d85b5d9ceeca43f5fef</td>\n",
       "      <td>9b98b8c7a33c4b65b9aebfe6a799e6d9</td>\n",
       "      <td>NaN</td>\n",
       "      <td>NaN</td>\n",
       "    </tr>\n",
       "    <tr>\n",
       "      <th>1</th>\n",
       "      <td>offer received</td>\n",
       "      <td>0</td>\n",
       "      <td>0</td>\n",
       "      <td>0</td>\n",
       "      <td>a03223e636434f42ac4c3df47e8bac43</td>\n",
       "      <td>0b1e1539f2cc45b7b9fa7c272da2e1d7</td>\n",
       "      <td>NaN</td>\n",
       "      <td>NaN</td>\n",
       "    </tr>\n",
       "    <tr>\n",
       "      <th>2</th>\n",
       "      <td>offer received</td>\n",
       "      <td>0</td>\n",
       "      <td>0</td>\n",
       "      <td>0</td>\n",
       "      <td>e2127556f4f64592b11af22de27a7932</td>\n",
       "      <td>2906b810c7d4411798c6938adc9daaa5</td>\n",
       "      <td>NaN</td>\n",
       "      <td>NaN</td>\n",
       "    </tr>\n",
       "    <tr>\n",
       "      <th>3</th>\n",
       "      <td>offer received</td>\n",
       "      <td>0</td>\n",
       "      <td>0</td>\n",
       "      <td>0</td>\n",
       "      <td>8ec6ce2a7e7949b1bf142def7d0e0586</td>\n",
       "      <td>fafdcd668e3743c1bb461111dcafc2a4</td>\n",
       "      <td>NaN</td>\n",
       "      <td>NaN</td>\n",
       "    </tr>\n",
       "    <tr>\n",
       "      <th>4</th>\n",
       "      <td>offer received</td>\n",
       "      <td>0</td>\n",
       "      <td>0</td>\n",
       "      <td>0</td>\n",
       "      <td>68617ca6246f4fbc85e91a2a49552598</td>\n",
       "      <td>4d5c57ea9a6940dd891ad53e9dbe8da0</td>\n",
       "      <td>NaN</td>\n",
       "      <td>NaN</td>\n",
       "    </tr>\n",
       "  </tbody>\n",
       "</table>\n",
       "</div>"
      ],
      "text/plain": [
       "            event  time  day  hour                       customer_id  \\\n",
       "0  offer received     0    0     0  78afa995795e4d85b5d9ceeca43f5fef   \n",
       "1  offer received     0    0     0  a03223e636434f42ac4c3df47e8bac43   \n",
       "2  offer received     0    0     0  e2127556f4f64592b11af22de27a7932   \n",
       "3  offer received     0    0     0  8ec6ce2a7e7949b1bf142def7d0e0586   \n",
       "4  offer received     0    0     0  68617ca6246f4fbc85e91a2a49552598   \n",
       "\n",
       "                           offer_id amount  reward  \n",
       "0  9b98b8c7a33c4b65b9aebfe6a799e6d9    NaN     NaN  \n",
       "1  0b1e1539f2cc45b7b9fa7c272da2e1d7    NaN     NaN  \n",
       "2  2906b810c7d4411798c6938adc9daaa5    NaN     NaN  \n",
       "3  fafdcd668e3743c1bb461111dcafc2a4    NaN     NaN  \n",
       "4  4d5c57ea9a6940dd891ad53e9dbe8da0    NaN     NaN  "
      ]
     },
     "execution_count": 59,
     "metadata": {},
     "output_type": "execute_result"
    }
   ],
   "source": [
    "events.head()"
   ]
  },
  {
   "cell_type": "code",
   "execution_count": 60,
   "id": "9eaa56f5-56f9-4d7a-88bd-5f9d3c8f6931",
   "metadata": {},
   "outputs": [],
   "source": [
    "# event_offers = events.merge(offers.drop('reward', axis=1), how='left', on='offer_id')"
   ]
  },
  {
   "cell_type": "code",
   "execution_count": 61,
   "id": "94ae64a6-2150-45fc-8e69-d783b2e93d11",
   "metadata": {},
   "outputs": [],
   "source": [
    "# Join transactions and offer completed events\n",
    "events = (events[events['event'] != 'transaction']                                                # Filter out the transactions events\n",
    "                     .drop('amount', axis=1)\n",
    "                     .merge(transactions, how='left', on=['time', 'day', 'hour', 'customer_id'])) # Join the transactions table"
   ]
  },
  {
   "attachments": {},
   "cell_type": "markdown",
   "id": "bcea434d-32df-4c62-9079-bce5e173e324",
   "metadata": {},
   "source": [
    "Note that this gets rid of transactions that did not redeem an offer in the events table. Also note that there are some transactions where the customer gets the reward without reaching the difficulty. This is likely because the transaction amount has the reward already taken out."
   ]
  },
  {
   "cell_type": "code",
   "execution_count": 62,
   "id": "1b69e0ab-3619-47ff-a1cf-460b1a44fab5",
   "metadata": {},
   "outputs": [],
   "source": [
    "# Update the offers_completed table to now have the amount spent in the transaction that completed the offer\n",
    "offers_completed = events[events['event'] == 'offer completed'][['customer_id', 'offer_id', 'time', 'reward', 'day', 'hour', 'amount']]"
   ]
  },
  {
   "cell_type": "code",
   "execution_count": 63,
   "id": "c5e5f40d-0440-4d0e-8553-9dd79c4f3015",
   "metadata": {},
   "outputs": [
    {
     "ename": "NameError",
     "evalue": "name 'connection' is not defined",
     "output_type": "error",
     "traceback": [
      "\u001b[1;31m---------------------------------------------------------------------------\u001b[0m",
      "\u001b[1;31mNameError\u001b[0m                                 Traceback (most recent call last)",
      "Cell \u001b[1;32mIn[63], line 6\u001b[0m\n\u001b[0;32m      2\u001b[0m offers_completed \u001b[38;5;241m=\u001b[39m offers_completed\u001b[38;5;241m.\u001b[39mrename({\u001b[38;5;124m'\u001b[39m\u001b[38;5;124mamount\u001b[39m\u001b[38;5;124m'\u001b[39m: \u001b[38;5;124m'\u001b[39m\u001b[38;5;124mdiscounted_amount\u001b[39m\u001b[38;5;124m'\u001b[39m, \u001b[38;5;124m'\u001b[39m\u001b[38;5;124mamount_due\u001b[39m\u001b[38;5;124m'\u001b[39m: \u001b[38;5;124m'\u001b[39m\u001b[38;5;124mdue_amount\u001b[39m\u001b[38;5;124m'\u001b[39m}, axis\u001b[38;5;241m=\u001b[39m\u001b[38;5;241m1\u001b[39m)\n\u001b[0;32m      4\u001b[0m offers_completed \u001b[38;5;241m=\u001b[39m offers_completed\u001b[38;5;241m.\u001b[39mrename({\u001b[38;5;124m'\u001b[39m\u001b[38;5;124mamount\u001b[39m\u001b[38;5;124m'\u001b[39m: \u001b[38;5;124m'\u001b[39m\u001b[38;5;124mdiscounted_amount\u001b[39m\u001b[38;5;124m'\u001b[39m}, axis\u001b[38;5;241m=\u001b[39m\u001b[38;5;241m1\u001b[39m)\n\u001b[1;32m----> 6\u001b[0m offers_completed\u001b[38;5;241m.\u001b[39mto_sql(\u001b[38;5;124m'\u001b[39m\u001b[38;5;124moffers_completed\u001b[39m\u001b[38;5;124m'\u001b[39m, con\u001b[38;5;241m=\u001b[39mconnection, if_exists\u001b[38;5;241m=\u001b[39m\u001b[38;5;124m'\u001b[39m\u001b[38;5;124mreplace\u001b[39m\u001b[38;5;124m'\u001b[39m, index\u001b[38;5;241m=\u001b[39m\u001b[38;5;28;01mFalse\u001b[39;00m)\n",
      "\u001b[1;31mNameError\u001b[0m: name 'connection' is not defined"
     ]
    }
   ],
   "source": [
    "offers_completed['due_amount'] = offers_completed['reward'] + offers_completed['amount']\n",
    "offers_completed = offers_completed.rename({'amount': 'discounted_amount', 'amount_due': 'due_amount'}, axis=1)\n",
    "\n",
    "offers_completed = offers_completed.rename({'amount': 'discounted_amount'}, axis=1)\n",
    "\n",
    "offers_completed.to_sql('offers_completed', con=connection, if_exists='replace', index=False)"
   ]
  },
  {
   "cell_type": "markdown",
   "id": "3bd05b0f-ed04-474f-b824-3f6b81046bbf",
   "metadata": {},
   "source": [
    "## Try to make a completed offer table for info"
   ]
  },
  {
   "cell_type": "code",
   "execution_count": null,
   "id": "c036f443-8aca-4d92-870e-0379233eec49",
   "metadata": {},
   "outputs": [],
   "source": [
    "# Add offer type onto the events table to filter out bogo and discount\n",
    "events = events.merge(offers[['offer_id', 'offer_type']], how='left', on='offer_id')"
   ]
  },
  {
   "cell_type": "code",
   "execution_count": null,
   "id": "d80ea264-d9a7-4f80-ad9f-f28b250a4b6e",
   "metadata": {},
   "outputs": [],
   "source": [
    "# Filter to just the info events and transations\n",
    "info_events = events[~events['offer_type'].isin(['bogo', 'discount'])]"
   ]
  },
  {
   "cell_type": "markdown",
   "id": "5b3173a5-1690-483d-afb6-b3bfd8cc9dae",
   "metadata": {},
   "source": [
    "An Informational offer is one sent out advertising a product. The duration of these offers is the estimated length a customer would be influenced by this advertisement. Therefore, I will set the restriction to be duration after viewed instead of received."
   ]
  },
  {
   "cell_type": "code",
   "execution_count": null,
   "id": "822fbe92-72dc-4fdf-8fbc-c46c8573a64f",
   "metadata": {},
   "outputs": [],
   "source": [
    "info_events_viewed = info_events[info_events['event'] == 'offer viewed']"
   ]
  },
  {
   "cell_type": "markdown",
   "id": "e7990570-2a01-48ef-a0ef-793ca7f00849",
   "metadata": {},
   "source": [
    "I now have an updated `offers_completed` table that has the amount spent on the transaction that the offer was completed. Only BOGO and discount offers could be completed. I have a plan to determine the influence of informational offers. I plan to join it to the transactions table (excluding the transactions in the offers competed section) on the condition that customer_id match and the transaction occured after the offer was viewed and the offer was viewed + the duration of the offer. To make it fair, I will then make sure the informational offer only caused one transaction."
   ]
  },
  {
   "cell_type": "code",
   "execution_count": null,
   "id": "2ec9c7d4-233d-4ff3-8671-6f22326b3e81",
   "metadata": {},
   "outputs": [],
   "source": [
    "info_events_viewed[['customer_id', 'offer_id', 'time', 'day', 'hour']].to_sql('info_viewed', con=connection, if_exists='replace', index=False)"
   ]
  },
  {
   "cell_type": "markdown",
   "id": "622c32fb-bfaa-4b5f-b9c3-829bb4acf427",
   "metadata": {},
   "source": [
    "# EDA"
   ]
  },
  {
   "cell_type": "code",
   "execution_count": null,
   "id": "8e144e45-a645-4a19-a23b-bb8c0765a258",
   "metadata": {},
   "outputs": [],
   "source": [
    "offers_received['day'].value_counts().sort_index()"
   ]
  },
  {
   "cell_type": "markdown",
   "id": "ae0c3ab4-05b6-409b-9095-dea34b503d5b",
   "metadata": {},
   "source": [
    "Offers were only sent on the above days"
   ]
  },
  {
   "cell_type": "code",
   "execution_count": null,
   "id": "2c06e96a-0617-4216-9d1c-3709c4bfb16c",
   "metadata": {},
   "outputs": [],
   "source": [
    "(offers_received.merge(offers[['offer_id', 'offer_type']], how='inner', on='offer_id')\n",
    "                                       .pivot_table(index='day', columns='offer_id', values='hour', aggfunc='count', observed=False)).mean().mean()"
   ]
  },
  {
   "cell_type": "code",
   "execution_count": null,
   "id": "316fc264-88fb-4ae6-acb3-f8ab1f22cb02",
   "metadata": {},
   "outputs": [],
   "source": [
    "offers_received_plot = (offers_received.merge(offers[['offer_id', 'offer_type']], how='inner', on='offer_id')\n",
    "                                       .pivot_table(index='day', columns='offer_type', values='hour', aggfunc='count', observed=False))"
   ]
  },
  {
   "cell_type": "code",
   "execution_count": null,
   "id": "223a7005-cd3f-4849-90b8-d17e76b71651",
   "metadata": {},
   "outputs": [],
   "source": [
    "offerID_received_plot = offers_received.pivot_table(index='day', columns='offer_id', values='hour', aggfunc='count', observed=False)"
   ]
  },
  {
   "cell_type": "code",
   "execution_count": null,
   "id": "6e8da873-c83b-43e7-a5e4-e603fd7d558e",
   "metadata": {},
   "outputs": [],
   "source": [
    "fig, ax = plt.subplots()\n",
    "sns.lineplot(offers_received.groupby('day')['offer_id'].count(), ax=ax)\n",
    "ax.set_ylim(0, 13000)\n",
    "plt.show()"
   ]
  },
  {
   "cell_type": "code",
   "execution_count": null,
   "id": "656d5ba4-4103-4a40-b32c-dd0def64b261",
   "metadata": {},
   "outputs": [],
   "source": [
    "for offers_plot in [offers_received_plot, offerID_received_plot]:\n",
    "    fig, ax = plt.subplots()\n",
    "    ax.plot(offers_plot)\n",
    "    #ax.set_title()\n",
    "    ax.set_ylim(0, 6000)\n",
    "    plt.show()\n",
    "    plt.clf()"
   ]
  },
  {
   "cell_type": "code",
   "execution_count": null,
   "id": "aa458738-7516-4212-b750-a59b1c61eb60",
   "metadata": {},
   "outputs": [],
   "source": [
    "performance = pd.read_sql('SELECT * FROM offerid_performance', con=connection)"
   ]
  },
  {
   "cell_type": "code",
   "execution_count": null,
   "id": "98721ec7-f42b-4823-b325-1afd48065053",
   "metadata": {},
   "outputs": [],
   "source": [
    "offers_received['performance_group'] = np.where(offers_received['offer_id'].isin(list(performance.sort_values('num_completed', ascending=False)['offer_id'].iloc[:4])), 'top4', 'bottom4')\n",
    "\n",
    "performance_offers_received = offers_received[offers_received['offer_id'].isin(list(performance['offer_id']))]\n",
    "\n",
    "performance_received_plot = performance_offers_received.pivot_table(index='day', columns='performance_group', values='hour', aggfunc='count', observed=False)\n",
    "\n",
    "fig, ax = plt.subplots()\n",
    "ax.plot(performance_received_plot)\n",
    "#ax.set_title()\n",
    "ax.legend(performance_received_plot.columns)\n",
    "ax.set_ylim(0, 6000)\n",
    "plt.show()\n",
    "plt.clf()"
   ]
  },
  {
   "cell_type": "code",
   "execution_count": null,
   "id": "3d93aa8e-ef5c-43cb-a8c2-0aad524ed78e",
   "metadata": {},
   "outputs": [],
   "source": [
    "offers_completed['performance_group'] = np.where(offers_completed['offer_id'].isin(list(performance.sort_values('num_completed', ascending=False)['offer_id'].iloc[:4])), 'top4', 'bottom4')\n",
    "\n",
    "performance_offers_completed = offers_completed[offers_completed['offer_id'].isin(list(performance['offer_id']))]\n",
    "\n",
    "performance_completed_plot = performance_offers_completed.pivot_table(index='day', columns='performance_group', values='hour', aggfunc='count', observed=False)\n",
    "\n",
    "fig, ax = plt.subplots()\n",
    "ax.plot(performance_completed_plot)\n",
    "#ax.set_title()\n",
    "ax.legend(performance_completed_plot.columns)\n",
    "plt.show()\n",
    "plt.clf()"
   ]
  },
  {
   "cell_type": "code",
   "execution_count": null,
   "id": "b73b4e9c-b78d-4e4c-86b5-85f79283cd6b",
   "metadata": {},
   "outputs": [],
   "source": [
    "offers_completed_plot = (offers_completed.merge(offers[['offer_id', 'offer_type']], how='inner', on='offer_id')\n",
    "                                        .pivot_table(index='day', columns='offer_type', values='hour', aggfunc='count', observed=False)\n",
    "                                        .drop('informational', axis=1))\n",
    "\n",
    "fig, ax = plt.subplots()\n",
    "ax.plot(offers_completed_plot)\n",
    "ax.legend(offers_completed_plot.columns)\n",
    "ax.vlines(offers_received_plot.index, 0, 1200, linestyle=':', alpha=0.5, color='black')\n",
    "plt.show()"
   ]
  },
  {
   "cell_type": "code",
   "execution_count": null,
   "id": "726af3ec-206f-4f0c-a5f4-0a01289d8f54",
   "metadata": {},
   "outputs": [],
   "source": [
    "performance.groupby('offer_type')['num_completed'].sum()"
   ]
  },
  {
   "cell_type": "code",
   "execution_count": null,
   "id": "855cb9a2-b914-47f3-952a-d806d7380fbc",
   "metadata": {},
   "outputs": [],
   "source": [
    "from scipy.stats import linregress\n",
    "\n",
    "num_completed_by_day = offers_completed.groupby('day')['offer_id'].count()\n",
    "x = num_completed_by_day.index\n",
    "y = num_completed_by_day\n",
    "\n",
    "num_completed_by_day = offers_completed.groupby('day')['offer_id'].count()\n",
    "x = num_completed_by_day.index\n",
    "\n",
    "fig, ax = plt.subplots()\n",
    "sns.lineplot(num_completed_by_day, ax=ax)\n",
    "ax.vlines(offers_received_plot.index, 0, 2500, linestyle=':', alpha=0.5, color='black')\n",
    "z = np.polyfit(x, y, 1)\n",
    "p = np.poly1d(z)\n",
    "plt.plot(x, p(x), label='Trend line')\n",
    "plt.show()\n",
    "plt.clf()\n",
    "slope, intercept, r_value, p_value, std_err = linregress(x, y)\n",
    "p_value, slope, r_value ** 2"
   ]
  },
  {
   "cell_type": "code",
   "execution_count": null,
   "id": "edccb2ea-2b81-41b0-b494-17af7f006db4",
   "metadata": {},
   "outputs": [],
   "source": [
    "offers_completed_gb_day = offers_completed.groupby('day')['offer_id'].count()\n",
    "release_day_completed_increase = {}\n",
    "for release_day in offers_received['day'].unique():\n",
    "    if release_day == 0:\n",
    "        release_day_completed_increase[release_day] = offers_completed_gb_day.loc[0]\n",
    "    else:\n",
    "        release_day_completed_increase[release_day] = offers_completed_gb_day.loc[release_day] - offers_completed_gb_day.loc[release_day - 1]\n",
    "release_day_completed_increase"
   ]
  },
  {
   "cell_type": "code",
   "execution_count": null,
   "id": "7fa98643-61aa-4d1c-96fd-27407066838a",
   "metadata": {},
   "outputs": [],
   "source": [
    "np.mean(list(release_day_completed_increase.values()))"
   ]
  },
  {
   "cell_type": "code",
   "execution_count": null,
   "id": "0d396928-de48-43db-8140-57a41959800d",
   "metadata": {},
   "outputs": [],
   "source": [
    "gender_completed_plot = (offers_completed.merge(customers, how='inner', on='customer_id')\n",
    "                                         .pivot_table(index='day', columns='gender', values='hour', aggfunc='count', observed=False))"
   ]
  },
  {
   "cell_type": "code",
   "execution_count": null,
   "id": "df21fa7b-f553-4600-afda-723a49ded80b",
   "metadata": {
    "scrolled": true
   },
   "outputs": [],
   "source": [
    "for attribute in ['age', 'became_member_on', 'income', 'gender']:\n",
    "    gender_completed_plot = (offers_completed.merge(customers, how='inner', on='customer_id')\n",
    "                                             .pivot_table(index='day', columns=attribute, values='hour', aggfunc='count', observed=False))\n",
    "    \n",
    "    fig, ax = plt.subplots()\n",
    "    ax.plot(gender_completed_plot)\n",
    "    ax.legend(gender_completed_plot.columns)\n",
    "    #ax.vlines(offers_received_plot.index, 0, 1, linestyle=':', alpha=0.5, color='black')\n",
    "    plt.show()\n",
    "    plt.clf()"
   ]
  },
  {
   "cell_type": "code",
   "execution_count": null,
   "id": "37ae777e-5323-4dd4-a779-3d3f1b924455",
   "metadata": {},
   "outputs": [],
   "source": [
    "offers_viewed_plot = (offers_viewed.merge(offers[['offer_id', 'offer_type']], how='inner', on='offer_id')\n",
    "                                        .pivot_table(index='day', columns='offer_type', values='hour', aggfunc='count', observed=False))"
   ]
  },
  {
   "cell_type": "code",
   "execution_count": null,
   "id": "e15dbbf0-d99a-4c97-9a1f-18963d7e5a67",
   "metadata": {},
   "outputs": [],
   "source": [
    "fig, ax = plt.subplots()\n",
    "ax.plot(offers_viewed_plot)\n",
    "ax.legend(offers_viewed_plot.columns)\n",
    "ax.vlines(offers_received_plot.index, 0, 2500, linestyle=':', alpha=0.5, color='black')\n",
    "plt.show()"
   ]
  },
  {
   "cell_type": "code",
   "execution_count": null,
   "id": "f446262f-d30c-438d-8dda-da0e7ce12b77",
   "metadata": {},
   "outputs": [],
   "source": [
    "offer_daily_viewed = offers_viewed.groupby(['day', 'offer_id']).size().reset_index(name='count').merge(offers[['offer_id', 'social']], how='inner', on='offer_id')\n",
    "\n",
    "sns.lineplot(data=offer_daily_viewed, x='day', y='count', hue='social', style='offer_id', dashes=False, legend=False)"
   ]
  },
  {
   "cell_type": "code",
   "execution_count": null,
   "id": "0544101a-671a-4518-abee-bfed1bfeb047",
   "metadata": {},
   "outputs": [],
   "source": [
    "performance = pd.read_sql('SELECT * FROM offerID_performance', con=connection)"
   ]
  },
  {
   "cell_type": "code",
   "execution_count": null,
   "id": "3f57afde-855e-41ea-82bf-d266e9473454",
   "metadata": {},
   "outputs": [],
   "source": [
    "sns.heatmap(performance.corr(numeric_only=True), vmin=-1, vmax=1, cmap='RdYlGn', annot=True)"
   ]
  },
  {
   "cell_type": "code",
   "execution_count": null,
   "id": "2bef84b2-0d52-4ff2-9c3f-5de80045d166",
   "metadata": {},
   "outputs": [],
   "source": [
    "sns.pairplot(performance, corner=True);"
   ]
  },
  {
   "cell_type": "code",
   "execution_count": null,
   "id": "d2674859-f358-4d3b-94bb-49bbac626f86",
   "metadata": {},
   "outputs": [],
   "source": [
    "offers_received.head(3)"
   ]
  },
  {
   "cell_type": "code",
   "execution_count": null,
   "id": "7627f143-c662-45d5-8cf9-c2cc17e1b184",
   "metadata": {},
   "outputs": [],
   "source": [
    "offer_daily_received = offers_received.groupby(['day', 'offer_id']).size().reset_index(name='count').merge(offers[['offer_id', 'social']], how='inner', on='offer_id')\n",
    "\n",
    "fig, ax = plt.subplots()\n",
    "sns.lineplot(data=offer_daily_received, x='day', y='count', hue='offer_id', style='social', legend=True, ax=ax)\n",
    "plt.show()"
   ]
  },
  {
   "cell_type": "code",
   "execution_count": null,
   "id": "98f760c3-caa5-4dd4-8cfe-25aa47b6ce49",
   "metadata": {},
   "outputs": [],
   "source": [
    "social_daily_received = offers_received.merge(offers[['offer_id', 'social']], how='inner', on='offer_id').groupby(['day', 'social']).size().reset_index(name='count')"
   ]
  },
  {
   "cell_type": "code",
   "execution_count": null,
   "id": "324a71e6-9b19-47b2-98a9-f78230e3c005",
   "metadata": {},
   "outputs": [],
   "source": [
    "sns.lineplot(data=social_daily_received, x='day', y='count', hue='social', legend=False)"
   ]
  },
  {
   "cell_type": "code",
   "execution_count": null,
   "id": "f2db1dd8-8646-4904-a184-33f428aa45d8",
   "metadata": {},
   "outputs": [],
   "source": [
    "offers[offers['offer_type'] == 'bogo']"
   ]
  },
  {
   "cell_type": "code",
   "execution_count": null,
   "id": "e24cfefc-fe3c-49ed-8a3c-ce3956268322",
   "metadata": {},
   "outputs": [],
   "source": [
    "offers"
   ]
  },
  {
   "cell_type": "code",
   "execution_count": null,
   "id": "4093b34e-652d-432e-9f3e-c736748c2a0c",
   "metadata": {},
   "outputs": [],
   "source": [
    "performance"
   ]
  },
  {
   "cell_type": "code",
   "execution_count": null,
   "id": "ea5960a7-211e-485e-88f3-82ba0f4e560e",
   "metadata": {},
   "outputs": [],
   "source": [
    "completed_duration = offers_completed[['offer_id', 'reward', 'due_amount', 'day']].merge(offers[['offer_id', 'offer_type', 'duration']], how='inner', on='offer_id')"
   ]
  },
  {
   "cell_type": "code",
   "execution_count": null,
   "id": "25714f03-fb6e-4148-a5fe-76286d784fa5",
   "metadata": {},
   "outputs": [],
   "source": [
    "completed_duration.groupby(['day', 'duration', 'offer_id'])[['reward']].count().reset_index().pivot_table(index='day', columns='duration', values='reward', aggfunc='mean').plot()"
   ]
  },
  {
   "cell_type": "code",
   "execution_count": null,
   "id": "a4936bca-3548-4bb6-9ac2-9945539c3b87",
   "metadata": {},
   "outputs": [],
   "source": [
    "offers[offers['offer_type'] == 'discount']['duration'].value_counts()"
   ]
  },
  {
   "cell_type": "code",
   "execution_count": null,
   "id": "9e71bdf7-f6d3-43a8-866b-348c4ce16b81",
   "metadata": {},
   "outputs": [],
   "source": [
    "offers[offers['offer_type'] == 'bogo']['duration'].value_counts()"
   ]
  },
  {
   "cell_type": "code",
   "execution_count": null,
   "id": "c51af1c0-594a-4e3d-bd7c-5560a98a77a6",
   "metadata": {},
   "outputs": [],
   "source": [
    "completed_duration7 = completed_duration[completed_duration['duration'] == 7]\n",
    "\n",
    "completed_duration7.groupby(['day', 'offer_type'], observed=True)[['offer_id']].count().reset_index().pivot(index='day', columns='offer_type', values='offer_id').plot()"
   ]
  },
  {
   "cell_type": "code",
   "execution_count": null,
   "id": "9661b263-ac75-4ba0-9c1a-a3d6b42ee032",
   "metadata": {},
   "outputs": [],
   "source": [
    "offers_completed_offers = offers_completed.merge(offers.drop('reward', axis=1), how='inner', on='offer_id')\n",
    "offer_type_totals = offers_completed_offers.groupby('offer_type', observed=True)[['difficulty', 'reward', 'discounted_amount', 'due_amount']].sum()"
   ]
  },
  {
   "cell_type": "code",
   "execution_count": null,
   "id": "974fc68d-c43d-4a37-87e5-bb75149406a2",
   "metadata": {},
   "outputs": [],
   "source": [
    "offer_type_totals"
   ]
  },
  {
   "cell_type": "code",
   "execution_count": null,
   "id": "8cf57fbd-9e22-4867-bb38-b60b6c6d3f3c",
   "metadata": {},
   "outputs": [],
   "source": [
    "offers_completed_offers.groupby('offer_type', observed=True)[['difficulty', 'reward', 'discounted_amount', 'due_amount']].mean()"
   ]
  },
  {
   "cell_type": "code",
   "execution_count": null,
   "id": "2a2925b7-b589-4e29-a1c8-8004e6a0ea4c",
   "metadata": {},
   "outputs": [],
   "source": [
    "offers_completed_offers.groupby('offer_type', observed=True)[['offer_id']].count()"
   ]
  },
  {
   "cell_type": "code",
   "execution_count": null,
   "id": "1844633e-c7cd-4a11-b7f3-d70ec16f0c78",
   "metadata": {},
   "outputs": [],
   "source": [
    "standardise_percentage = 15501/17681\n",
    "standardised_totals = pd.concat([offer_type_totals.loc[['bogo']], offer_type_totals.loc[['discount']] * standardise_percentage])"
   ]
  },
  {
   "cell_type": "code",
   "execution_count": null,
   "id": "ddd50f0f-8dda-4159-b78b-5fc053316b2a",
   "metadata": {},
   "outputs": [],
   "source": [
    "standardised_totals"
   ]
  },
  {
   "cell_type": "code",
   "execution_count": null,
   "id": "37c75533-f775-47b2-b574-6383962de798",
   "metadata": {},
   "outputs": [],
   "source": [
    "standardised_totals.loc['bogo', 'reward'] - standardised_totals.loc['discount', 'reward']"
   ]
  },
  {
   "cell_type": "code",
   "execution_count": null,
   "id": "378fcdd5-8da0-4ee0-b176-3fcc956a8c5e",
   "metadata": {},
   "outputs": [],
   "source": [
    "standardised_totals.loc['bogo', 'discounted_amount'] - standardised_totals.loc['discount', 'discounted_amount']"
   ]
  },
  {
   "cell_type": "code",
   "execution_count": null,
   "id": "5b3a2aa0-6134-4088-b03d-3973e7308376",
   "metadata": {},
   "outputs": [],
   "source": [
    "offer_type_totals.loc['bogo', 'reward'] - offer_type_totals.loc['discount', 'reward']"
   ]
  },
  {
   "cell_type": "code",
   "execution_count": null,
   "id": "4ca322d0-2449-417e-a902-180e516982ce",
   "metadata": {},
   "outputs": [],
   "source": [
    "offer_type_totals.loc['bogo', 'discounted_amount'] - offer_type_totals.loc['discount', 'discounted_amount']"
   ]
  },
  {
   "cell_type": "markdown",
   "id": "f3ce2a5f-3539-4e08-9750-57b3ba001efb",
   "metadata": {},
   "source": [
    "## Visualisations for Report"
   ]
  },
  {
   "cell_type": "code",
   "execution_count": null,
   "id": "2606a481-410e-4daa-b71e-d73aaa4aa84c",
   "metadata": {},
   "outputs": [],
   "source": [
    "plt.rc('axes.spines', right=False, top=False)\n",
    "plt.rc('font', family='Times New Roman')\n",
    "plt.rc('axes', labelweight='normal', titleweight='bold')\n",
    "green = '#0b7142'"
   ]
  },
  {
   "cell_type": "code",
   "execution_count": null,
   "id": "6c9b5958-ea6f-4134-9595-901b0355ee45",
   "metadata": {},
   "outputs": [],
   "source": [
    "num_completed_by_day = offers_completed.groupby('day')['offer_id'].count()\n",
    "x = num_completed_by_day.index\n",
    "y = num_completed_by_day\n",
    "\n",
    "fig, ax = plt.subplots(1, 2, figsize=(12, 4), sharey='all')\n",
    "fig.suptitle(\"Offers Completed by Day\", fontsize=20, fontweight='bold')\n",
    "\n",
    "sns.lineplot(num_completed_by_day, ax=ax[0], color=green, label='Offers Completed')\n",
    "z = np.polyfit(x, y, 1)\n",
    "p = np.poly1d(z)\n",
    "ax[0].set_title('The Number of Offers Completed Trended Upward', y=0.95)\n",
    "ax[0].plot(x, p(x), label='Trend Line', color='Black', linestyle='--')\n",
    "ax[0].set_xticks(num_completed_by_day.index)\n",
    "ax[0].set_xticklabels(num_completed_by_day.index + 1, fontsize=8)\n",
    "ax[0].set_ylabel('Number of Completed Offers')\n",
    "ax[0].set_xlabel('Day')\n",
    "ax[0].legend(bbox_to_anchor=(0.4, 0.95), frameon=False)\n",
    "\n",
    "\n",
    "sns.lineplot(num_completed_by_day, ax=ax[1], color=green, label='Offers Completed')\n",
    "ax[1].set_title('Sharp Spikes Occur on Days Offers are Sent Out', y=0.95)\n",
    "ax[1].vlines(offers_received_plot.index[2:], 0, 2500, linestyle='--', alpha=0.5, color='black', label='Offers Sent')\n",
    "ax[1].vlines(offers_received_plot.index[:2], 0, 2000, linestyle='--', alpha=0.5, color='black')\n",
    "ax[1].set_xticks(num_completed_by_day.index)\n",
    "ax[1].set_xticklabels(num_completed_by_day.index + 1, fontsize=8)\n",
    "ax[1].set_xlabel('Day')\n",
    "ax[1].legend(bbox_to_anchor=(0.4, 0.95), frameon=False)\n",
    "\n",
    "plt.savefig('OffersCompletedbyDay.png', dpi=1000)"
   ]
  },
  {
   "cell_type": "code",
   "execution_count": null,
   "id": "88116f53-131c-4d09-81a0-b66e89f80731",
   "metadata": {},
   "outputs": [],
   "source": [
    "offers_completed_plot = (offers_completed.merge(offers[['offer_id', 'offer_type']], how='inner', on='offer_id')\n",
    "                                        .pivot_table(index='day', columns='offer_type', values='hour', aggfunc='count', observed=False)\n",
    "                                        .drop('informational', axis=1))\n",
    "\n",
    "fig, ax = plt.subplots(figsize=(12, 4))\n",
    "fig.suptitle(\"Offers Completed by Offer Type\", fontsize=20, fontweight='bold')\n",
    "\n",
    "ax.plot(offers_completed_plot['bogo'], color=green, label='BOGO')\n",
    "ax.plot(offers_completed_plot['discount'], color='Gray', label='Discount')\n",
    "\n",
    "ax.set_title('BOGO does Better on Release Days, Discount does Better After', x=0.475, y=0.95)\n",
    "ax.set_xticks(num_completed_by_day.index)\n",
    "ax.set_xticklabels(num_completed_by_day.index + 1, fontsize=8)\n",
    "ax.set_xlabel('Day')\n",
    "ax.set_ylabel('Number of Completed Offers')\n",
    "ax.vlines(offers_received_plot.index, 0, 1225, linestyle='--', alpha=0.25, color='black', label='Offers Sent')\n",
    "ax.legend(['BOGO', 'Discount', 'Offers Sent'], frameon=False)\n",
    "\n",
    "plt.savefig('OffersCompletedbyOfferType.png', dpi=1000)"
   ]
  },
  {
   "cell_type": "code",
   "execution_count": null,
   "id": "7266f57e-b0fa-400f-8f2d-1dac77fa64df",
   "metadata": {},
   "outputs": [],
   "source": [
    "funnel_cm = pd.read_sql('SELECT * FROM funnel_cm', con=connection)"
   ]
  },
  {
   "cell_type": "code",
   "execution_count": null,
   "id": "7a92634a-a6e6-4351-9ef2-75da6064e610",
   "metadata": {},
   "outputs": [],
   "source": [
    "social_funnel_count = funnel_cm.merge(offers[['offer_id', 'social']], how='inner', on='offer_id').groupby('social').count()"
   ]
  },
  {
   "cell_type": "code",
   "execution_count": null,
   "id": "f2932f8e-d9b0-44cc-abad-93cc3941b7d0",
   "metadata": {},
   "outputs": [],
   "source": [
    "view_conv_rate_social = (social_funnel_count['num_viewed'] * 100) / social_funnel_count['num_received']"
   ]
  },
  {
   "cell_type": "code",
   "execution_count": null,
   "id": "cb155880-b756-41b2-94fa-3ebddba6fd7d",
   "metadata": {},
   "outputs": [],
   "source": [
    "fig, ax = plt.subplots()\n",
    "\n",
    "fig.suptitle('Viewed Percentage of Received Offers', fontsize=20, fontweight='bold')\n",
    "\n",
    "bars = ax.bar([0, 1], view_conv_rate_social, color=green)\n",
    "ax.bar_label(bars, labels=[f'{height:.1f}%' for height in bars.datavalues])\n",
    "\n",
    "ax.set_title('Offers Distributed with Social Media are Viewed More', x=0.475)\n",
    "ax.set_xticks([0, 1])\n",
    "ax.set_xticklabels(['Not Used', 'Used'])\n",
    "ax.set_xlabel('Social Media')\n",
    "ax.set_ylim(0, 100)\n",
    "ax.set_ylabel('Conversion Rate (%)')\n",
    "\n",
    "plt.savefig('PercentageViewedOffers', dpi=1000)"
   ]
  },
  {
   "cell_type": "code",
   "execution_count": null,
   "id": "5e267c3b-ed22-42f0-ba88-093bcccb1f80",
   "metadata": {},
   "outputs": [],
   "source": [
    "funnel_cm = funnel_cm.merge(customers, how='inner', on='customer_id')"
   ]
  },
  {
   "cell_type": "code",
   "execution_count": null,
   "id": "42619cd0-9004-4446-bf6f-c6cce4814d48",
   "metadata": {},
   "outputs": [],
   "source": [
    "funnel_gender = funnel_cm.groupby('gender', observed=False)[['num_received', 'num_viewed', 'num_completed']].count().drop('O')"
   ]
  },
  {
   "cell_type": "code",
   "execution_count": null,
   "id": "3cdda3e7-79b8-4865-a892-585987d8d790",
   "metadata": {},
   "outputs": [],
   "source": [
    "funnel_gender['completed_percentage'] = funnel_gender['num_completed'] / funnel_gender['num_received']"
   ]
  },
  {
   "cell_type": "code",
   "execution_count": null,
   "id": "a9c7d253-3eea-4593-a7e8-803fdee2c09e",
   "metadata": {},
   "outputs": [],
   "source": [
    "fig, ax = plt.subplots(1, 2, figsize=(8, 5))\n",
    "\n",
    "fig.suptitle('More Offers are Sent to Males, Females More Likely to Redeem', fontsize=20, fontweight='bold', y=0.99)\n",
    "\n",
    "bars = ax[0].bar(funnel_gender.index, funnel_gender['num_received'], color=['tab:Pink', 'tab:Blue'])\n",
    "ax[0].bar_label(bars, labels=[f'{height:.0f}' for height in bars.datavalues])\n",
    "\n",
    "ax[0].set_title('Avg. Number of People an Offer was Sent')\n",
    "ax[0].spines['left'].set_visible(False)\n",
    "ax[0].tick_params(left=False)\n",
    "ax[0].set_yticklabels([])\n",
    "\n",
    "bars = ax[1].bar(funnel_gender.index, funnel_gender['completed_percentage'], color=['tab:Pink', 'tab:Blue'])\n",
    "ax[1].bar_label(bars, labels=[f'{height * 100:.0f}%' for height in bars.datavalues])\n",
    "ax[1].set_title('Percentage that Complete Offer')\n",
    "ax[1].spines['left'].set_visible(False)\n",
    "ax[1].tick_params(left=False)\n",
    "ax[1].set_yticklabels([])\n",
    "\n",
    "plt.savefig('GenderOfferEngagement', dpi=1000)\n",
    "plt.show()"
   ]
  },
  {
   "cell_type": "code",
   "execution_count": null,
   "id": "72cc334e-4d15-4e96-a82a-3ee9c4ab85c1",
   "metadata": {},
   "outputs": [],
   "source": [
    "funnel_cm['income_group'] = funnel_cm['income'].round(-4)\n",
    "funnel_cm['age_group'] = funnel_cm['age'].round(-1)"
   ]
  },
  {
   "cell_type": "code",
   "execution_count": null,
   "id": "38e39326-a479-4291-87de-131eec61e637",
   "metadata": {},
   "outputs": [],
   "source": [
    "funnel_cm.dropna()\n",
    "funnel_cm['young_or_not'] = np.where(funnel_cm['age_group'].isin((20, 30)), '20s and 30s', '40 and Over')"
   ]
  },
  {
   "cell_type": "code",
   "execution_count": null,
   "id": "1c22fcbd-c655-4d36-a37d-a4c04274a33e",
   "metadata": {},
   "outputs": [],
   "source": [
    "funnel_age_social = (funnel_cm.merge(offers[['offer_id', 'social']], how='inner', on='offer_id')\n",
    "                              .groupby(['young_or_not', 'social'])[['num_received', 'num_viewed', 'num_completed']]\n",
    "                              .count()\n",
    "                              .reset_index())"
   ]
  },
  {
   "cell_type": "code",
   "execution_count": null,
   "id": "3bc7f14e-d238-43ea-b5b0-74ba90702b81",
   "metadata": {},
   "outputs": [],
   "source": [
    "funnel_age_social['viewed_percentage'] = funnel_age_social['num_viewed'] / funnel_age_social['num_received']"
   ]
  },
  {
   "cell_type": "code",
   "execution_count": null,
   "id": "aafeb43f-b8f5-46dc-858d-aa363b154229",
   "metadata": {},
   "outputs": [],
   "source": [
    "funnel_age_social"
   ]
  },
  {
   "cell_type": "code",
   "execution_count": null,
   "id": "b2a2c447-13ec-4865-b485-4911d6f87337",
   "metadata": {},
   "outputs": [],
   "source": [
    "fig, ax = plt.subplots()\n",
    "\n",
    "fig.suptitle('Viewed % of Offers Sent Out by Age', fontsize=20, fontweight='bold')\n",
    "\n",
    "bars = sns.barplot(data=funnel_age_social, x='young_or_not', y='viewed_percentage', hue='social', ax=ax, palette={0: green, 1: '#D3D3D3'})\n",
    "\n",
    "ax.set_title('Social Media Distribution Impacts Younger Demo More')\n",
    "ax.set_ylabel('Viewed Rate (%)')\n",
    "ax.set_xlabel('')\n",
    "\n",
    "\n",
    "handles, labels = ax.get_legend_handles_labels()\n",
    "ax.legend(handles=[handles[0], handles[1]], labels=['Not Used', 'Used'], title='Social Media', frameon=False)\n",
    "\n",
    "plt.savefig('ViewedPercentageAgeSocialMedia', dpi=1000)"
   ]
  }
 ],
 "metadata": {
  "kernelspec": {
   "display_name": "Python 3 (ipykernel)",
   "language": "python",
   "name": "python3"
  },
  "language_info": {
   "codemirror_mode": {
    "name": "ipython",
    "version": 3
   },
   "file_extension": ".py",
   "mimetype": "text/x-python",
   "name": "python",
   "nbconvert_exporter": "python",
   "pygments_lexer": "ipython3",
   "version": "3.12.7"
  }
 },
 "nbformat": 4,
 "nbformat_minor": 5
}
