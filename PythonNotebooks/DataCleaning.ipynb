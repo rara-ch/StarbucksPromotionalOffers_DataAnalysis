{
 "cells": [
  {
   "cell_type": "markdown",
   "id": "2ef0684e-b6de-44a0-b984-8c06b28794fc",
   "metadata": {},
   "source": [
    "# Starbucks Promotional Offers Data Project (Cleaning Notebook)"
   ]
  },
  {
   "cell_type": "code",
   "execution_count": 1,
   "id": "88eae511-5975-4651-b97f-e9a517d47dc5",
   "metadata": {},
   "outputs": [],
   "source": [
    "# Import Python data modules\n",
    "import numpy as np\n",
    "import pandas as pd\n",
    "import matplotlib.pyplot as plt\n",
    "import seaborn as sns\n",
    "\n",
    "# Import other functions\n",
    "from ast import literal_eval\n",
    "from sqlalchemy import create_engine"
   ]
  },
  {
   "cell_type": "markdown",
   "id": "82064aa6-8a74-49a8-afe3-117b68812cd3",
   "metadata": {},
   "source": [
    "## Importing & Inspecting"
   ]
  },
  {
   "cell_type": "code",
   "execution_count": 2,
   "id": "8a60a2fc-0286-48f0-a255-61561ba81e89",
   "metadata": {},
   "outputs": [],
   "source": [
    "# Load the data into pd.DataFrame objects using pandas\n",
    "customers = pd.read_csv('../Data/customers.csv')\n",
    "offers = pd.read_csv('../Data/offers.csv')\n",
    "events = pd.read_csv('../Data/events.csv')"
   ]
  },
  {
   "cell_type": "code",
   "execution_count": 3,
   "id": "a77a12be-2b9d-4347-a0cb-138d73645556",
   "metadata": {},
   "outputs": [
    {
     "data": {
      "text/html": [
       "<div>\n",
       "<style scoped>\n",
       "    .dataframe tbody tr th:only-of-type {\n",
       "        vertical-align: middle;\n",
       "    }\n",
       "\n",
       "    .dataframe tbody tr th {\n",
       "        vertical-align: top;\n",
       "    }\n",
       "\n",
       "    .dataframe thead th {\n",
       "        text-align: right;\n",
       "    }\n",
       "</style>\n",
       "<table border=\"1\" class=\"dataframe\">\n",
       "  <thead>\n",
       "    <tr style=\"text-align: right;\">\n",
       "      <th></th>\n",
       "      <th>offer_id</th>\n",
       "      <th>offer_type</th>\n",
       "      <th>difficulty</th>\n",
       "      <th>reward</th>\n",
       "      <th>duration</th>\n",
       "      <th>channels</th>\n",
       "    </tr>\n",
       "  </thead>\n",
       "  <tbody>\n",
       "    <tr>\n",
       "      <th>0</th>\n",
       "      <td>ae264e3637204a6fb9bb56bc8210ddfd</td>\n",
       "      <td>bogo</td>\n",
       "      <td>10</td>\n",
       "      <td>10</td>\n",
       "      <td>7</td>\n",
       "      <td>['email', 'mobile', 'social']</td>\n",
       "    </tr>\n",
       "    <tr>\n",
       "      <th>1</th>\n",
       "      <td>4d5c57ea9a6940dd891ad53e9dbe8da0</td>\n",
       "      <td>bogo</td>\n",
       "      <td>10</td>\n",
       "      <td>10</td>\n",
       "      <td>5</td>\n",
       "      <td>['web', 'email', 'mobile', 'social']</td>\n",
       "    </tr>\n",
       "    <tr>\n",
       "      <th>2</th>\n",
       "      <td>3f207df678b143eea3cee63160fa8bed</td>\n",
       "      <td>informational</td>\n",
       "      <td>0</td>\n",
       "      <td>0</td>\n",
       "      <td>4</td>\n",
       "      <td>['web', 'email', 'mobile']</td>\n",
       "    </tr>\n",
       "  </tbody>\n",
       "</table>\n",
       "</div>"
      ],
      "text/plain": [
       "                           offer_id     offer_type  difficulty  reward  \\\n",
       "0  ae264e3637204a6fb9bb56bc8210ddfd           bogo          10      10   \n",
       "1  4d5c57ea9a6940dd891ad53e9dbe8da0           bogo          10      10   \n",
       "2  3f207df678b143eea3cee63160fa8bed  informational           0       0   \n",
       "\n",
       "   duration                              channels  \n",
       "0         7         ['email', 'mobile', 'social']  \n",
       "1         5  ['web', 'email', 'mobile', 'social']  \n",
       "2         4            ['web', 'email', 'mobile']  "
      ]
     },
     "execution_count": 3,
     "metadata": {},
     "output_type": "execute_result"
    }
   ],
   "source": [
    "# Make sure the offers table loaded in correctly by checking the head\n",
    "offers.head(3)"
   ]
  },
  {
   "cell_type": "markdown",
   "id": "a914e541-8a41-4cd4-9b67-ad752b6476a4",
   "metadata": {},
   "source": [
    "The `offers` data has loaded in correctly. The `channels` column has values in the form of lists, which pandas does not work well with. This will need to be cleaned."
   ]
  },
  {
   "cell_type": "code",
   "execution_count": 4,
   "id": "4076b336-9d37-48fa-b8b1-aaf25939fd9b",
   "metadata": {},
   "outputs": [
    {
     "data": {
      "text/html": [
       "<div>\n",
       "<style scoped>\n",
       "    .dataframe tbody tr th:only-of-type {\n",
       "        vertical-align: middle;\n",
       "    }\n",
       "\n",
       "    .dataframe tbody tr th {\n",
       "        vertical-align: top;\n",
       "    }\n",
       "\n",
       "    .dataframe thead th {\n",
       "        text-align: right;\n",
       "    }\n",
       "</style>\n",
       "<table border=\"1\" class=\"dataframe\">\n",
       "  <thead>\n",
       "    <tr style=\"text-align: right;\">\n",
       "      <th></th>\n",
       "      <th>customer_id</th>\n",
       "      <th>became_member_on</th>\n",
       "      <th>gender</th>\n",
       "      <th>age</th>\n",
       "      <th>income</th>\n",
       "    </tr>\n",
       "  </thead>\n",
       "  <tbody>\n",
       "    <tr>\n",
       "      <th>0</th>\n",
       "      <td>68be06ca386d4c31939f3a4f0e3dd783</td>\n",
       "      <td>20170212</td>\n",
       "      <td>NaN</td>\n",
       "      <td>118</td>\n",
       "      <td>NaN</td>\n",
       "    </tr>\n",
       "    <tr>\n",
       "      <th>1</th>\n",
       "      <td>0610b486422d4921ae7d2bf64640c50b</td>\n",
       "      <td>20170715</td>\n",
       "      <td>F</td>\n",
       "      <td>55</td>\n",
       "      <td>112000.0</td>\n",
       "    </tr>\n",
       "    <tr>\n",
       "      <th>2</th>\n",
       "      <td>38fe809add3b4fcf9315a9694bb96ff5</td>\n",
       "      <td>20180712</td>\n",
       "      <td>NaN</td>\n",
       "      <td>118</td>\n",
       "      <td>NaN</td>\n",
       "    </tr>\n",
       "  </tbody>\n",
       "</table>\n",
       "</div>"
      ],
      "text/plain": [
       "                        customer_id  became_member_on gender  age    income\n",
       "0  68be06ca386d4c31939f3a4f0e3dd783          20170212    NaN  118       NaN\n",
       "1  0610b486422d4921ae7d2bf64640c50b          20170715      F   55  112000.0\n",
       "2  38fe809add3b4fcf9315a9694bb96ff5          20180712    NaN  118       NaN"
      ]
     },
     "execution_count": 4,
     "metadata": {},
     "output_type": "execute_result"
    }
   ],
   "source": [
    "# Make sure the customers table loaded in correctly by checking the head\n",
    "customers.head(3)"
   ]
  },
  {
   "cell_type": "markdown",
   "id": "827b183f-d953-4b8a-bae9-c79588274609",
   "metadata": {},
   "source": [
    "The `customers` table has loaded in correctly. The `became_member_on` column will need to be changed into a datetime data type."
   ]
  },
  {
   "cell_type": "code",
   "execution_count": 5,
   "id": "c2cf28bd-5d7a-4e26-a57b-74d0bb1d4e81",
   "metadata": {},
   "outputs": [
    {
     "data": {
      "text/html": [
       "<div>\n",
       "<style scoped>\n",
       "    .dataframe tbody tr th:only-of-type {\n",
       "        vertical-align: middle;\n",
       "    }\n",
       "\n",
       "    .dataframe tbody tr th {\n",
       "        vertical-align: top;\n",
       "    }\n",
       "\n",
       "    .dataframe thead th {\n",
       "        text-align: right;\n",
       "    }\n",
       "</style>\n",
       "<table border=\"1\" class=\"dataframe\">\n",
       "  <thead>\n",
       "    <tr style=\"text-align: right;\">\n",
       "      <th></th>\n",
       "      <th>customer_id</th>\n",
       "      <th>event</th>\n",
       "      <th>value</th>\n",
       "      <th>time</th>\n",
       "    </tr>\n",
       "  </thead>\n",
       "  <tbody>\n",
       "    <tr>\n",
       "      <th>0</th>\n",
       "      <td>78afa995795e4d85b5d9ceeca43f5fef</td>\n",
       "      <td>offer received</td>\n",
       "      <td>{'offer id': '9b98b8c7a33c4b65b9aebfe6a799e6d9'}</td>\n",
       "      <td>0</td>\n",
       "    </tr>\n",
       "    <tr>\n",
       "      <th>1</th>\n",
       "      <td>a03223e636434f42ac4c3df47e8bac43</td>\n",
       "      <td>offer received</td>\n",
       "      <td>{'offer id': '0b1e1539f2cc45b7b9fa7c272da2e1d7'}</td>\n",
       "      <td>0</td>\n",
       "    </tr>\n",
       "    <tr>\n",
       "      <th>2</th>\n",
       "      <td>e2127556f4f64592b11af22de27a7932</td>\n",
       "      <td>offer received</td>\n",
       "      <td>{'offer id': '2906b810c7d4411798c6938adc9daaa5'}</td>\n",
       "      <td>0</td>\n",
       "    </tr>\n",
       "  </tbody>\n",
       "</table>\n",
       "</div>"
      ],
      "text/plain": [
       "                        customer_id           event  \\\n",
       "0  78afa995795e4d85b5d9ceeca43f5fef  offer received   \n",
       "1  a03223e636434f42ac4c3df47e8bac43  offer received   \n",
       "2  e2127556f4f64592b11af22de27a7932  offer received   \n",
       "\n",
       "                                              value  time  \n",
       "0  {'offer id': '9b98b8c7a33c4b65b9aebfe6a799e6d9'}     0  \n",
       "1  {'offer id': '0b1e1539f2cc45b7b9fa7c272da2e1d7'}     0  \n",
       "2  {'offer id': '2906b810c7d4411798c6938adc9daaa5'}     0  "
      ]
     },
     "execution_count": 5,
     "metadata": {},
     "output_type": "execute_result"
    }
   ],
   "source": [
    "# Make sure the events table loaded in correctly by checking the head\n",
    "events.head(3)"
   ]
  },
  {
   "cell_type": "markdown",
   "id": "5780b24c-d8d6-4a45-bbd9-edb655cdd2a9",
   "metadata": {},
   "source": [
    "The `events` table has loaded in correctly. The `value` column has values in the form of dictionaries, which pandas does not work well with. This will need to be cleaned. The `time` column can be used to engineer more informative columns."
   ]
  },
  {
   "cell_type": "markdown",
   "id": "d74282ec-07df-49aa-95f5-c83e7d14410d",
   "metadata": {},
   "source": [
    "## Cleaning & Wrangling"
   ]
  },
  {
   "cell_type": "markdown",
   "id": "a6623825-f022-44f8-9da4-b23d2c30d706",
   "metadata": {},
   "source": [
    "For each table, investigate and clean the following: \n",
    "- Data types will need to be converted\n",
    "- Bit-sizes can be decreased\n",
    "- Possible outliers may exist in numeric columns\n",
    "- Missing data may exist\n",
    "- Duplicates may exists\n",
    "- Inconsistent text and typos may exist in categorical columns "
   ]
  },
  {
   "cell_type": "markdown",
   "id": "920f6ed9-fdab-4306-8c96-c16462bb06fc",
   "metadata": {},
   "source": [
    "### Offers Table"
   ]
  },
  {
   "cell_type": "markdown",
   "id": "b4f5f918-9f8f-4790-a507-e211b8fc7f2c",
   "metadata": {},
   "source": [
    "The `channels` column in the `offers` table is in the form of lists. Create dummy variables for the individual channels to make the column easier to use and investigate."
   ]
  },
  {
   "cell_type": "code",
   "execution_count": 6,
   "id": "3b44a2c2-e083-4324-8887-3158e79bf90c",
   "metadata": {},
   "outputs": [],
   "source": [
    "# Turn channels column into list type using the imported literal_eval function\n",
    "offers['channels'] = offers['channels'].apply(literal_eval)\n",
    "\n",
    "# Create channels dummies for each channel\n",
    "for channel in ['web', 'email', 'mobile', 'social']:\n",
    "    offers[channel] = offers['channels'].apply(lambda x: 1 if channel in x else 0).astype('int8')\n",
    "\n",
    "# Drop the original columns list\n",
    "offers = offers.drop('channels', axis=1)"
   ]
  },
  {
   "cell_type": "code",
   "execution_count": 7,
   "id": "b5bdefde-e9bc-454e-b260-2ca10b90b9b5",
   "metadata": {},
   "outputs": [
    {
     "name": "stdout",
     "output_type": "stream",
     "text": [
      "<class 'pandas.core.frame.DataFrame'>\n",
      "RangeIndex: 10 entries, 0 to 9\n",
      "Data columns (total 9 columns):\n",
      " #   Column      Non-Null Count  Dtype \n",
      "---  ------      --------------  ----- \n",
      " 0   offer_id    10 non-null     object\n",
      " 1   offer_type  10 non-null     object\n",
      " 2   difficulty  10 non-null     int64 \n",
      " 3   reward      10 non-null     int64 \n",
      " 4   duration    10 non-null     int64 \n",
      " 5   web         10 non-null     int8  \n",
      " 6   email       10 non-null     int8  \n",
      " 7   mobile      10 non-null     int8  \n",
      " 8   social      10 non-null     int8  \n",
      "dtypes: int64(3), int8(4), object(2)\n",
      "memory usage: 1.7 KB\n"
     ]
    }
   ],
   "source": [
    "# Check the data types, bit-sizes, and memory usage of the offers table\n",
    "offers.info(memory_usage='deep')"
   ]
  },
  {
   "cell_type": "code",
   "execution_count": 8,
   "id": "02ccae3c-47e7-4c8c-98a5-9e682377aed2",
   "metadata": {},
   "outputs": [
    {
     "data": {
      "text/html": [
       "<div>\n",
       "<style scoped>\n",
       "    .dataframe tbody tr th:only-of-type {\n",
       "        vertical-align: middle;\n",
       "    }\n",
       "\n",
       "    .dataframe tbody tr th {\n",
       "        vertical-align: top;\n",
       "    }\n",
       "\n",
       "    .dataframe thead th {\n",
       "        text-align: right;\n",
       "    }\n",
       "</style>\n",
       "<table border=\"1\" class=\"dataframe\">\n",
       "  <thead>\n",
       "    <tr style=\"text-align: right;\">\n",
       "      <th></th>\n",
       "      <th>difficulty</th>\n",
       "      <th>reward</th>\n",
       "      <th>duration</th>\n",
       "      <th>web</th>\n",
       "      <th>email</th>\n",
       "      <th>mobile</th>\n",
       "      <th>social</th>\n",
       "    </tr>\n",
       "  </thead>\n",
       "  <tbody>\n",
       "    <tr>\n",
       "      <th>count</th>\n",
       "      <td>10.000000</td>\n",
       "      <td>10.000000</td>\n",
       "      <td>10.000000</td>\n",
       "      <td>10.000000</td>\n",
       "      <td>10.0</td>\n",
       "      <td>10.000000</td>\n",
       "      <td>10.000000</td>\n",
       "    </tr>\n",
       "    <tr>\n",
       "      <th>mean</th>\n",
       "      <td>7.700000</td>\n",
       "      <td>4.200000</td>\n",
       "      <td>6.500000</td>\n",
       "      <td>0.800000</td>\n",
       "      <td>1.0</td>\n",
       "      <td>0.900000</td>\n",
       "      <td>0.600000</td>\n",
       "    </tr>\n",
       "    <tr>\n",
       "      <th>std</th>\n",
       "      <td>5.831905</td>\n",
       "      <td>3.583915</td>\n",
       "      <td>2.321398</td>\n",
       "      <td>0.421637</td>\n",
       "      <td>0.0</td>\n",
       "      <td>0.316228</td>\n",
       "      <td>0.516398</td>\n",
       "    </tr>\n",
       "    <tr>\n",
       "      <th>min</th>\n",
       "      <td>0.000000</td>\n",
       "      <td>0.000000</td>\n",
       "      <td>3.000000</td>\n",
       "      <td>0.000000</td>\n",
       "      <td>1.0</td>\n",
       "      <td>0.000000</td>\n",
       "      <td>0.000000</td>\n",
       "    </tr>\n",
       "    <tr>\n",
       "      <th>25%</th>\n",
       "      <td>5.000000</td>\n",
       "      <td>2.000000</td>\n",
       "      <td>5.000000</td>\n",
       "      <td>1.000000</td>\n",
       "      <td>1.0</td>\n",
       "      <td>1.000000</td>\n",
       "      <td>0.000000</td>\n",
       "    </tr>\n",
       "    <tr>\n",
       "      <th>50%</th>\n",
       "      <td>8.500000</td>\n",
       "      <td>4.000000</td>\n",
       "      <td>7.000000</td>\n",
       "      <td>1.000000</td>\n",
       "      <td>1.0</td>\n",
       "      <td>1.000000</td>\n",
       "      <td>1.000000</td>\n",
       "    </tr>\n",
       "    <tr>\n",
       "      <th>75%</th>\n",
       "      <td>10.000000</td>\n",
       "      <td>5.000000</td>\n",
       "      <td>7.000000</td>\n",
       "      <td>1.000000</td>\n",
       "      <td>1.0</td>\n",
       "      <td>1.000000</td>\n",
       "      <td>1.000000</td>\n",
       "    </tr>\n",
       "    <tr>\n",
       "      <th>max</th>\n",
       "      <td>20.000000</td>\n",
       "      <td>10.000000</td>\n",
       "      <td>10.000000</td>\n",
       "      <td>1.000000</td>\n",
       "      <td>1.0</td>\n",
       "      <td>1.000000</td>\n",
       "      <td>1.000000</td>\n",
       "    </tr>\n",
       "  </tbody>\n",
       "</table>\n",
       "</div>"
      ],
      "text/plain": [
       "       difficulty     reward   duration        web  email     mobile  \\\n",
       "count   10.000000  10.000000  10.000000  10.000000   10.0  10.000000   \n",
       "mean     7.700000   4.200000   6.500000   0.800000    1.0   0.900000   \n",
       "std      5.831905   3.583915   2.321398   0.421637    0.0   0.316228   \n",
       "min      0.000000   0.000000   3.000000   0.000000    1.0   0.000000   \n",
       "25%      5.000000   2.000000   5.000000   1.000000    1.0   1.000000   \n",
       "50%      8.500000   4.000000   7.000000   1.000000    1.0   1.000000   \n",
       "75%     10.000000   5.000000   7.000000   1.000000    1.0   1.000000   \n",
       "max     20.000000  10.000000  10.000000   1.000000    1.0   1.000000   \n",
       "\n",
       "          social  \n",
       "count  10.000000  \n",
       "mean    0.600000  \n",
       "std     0.516398  \n",
       "min     0.000000  \n",
       "25%     0.000000  \n",
       "50%     1.000000  \n",
       "75%     1.000000  \n",
       "max     1.000000  "
      ]
     },
     "execution_count": 8,
     "metadata": {},
     "output_type": "execute_result"
    }
   ],
   "source": [
    "# Check the summary statistics for the numeric columns to see if bit-sizes can be reduced and identify possible outliers\n",
    "offers.describe()"
   ]
  },
  {
   "cell_type": "markdown",
   "id": "e598da8d-379d-46a1-9f50-a9f890d876ed",
   "metadata": {},
   "source": [
    "- The `difficulty`, `reward`, and `duration` columns take integer values between 0 and 20. I will reduce the bit-sizes for those columns to the minimum bit-size to reduce memory usage and optimise efficiency.\n",
    "- Change the `offer_type` column to category. It is a categorical column because it says in the data dictionary.\n",
    "- There are no outliers or unreasonable values."
   ]
  },
  {
   "cell_type": "code",
   "execution_count": 9,
   "id": "0c2b5880-03b7-437e-8113-c320c02ef0a0",
   "metadata": {},
   "outputs": [],
   "source": [
    "# Reduce the bit-sizes of the numeric columns\n",
    "offers = offers.astype({\n",
    "    'difficulty': 'int8',\n",
    "    'reward': 'int8',\n",
    "    'duration': 'int8',\n",
    "    'offer_type': 'category' #Convert offer_type into a category data type\n",
    "})"
   ]
  },
  {
   "cell_type": "code",
   "execution_count": 10,
   "id": "7829e580-e259-48a9-bf58-083afb351e12",
   "metadata": {},
   "outputs": [
    {
     "name": "stdout",
     "output_type": "stream",
     "text": [
      "<class 'pandas.core.frame.DataFrame'>\n",
      "RangeIndex: 10 entries, 0 to 9\n",
      "Data columns (total 9 columns):\n",
      " #   Column      Non-Null Count  Dtype   \n",
      "---  ------      --------------  -----   \n",
      " 0   offer_id    10 non-null     object  \n",
      " 1   offer_type  10 non-null     category\n",
      " 2   difficulty  10 non-null     int8    \n",
      " 3   reward      10 non-null     int8    \n",
      " 4   duration    10 non-null     int8    \n",
      " 5   web         10 non-null     int8    \n",
      " 6   email       10 non-null     int8    \n",
      " 7   mobile      10 non-null     int8    \n",
      " 8   social      10 non-null     int8    \n",
      "dtypes: category(1), int8(7), object(1)\n",
      "memory usage: 1.3 KB\n"
     ]
    }
   ],
   "source": [
    "# Check to see if the changes occured\n",
    "offers.info(memory_usage='deep')"
   ]
  },
  {
   "cell_type": "code",
   "execution_count": 11,
   "id": "098bd6d6-92d6-4cc1-82d8-e86568699fa2",
   "metadata": {},
   "outputs": [
    {
     "data": {
      "text/plain": [
       "offer_id      0\n",
       "offer_type    0\n",
       "difficulty    0\n",
       "reward        0\n",
       "duration      0\n",
       "web           0\n",
       "email         0\n",
       "mobile        0\n",
       "social        0\n",
       "dtype: int64"
      ]
     },
     "execution_count": 11,
     "metadata": {},
     "output_type": "execute_result"
    }
   ],
   "source": [
    "# Check for any missing data\n",
    "offers.isna().sum()"
   ]
  },
  {
   "cell_type": "code",
   "execution_count": 12,
   "id": "9fa573ce-cef3-486e-9d7d-944d6c4d8698",
   "metadata": {},
   "outputs": [
    {
     "data": {
      "text/plain": [
       "['bogo', 'informational', 'discount']\n",
       "Categories (3, object): ['bogo', 'discount', 'informational']"
      ]
     },
     "execution_count": 12,
     "metadata": {},
     "output_type": "execute_result"
    }
   ],
   "source": [
    "# Check for any inconsistent text or typos in category columns\n",
    "offers['offer_type'].unique()"
   ]
  },
  {
   "cell_type": "code",
   "execution_count": 13,
   "id": "4bdf5825-caa9-441f-9e2b-9f78868065f5",
   "metadata": {},
   "outputs": [
    {
     "data": {
      "text/plain": [
       "0"
      ]
     },
     "execution_count": 13,
     "metadata": {},
     "output_type": "execute_result"
    }
   ],
   "source": [
    "# Check for any duplicate rows\n",
    "offers.duplicated().sum()"
   ]
  },
  {
   "cell_type": "markdown",
   "id": "ea65fb95-04bc-4f1a-a405-cbf85ed3b199",
   "metadata": {},
   "source": [
    "### Customers Table"
   ]
  },
  {
   "cell_type": "code",
   "execution_count": 14,
   "id": "c71650f8-f566-451c-9e32-0c89aea42595",
   "metadata": {},
   "outputs": [
    {
     "name": "stdout",
     "output_type": "stream",
     "text": [
      "<class 'pandas.core.frame.DataFrame'>\n",
      "RangeIndex: 17000 entries, 0 to 16999\n",
      "Data columns (total 5 columns):\n",
      " #   Column            Non-Null Count  Dtype  \n",
      "---  ------            --------------  -----  \n",
      " 0   customer_id       17000 non-null  object \n",
      " 1   became_member_on  17000 non-null  int64  \n",
      " 2   gender            14825 non-null  object \n",
      " 3   age               17000 non-null  int64  \n",
      " 4   income            14825 non-null  float64\n",
      "dtypes: float64(1), int64(2), object(2)\n",
      "memory usage: 2.5 MB\n"
     ]
    }
   ],
   "source": [
    "# Check the data types, size, and memory usage of the customers data frame\n",
    "customers.info(memory_usage='deep')"
   ]
  },
  {
   "cell_type": "code",
   "execution_count": 15,
   "id": "5188b55e-56bc-4cde-b763-f1adc3634fa1",
   "metadata": {},
   "outputs": [
    {
     "name": "stdout",
     "output_type": "stream",
     "text": [
      "<class 'pandas.core.frame.DataFrame'>\n",
      "RangeIndex: 17000 entries, 0 to 16999\n",
      "Data columns (total 5 columns):\n",
      " #   Column            Non-Null Count  Dtype  \n",
      "---  ------            --------------  -----  \n",
      " 0   customer_id       17000 non-null  object \n",
      " 1   became_member_on  17000 non-null  int64  \n",
      " 2   gender            14825 non-null  object \n",
      " 3   age               17000 non-null  int64  \n",
      " 4   income            14825 non-null  float64\n",
      "dtypes: float64(1), int64(2), object(2)\n",
      "memory usage: 2.5 MB\n"
     ]
    }
   ],
   "source": [
    "# Check the data types, size, and memory usage of the customers data frame\n",
    "customers.info(memory_usage='deep')"
   ]
  },
  {
   "cell_type": "markdown",
   "id": "d0f2b3b2-a754-4704-859c-fa587eb35d96",
   "metadata": {},
   "source": [
    "- The `age` column take integer values between 0 and 118 and `income` takes float values between 30000 and 120000. Reduce the bit-sizes for those columns.\n",
    "- Change the `gender` column to category. It is a categorical column because it says in the data dictionary.\n",
    "- Change the `became_member_on` to datetime data type.\n",
    "- A possible outlier could be 118 in the `age` column. investigate this more."
   ]
  },
  {
   "cell_type": "code",
   "execution_count": 16,
   "id": "1c3248b0-a0f5-47e2-be36-31a0a5ffd06b",
   "metadata": {},
   "outputs": [],
   "source": [
    "# Convert the data types of the column in the wrong data type and reduce bit-sizes of numeric columns to save space\n",
    "customers = customers.astype({\n",
    "    'gender': 'category',\n",
    "    'age': 'int16',\n",
    "    'income': 'float32'\n",
    "})\n",
    "\n",
    "# Convert the became_member_on column to datetime dtype\n",
    "customers['became_member_on'] = pd.to_datetime(customers['became_member_on'], format='%Y%m%d')"
   ]
  },
  {
   "cell_type": "code",
   "execution_count": 17,
   "id": "0ecf2df0-37ca-4c01-b1de-1a3b74393bdb",
   "metadata": {},
   "outputs": [
    {
     "name": "stdout",
     "output_type": "stream",
     "text": [
      "<class 'pandas.core.frame.DataFrame'>\n",
      "RangeIndex: 17000 entries, 0 to 16999\n",
      "Data columns (total 5 columns):\n",
      " #   Column            Non-Null Count  Dtype         \n",
      "---  ------            --------------  -----         \n",
      " 0   customer_id       17000 non-null  object        \n",
      " 1   became_member_on  17000 non-null  datetime64[ns]\n",
      " 2   gender            14825 non-null  category      \n",
      " 3   age               17000 non-null  int16         \n",
      " 4   income            14825 non-null  float32       \n",
      "dtypes: category(1), datetime64[ns](1), float32(1), int16(1), object(1)\n",
      "memory usage: 1.6 MB\n"
     ]
    }
   ],
   "source": [
    "# Check to see if the changes occured\n",
    "customers.info(memory_usage='deep')"
   ]
  },
  {
   "cell_type": "code",
   "execution_count": 18,
   "id": "89d550ec-3a42-42c5-a601-e2fde8229684",
   "metadata": {},
   "outputs": [
    {
     "data": {
      "text/plain": [
       "customer_id            0\n",
       "became_member_on       0\n",
       "gender              2175\n",
       "age                    0\n",
       "income              2175\n",
       "dtype: int64"
      ]
     },
     "execution_count": 18,
     "metadata": {},
     "output_type": "execute_result"
    }
   ],
   "source": [
    "# Check for any missing data\n",
    "customers.isna().sum()"
   ]
  },
  {
   "cell_type": "code",
   "execution_count": 19,
   "id": "78d68a84-dc62-4915-a211-4f29ad934eac",
   "metadata": {},
   "outputs": [
    {
     "data": {
      "text/html": [
       "<div>\n",
       "<style scoped>\n",
       "    .dataframe tbody tr th:only-of-type {\n",
       "        vertical-align: middle;\n",
       "    }\n",
       "\n",
       "    .dataframe tbody tr th {\n",
       "        vertical-align: top;\n",
       "    }\n",
       "\n",
       "    .dataframe thead th {\n",
       "        text-align: right;\n",
       "    }\n",
       "</style>\n",
       "<table border=\"1\" class=\"dataframe\">\n",
       "  <thead>\n",
       "    <tr style=\"text-align: right;\">\n",
       "      <th></th>\n",
       "      <th>customer_id</th>\n",
       "      <th>became_member_on</th>\n",
       "      <th>gender</th>\n",
       "      <th>age</th>\n",
       "      <th>income</th>\n",
       "    </tr>\n",
       "  </thead>\n",
       "  <tbody>\n",
       "    <tr>\n",
       "      <th>0</th>\n",
       "      <td>68be06ca386d4c31939f3a4f0e3dd783</td>\n",
       "      <td>2017-02-12</td>\n",
       "      <td>NaN</td>\n",
       "      <td>118</td>\n",
       "      <td>NaN</td>\n",
       "    </tr>\n",
       "    <tr>\n",
       "      <th>2</th>\n",
       "      <td>38fe809add3b4fcf9315a9694bb96ff5</td>\n",
       "      <td>2018-07-12</td>\n",
       "      <td>NaN</td>\n",
       "      <td>118</td>\n",
       "      <td>NaN</td>\n",
       "    </tr>\n",
       "    <tr>\n",
       "      <th>4</th>\n",
       "      <td>a03223e636434f42ac4c3df47e8bac43</td>\n",
       "      <td>2017-08-04</td>\n",
       "      <td>NaN</td>\n",
       "      <td>118</td>\n",
       "      <td>NaN</td>\n",
       "    </tr>\n",
       "    <tr>\n",
       "      <th>6</th>\n",
       "      <td>8ec6ce2a7e7949b1bf142def7d0e0586</td>\n",
       "      <td>2017-09-25</td>\n",
       "      <td>NaN</td>\n",
       "      <td>118</td>\n",
       "      <td>NaN</td>\n",
       "    </tr>\n",
       "    <tr>\n",
       "      <th>7</th>\n",
       "      <td>68617ca6246f4fbc85e91a2a49552598</td>\n",
       "      <td>2017-10-02</td>\n",
       "      <td>NaN</td>\n",
       "      <td>118</td>\n",
       "      <td>NaN</td>\n",
       "    </tr>\n",
       "  </tbody>\n",
       "</table>\n",
       "</div>"
      ],
      "text/plain": [
       "                        customer_id became_member_on gender  age  income\n",
       "0  68be06ca386d4c31939f3a4f0e3dd783       2017-02-12    NaN  118     NaN\n",
       "2  38fe809add3b4fcf9315a9694bb96ff5       2018-07-12    NaN  118     NaN\n",
       "4  a03223e636434f42ac4c3df47e8bac43       2017-08-04    NaN  118     NaN\n",
       "6  8ec6ce2a7e7949b1bf142def7d0e0586       2017-09-25    NaN  118     NaN\n",
       "7  68617ca6246f4fbc85e91a2a49552598       2017-10-02    NaN  118     NaN"
      ]
     },
     "execution_count": 19,
     "metadata": {},
     "output_type": "execute_result"
    }
   ],
   "source": [
    "# Investigate the rows that have missing values\n",
    "customers_nan_rows = customers[customers.isna().any(axis=1)]\n",
    "customers_nan_rows.head()"
   ]
  },
  {
   "cell_type": "code",
   "execution_count": 20,
   "id": "539f7b90-16a9-48e9-a30e-1b838a154b8c",
   "metadata": {},
   "outputs": [
    {
     "data": {
      "text/plain": [
       "2175"
      ]
     },
     "execution_count": 20,
     "metadata": {},
     "output_type": "execute_result"
    }
   ],
   "source": [
    "# Check to see how many rows have values missing\n",
    "len(customers_nan_rows)"
   ]
  },
  {
   "cell_type": "code",
   "execution_count": 21,
   "id": "48d47e79-b096-439c-aa26-20209d73ef11",
   "metadata": {},
   "outputs": [
    {
     "data": {
      "text/plain": [
       "array([118], dtype=int16)"
      ]
     },
     "execution_count": 21,
     "metadata": {},
     "output_type": "execute_result"
    }
   ],
   "source": [
    "# Check the ages of all the missing values\n",
    "customers_nan_rows['age'].unique()"
   ]
  },
  {
   "cell_type": "code",
   "execution_count": 22,
   "id": "d742a1fd-371b-4b5a-86db-6f04ae9ba2bc",
   "metadata": {},
   "outputs": [
    {
     "data": {
      "text/plain": [
       "2175"
      ]
     },
     "execution_count": 22,
     "metadata": {},
     "output_type": "execute_result"
    }
   ],
   "source": [
    "# Check how many 118 values there are in the age column\n",
    "(customers['age'] == 118).sum()"
   ]
  },
  {
   "cell_type": "code",
   "execution_count": 23,
   "id": "c184187f-b976-4bd2-8b20-6c201fdd0830",
   "metadata": {},
   "outputs": [
    {
     "data": {
      "text/plain": [
       "12.794117647058822"
      ]
     },
     "execution_count": 23,
     "metadata": {},
     "output_type": "execute_result"
    }
   ],
   "source": [
    "# Check the % of missing data\n",
    "(len(customers_nan_rows) / len(customers)) * 100"
   ]
  },
  {
   "cell_type": "code",
   "execution_count": 24,
   "id": "1b58a268-d6a9-4a0f-98ab-4a4161bb1150",
   "metadata": {},
   "outputs": [
    {
     "data": {
      "image/png": "[encoded data removed]",
      "text/plain": [
       "<Figure size 640x480 with 1 Axes>"
      ]
     },
     "metadata": {},
     "output_type": "display_data"
    }
   ],
   "source": [
    "# Check the distribution of the age column\n",
    "customers['age'].hist();"
   ]
  },
  {
   "cell_type": "markdown",
   "id": "9cde4cae-9f75-423b-adc0-fc436ccbaeee",
   "metadata": {},
   "source": [
    "In `customers`, there are 2175 missing values each for both the `gender` and `income` columns. These missing values all occur in the same rows, meaning that there are 2175 rows that miss both the `gender` and `income` values. In addition, each one of these rows has `118` for its value for `age`, indicating that this is a placeholder for missing information. Moreover, it is skewing the distribution for the `age` column, so we will change these values to `np.NaN` values. Even though the rows with missing values make up 12.8% of our data, I will leave all the missing values as is for now so we do not lose any info when we join the tables later."
   ]
  },
  {
   "cell_type": "code",
   "execution_count": 25,
   "id": "ed76980a-fe52-4575-84db-c1c42a251943",
   "metadata": {},
   "outputs": [],
   "source": [
    "# Replace the values of 118 in the age column with np.NaN values\n",
    "customers['age'] = customers['age'].replace({118: np.NaN})"
   ]
  },
  {
   "cell_type": "code",
   "execution_count": 26,
   "id": "ecdd9470-9f17-4103-bc9b-02c34f5bb2f6",
   "metadata": {},
   "outputs": [
    {
     "data": {
      "text/plain": [
       "0"
      ]
     },
     "execution_count": 26,
     "metadata": {},
     "output_type": "execute_result"
    }
   ],
   "source": [
    "# Check for dupilcate rows\n",
    "customers.duplicated().sum()"
   ]
  },
  {
   "cell_type": "markdown",
   "id": "53e20205-7909-4dbe-8e6d-5fe28badce15",
   "metadata": {},
   "source": [
    "### Events Table"
   ]
  },
  {
   "cell_type": "markdown",
   "id": "4a3ae63d-e4a0-47da-bae4-dae39095696c",
   "metadata": {},
   "source": [
    "The `events` table has a column called `value` that is in the form of dictionaries. Seperate the keys and values into seperate columns."
   ]
  },
  {
   "cell_type": "code",
   "execution_count": 27,
   "id": "28bf8b91-a41a-4c4b-bda4-3b690a1fc2a3",
   "metadata": {},
   "outputs": [],
   "source": [
    "# Turn channels column into dict type\n",
    "events['value'] = events['value'].apply(literal_eval)\n",
    "\n",
    "# Create a series that holds the dictionary keys as a list\n",
    "value_keys = events['value'].apply(lambda dict: list(dict.keys()))\n",
    "\n",
    "# Create a series that holds the dictionary values as a list\n",
    "value_values = events['value'].apply(lambda dict: list(dict.values()))"
   ]
  },
  {
   "cell_type": "code",
   "execution_count": 28,
   "id": "82794b4b-f782-4c86-8ddd-537982fa83d9",
   "metadata": {},
   "outputs": [
    {
     "data": {
      "text/plain": [
       "value\n",
       "[amount]              138953\n",
       "[offer id]            134002\n",
       "[offer_id, reward]     33579\n",
       "Name: count, dtype: int64"
      ]
     },
     "execution_count": 28,
     "metadata": {},
     "output_type": "execute_result"
    }
   ],
   "source": [
    "# Check to see what values are in the dictionaries by checking the different possible keys.\n",
    "value_keys.value_counts()"
   ]
  },
  {
   "cell_type": "markdown",
   "id": "0015ac07-749c-492b-9eb6-fce4a132944e",
   "metadata": {},
   "source": [
    "It looks like the `value` column has three different types of keys, which are `amount`, `offer_id`/`offer id`, and `reward`. Upon further investigation, the `value` values that have `amount` as their key are `transaction` events, the `value` values that just have `offer_id`/`offer id` as their key are `offer received` and `offer viewed` events, and `value` values that have both `offer_id` and `reward` as their keys are `offer completed` events. I will now create columns for these individual keys and corresponding values. However, for reward, I will just create a column called `reward` and fill it with the value or `NaN`."
   ]
  },
  {
   "cell_type": "code",
   "execution_count": 29,
   "id": "867b9c9c-4548-4974-a4c5-04e2d93710af",
   "metadata": {},
   "outputs": [],
   "source": [
    "# Create a column that hold the value key (either amount or offer id/offer_id)\n",
    "events['value_key'] = value_keys.apply(lambda lst: lst[0])\n",
    "\n",
    "# Create a column that holds the value value (either the amount or the offer id/offer_id)\n",
    "events['value'] = value_values.apply(lambda lst: lst[0])\n",
    "\n",
    "#Create a column that holds the reward value if it exists\n",
    "events['reward'] = value_values.apply(lambda lst: lst[1] if len(lst) == 2 else np.NaN)"
   ]
  },
  {
   "cell_type": "markdown",
   "id": "ab086d63-8abf-4e77-8ac5-6169e74efbf9",
   "metadata": {},
   "source": [
    "I will now change the `time` column into more informative columns. The time column shows the number of hours passed in the 30 day period. Hence, I will make a column for the day and a column for the hour of that day. I also descovered, for reasons I can not explain, that the hours are rounded to the nearest multiple of six. Luckily, this makes no significant changes to my analysis."
   ]
  },
  {
   "cell_type": "code",
   "execution_count": 30,
   "id": "f6c91ac9-5459-4df1-8462-cdeda7c564b5",
   "metadata": {},
   "outputs": [],
   "source": [
    "# Turn the time column into two columns that is the day number and hour of that day\n",
    "events['day'] = events['time'] // 24\n",
    "events['hour'] = events['time'] % 24"
   ]
  },
  {
   "cell_type": "code",
   "execution_count": 31,
   "id": "b2ded503-be1b-400b-91fe-2f76c0e645df",
   "metadata": {},
   "outputs": [
    {
     "name": "stdout",
     "output_type": "stream",
     "text": [
      "<class 'pandas.core.frame.DataFrame'>\n",
      "RangeIndex: 306534 entries, 0 to 306533\n",
      "Data columns (total 8 columns):\n",
      " #   Column       Non-Null Count   Dtype  \n",
      "---  ------       --------------   -----  \n",
      " 0   customer_id  306534 non-null  object \n",
      " 1   event        306534 non-null  object \n",
      " 2   value        306534 non-null  object \n",
      " 3   time         306534 non-null  int64  \n",
      " 4   value_key    306534 non-null  object \n",
      " 5   reward       33579 non-null   float64\n",
      " 6   day          306534 non-null  int64  \n",
      " 7   hour         306534 non-null  int64  \n",
      "dtypes: float64(1), int64(3), object(4)\n",
      "memory usage: 84.6 MB\n"
     ]
    }
   ],
   "source": [
    "# Check the data types, size, and memory usage of the events table\n",
    "events.info(memory_usage='deep')"
   ]
  },
  {
   "cell_type": "code",
   "execution_count": 32,
   "id": "c7cae3e7-c0f6-4e46-85d8-a61788de5019",
   "metadata": {},
   "outputs": [
    {
     "data": {
      "text/html": [
       "<div>\n",
       "<style scoped>\n",
       "    .dataframe tbody tr th:only-of-type {\n",
       "        vertical-align: middle;\n",
       "    }\n",
       "\n",
       "    .dataframe tbody tr th {\n",
       "        vertical-align: top;\n",
       "    }\n",
       "\n",
       "    .dataframe thead th {\n",
       "        text-align: right;\n",
       "    }\n",
       "</style>\n",
       "<table border=\"1\" class=\"dataframe\">\n",
       "  <thead>\n",
       "    <tr style=\"text-align: right;\">\n",
       "      <th></th>\n",
       "      <th>time</th>\n",
       "      <th>reward</th>\n",
       "      <th>day</th>\n",
       "      <th>hour</th>\n",
       "    </tr>\n",
       "  </thead>\n",
       "  <tbody>\n",
       "    <tr>\n",
       "      <th>count</th>\n",
       "      <td>306534.0</td>\n",
       "      <td>33579.0</td>\n",
       "      <td>306534.0</td>\n",
       "      <td>306534.0</td>\n",
       "    </tr>\n",
       "    <tr>\n",
       "      <th>mean</th>\n",
       "      <td>366.0</td>\n",
       "      <td>5.0</td>\n",
       "      <td>15.0</td>\n",
       "      <td>6.0</td>\n",
       "    </tr>\n",
       "    <tr>\n",
       "      <th>std</th>\n",
       "      <td>200.0</td>\n",
       "      <td>3.0</td>\n",
       "      <td>8.0</td>\n",
       "      <td>7.0</td>\n",
       "    </tr>\n",
       "    <tr>\n",
       "      <th>min</th>\n",
       "      <td>0.0</td>\n",
       "      <td>2.0</td>\n",
       "      <td>0.0</td>\n",
       "      <td>0.0</td>\n",
       "    </tr>\n",
       "    <tr>\n",
       "      <th>25%</th>\n",
       "      <td>186.0</td>\n",
       "      <td>2.0</td>\n",
       "      <td>7.0</td>\n",
       "      <td>0.0</td>\n",
       "    </tr>\n",
       "    <tr>\n",
       "      <th>50%</th>\n",
       "      <td>408.0</td>\n",
       "      <td>5.0</td>\n",
       "      <td>17.0</td>\n",
       "      <td>6.0</td>\n",
       "    </tr>\n",
       "    <tr>\n",
       "      <th>75%</th>\n",
       "      <td>528.0</td>\n",
       "      <td>5.0</td>\n",
       "      <td>22.0</td>\n",
       "      <td>12.0</td>\n",
       "    </tr>\n",
       "    <tr>\n",
       "      <th>max</th>\n",
       "      <td>714.0</td>\n",
       "      <td>10.0</td>\n",
       "      <td>29.0</td>\n",
       "      <td>18.0</td>\n",
       "    </tr>\n",
       "  </tbody>\n",
       "</table>\n",
       "</div>"
      ],
      "text/plain": [
       "           time   reward       day      hour\n",
       "count  306534.0  33579.0  306534.0  306534.0\n",
       "mean      366.0      5.0      15.0       6.0\n",
       "std       200.0      3.0       8.0       7.0\n",
       "min         0.0      2.0       0.0       0.0\n",
       "25%       186.0      2.0       7.0       0.0\n",
       "50%       408.0      5.0      17.0       6.0\n",
       "75%       528.0      5.0      22.0      12.0\n",
       "max       714.0     10.0      29.0      18.0"
      ]
     },
     "execution_count": 32,
     "metadata": {},
     "output_type": "execute_result"
    }
   ],
   "source": [
    "# Check the summary statistics for the numeric columns to see if we can reduce bit-sizes and identify possible outliers\n",
    "events.describe().round()"
   ]
  },
  {
   "cell_type": "code",
   "execution_count": 33,
   "id": "3f260093-fa05-4cc5-8e24-56bf8e7749ec",
   "metadata": {},
   "outputs": [
    {
     "data": {
      "text/plain": [
       "event\n",
       "transaction        138953\n",
       "offer received      76277\n",
       "offer viewed        57725\n",
       "offer completed     33579\n",
       "Name: count, dtype: int64"
      ]
     },
     "execution_count": 33,
     "metadata": {},
     "output_type": "execute_result"
    }
   ],
   "source": [
    "# Check if the event column is categorical and if there is any inconsistent text or typos \n",
    "events['event'].value_counts()"
   ]
  },
  {
   "cell_type": "code",
   "execution_count": 34,
   "id": "b415b280-ac53-47e4-8b87-6231e7a881c2",
   "metadata": {},
   "outputs": [
    {
     "data": {
      "text/plain": [
       "value_key\n",
       "amount      138953\n",
       "offer id    134002\n",
       "offer_id     33579\n",
       "Name: count, dtype: int64"
      ]
     },
     "execution_count": 34,
     "metadata": {},
     "output_type": "execute_result"
    }
   ],
   "source": [
    "# Check if the value_key column is categorical and if there is any inconsistent text or typos \n",
    "events['value_key'].value_counts()"
   ]
  },
  {
   "cell_type": "code",
   "execution_count": 35,
   "id": "f79cd8d2-7b4a-49e0-adcf-0139ae349835",
   "metadata": {},
   "outputs": [],
   "source": [
    "# Fix the inconsitent text\n",
    "events['value_key'] = events['value_key'].replace({'offer_id': 'offer id'})"
   ]
  },
  {
   "cell_type": "code",
   "execution_count": 36,
   "id": "4c1d4d4a-ad53-4d82-ab28-5aeb7994d824",
   "metadata": {},
   "outputs": [
    {
     "data": {
      "text/plain": [
       "value_key\n",
       "offer id    167581\n",
       "amount      138953\n",
       "Name: count, dtype: int64"
      ]
     },
     "execution_count": 36,
     "metadata": {},
     "output_type": "execute_result"
    }
   ],
   "source": [
    "# Check to see if the inconsitent text was fixed\n",
    "events['value_key'].value_counts()"
   ]
  },
  {
   "cell_type": "code",
   "execution_count": 37,
   "id": "678ea090-a559-4f88-bb68-9ca5c5855414",
   "metadata": {},
   "outputs": [],
   "source": [
    "# Convert the data types of the column in the wrong data type and reduce bit-sizes of numeric columns to save space\n",
    "events = events.astype({\n",
    "    'event': 'category',\n",
    "    'value_key': 'category',\n",
    "    'reward': 'float32',\n",
    "    'day': 'int8',\n",
    "    'hour': 'int8'\n",
    "})"
   ]
  },
  {
   "cell_type": "code",
   "execution_count": 38,
   "id": "c89df4ec-2d22-4fcb-ad41-b11ea1a9f357",
   "metadata": {},
   "outputs": [
    {
     "name": "stdout",
     "output_type": "stream",
     "text": [
      "<class 'pandas.core.frame.DataFrame'>\n",
      "RangeIndex: 306534 entries, 0 to 306533\n",
      "Data columns (total 8 columns):\n",
      " #   Column       Non-Null Count   Dtype   \n",
      "---  ------       --------------   -----   \n",
      " 0   customer_id  306534 non-null  object  \n",
      " 1   event        306534 non-null  category\n",
      " 2   value        306534 non-null  object  \n",
      " 3   time         306534 non-null  int64   \n",
      " 4   value_key    306534 non-null  category\n",
      " 5   reward       33579 non-null   float32 \n",
      " 6   day          306534 non-null  int8    \n",
      " 7   hour         306534 non-null  int8    \n",
      "dtypes: category(2), float32(1), int64(1), int8(2), object(2)\n",
      "memory usage: 45.5 MB\n"
     ]
    }
   ],
   "source": [
    "# Check to see if the changes occured\n",
    "events.info(memory_usage='deep')"
   ]
  },
  {
   "cell_type": "code",
   "execution_count": 39,
   "id": "8235f9f0-92ea-4f8d-9ae3-4d419a03f9ef",
   "metadata": {},
   "outputs": [
    {
     "data": {
      "text/plain": [
       "customer_id         0\n",
       "event               0\n",
       "value               0\n",
       "time                0\n",
       "value_key           0\n",
       "reward         272955\n",
       "day                 0\n",
       "hour                0\n",
       "dtype: int64"
      ]
     },
     "execution_count": 39,
     "metadata": {},
     "output_type": "execute_result"
    }
   ],
   "source": [
    "# Check for missing values\n",
    "events.isna().sum()"
   ]
  },
  {
   "cell_type": "markdown",
   "id": "fcefbe39-7cc4-4a9d-9fad-872e6bd74d8a",
   "metadata": {},
   "source": [
    "These missing values are a reflection of the amount of events in the table that are not `offer completed`. Therefore we want these values to remain missing."
   ]
  },
  {
   "cell_type": "code",
   "execution_count": 40,
   "id": "abfc0f6e-a407-45bf-b4b2-91554fe1879e",
   "metadata": {},
   "outputs": [
    {
     "data": {
      "text/plain": [
       "397"
      ]
     },
     "execution_count": 40,
     "metadata": {},
     "output_type": "execute_result"
    }
   ],
   "source": [
    "# Check for duplicate rows\n",
    "events.duplicated().sum()"
   ]
  },
  {
   "cell_type": "code",
   "execution_count": 41,
   "id": "dce8a2fe-f47f-499c-a9ed-dbdc084debc9",
   "metadata": {},
   "outputs": [
    {
     "data": {
      "text/html": [
       "<div>\n",
       "<style scoped>\n",
       "    .dataframe tbody tr th:only-of-type {\n",
       "        vertical-align: middle;\n",
       "    }\n",
       "\n",
       "    .dataframe tbody tr th {\n",
       "        vertical-align: top;\n",
       "    }\n",
       "\n",
       "    .dataframe thead th {\n",
       "        text-align: right;\n",
       "    }\n",
       "</style>\n",
       "<table border=\"1\" class=\"dataframe\">\n",
       "  <thead>\n",
       "    <tr style=\"text-align: right;\">\n",
       "      <th></th>\n",
       "      <th>customer_id</th>\n",
       "      <th>event</th>\n",
       "      <th>value</th>\n",
       "      <th>time</th>\n",
       "      <th>value_key</th>\n",
       "      <th>reward</th>\n",
       "      <th>day</th>\n",
       "      <th>hour</th>\n",
       "    </tr>\n",
       "  </thead>\n",
       "  <tbody>\n",
       "    <tr>\n",
       "      <th>66123</th>\n",
       "      <td>3dde94fa581145cb9f206624f1a94d5a</td>\n",
       "      <td>offer completed</td>\n",
       "      <td>2906b810c7d4411798c6938adc9daaa5</td>\n",
       "      <td>168</td>\n",
       "      <td>offer id</td>\n",
       "      <td>2.0</td>\n",
       "      <td>7</td>\n",
       "      <td>0</td>\n",
       "    </tr>\n",
       "    <tr>\n",
       "      <th>66783</th>\n",
       "      <td>e9fb6ed2cecb4980ba98c86abc9c91e3</td>\n",
       "      <td>offer completed</td>\n",
       "      <td>ae264e3637204a6fb9bb56bc8210ddfd</td>\n",
       "      <td>168</td>\n",
       "      <td>offer id</td>\n",
       "      <td>10.0</td>\n",
       "      <td>7</td>\n",
       "      <td>0</td>\n",
       "    </tr>\n",
       "    <tr>\n",
       "      <th>67614</th>\n",
       "      <td>a7dc060f6fc94ca7bf71fbb188187dca</td>\n",
       "      <td>offer completed</td>\n",
       "      <td>9b98b8c7a33c4b65b9aebfe6a799e6d9</td>\n",
       "      <td>168</td>\n",
       "      <td>offer id</td>\n",
       "      <td>5.0</td>\n",
       "      <td>7</td>\n",
       "      <td>0</td>\n",
       "    </tr>\n",
       "    <tr>\n",
       "      <th>68562</th>\n",
       "      <td>30478a4c1e884a63a822aa87b833ed7a</td>\n",
       "      <td>offer completed</td>\n",
       "      <td>2298d6c36e964ae4a3e7e9706d1fb8c2</td>\n",
       "      <td>168</td>\n",
       "      <td>offer id</td>\n",
       "      <td>3.0</td>\n",
       "      <td>7</td>\n",
       "      <td>0</td>\n",
       "    </tr>\n",
       "    <tr>\n",
       "      <th>69218</th>\n",
       "      <td>84fb57a7fe8045a8bf6236738ee73a0f</td>\n",
       "      <td>offer completed</td>\n",
       "      <td>ae264e3637204a6fb9bb56bc8210ddfd</td>\n",
       "      <td>168</td>\n",
       "      <td>offer id</td>\n",
       "      <td>10.0</td>\n",
       "      <td>7</td>\n",
       "      <td>0</td>\n",
       "    </tr>\n",
       "  </tbody>\n",
       "</table>\n",
       "</div>"
      ],
      "text/plain": [
       "                            customer_id            event  \\\n",
       "66123  3dde94fa581145cb9f206624f1a94d5a  offer completed   \n",
       "66783  e9fb6ed2cecb4980ba98c86abc9c91e3  offer completed   \n",
       "67614  a7dc060f6fc94ca7bf71fbb188187dca  offer completed   \n",
       "68562  30478a4c1e884a63a822aa87b833ed7a  offer completed   \n",
       "69218  84fb57a7fe8045a8bf6236738ee73a0f  offer completed   \n",
       "\n",
       "                                  value  time value_key  reward  day  hour  \n",
       "66123  2906b810c7d4411798c6938adc9daaa5   168  offer id     2.0    7     0  \n",
       "66783  ae264e3637204a6fb9bb56bc8210ddfd   168  offer id    10.0    7     0  \n",
       "67614  9b98b8c7a33c4b65b9aebfe6a799e6d9   168  offer id     5.0    7     0  \n",
       "68562  2298d6c36e964ae4a3e7e9706d1fb8c2   168  offer id     3.0    7     0  \n",
       "69218  ae264e3637204a6fb9bb56bc8210ddfd   168  offer id    10.0    7     0  "
      ]
     },
     "execution_count": 41,
     "metadata": {},
     "output_type": "execute_result"
    }
   ],
   "source": [
    "events_dup_rows = events[events.duplicated()]\n",
    "events_dup_rows.head()"
   ]
  },
  {
   "cell_type": "code",
   "execution_count": 42,
   "id": "a35bcf2a-b819-4d19-9a89-2730afee197c",
   "metadata": {},
   "outputs": [
    {
     "data": {
      "text/plain": [
       "['offer completed']\n",
       "Categories (4, object): ['offer completed', 'offer received', 'offer viewed', 'transaction']"
      ]
     },
     "execution_count": 42,
     "metadata": {},
     "output_type": "execute_result"
    }
   ],
   "source": [
    "# Investigate the event types of the duplicate rows\n",
    "events_dup_rows['event'].unique()"
   ]
  },
  {
   "cell_type": "code",
   "execution_count": 43,
   "id": "2920cc27-e7a5-48fb-ac89-5d1be97285b0",
   "metadata": {},
   "outputs": [
    {
     "data": {
      "text/plain": [
       "['discount', 'bogo']\n",
       "Categories (3, object): ['bogo', 'discount', 'informational']"
      ]
     },
     "execution_count": 43,
     "metadata": {},
     "output_type": "execute_result"
    }
   ],
   "source": [
    "# Investigate the offer types of duplicate rows\n",
    "events_dup_rows.merge(offers, how='inner', left_on='value', right_on='offer_id')['offer_type'].unique()"
   ]
  },
  {
   "cell_type": "markdown",
   "id": "4ac6ca70-647b-49f7-859e-1d471c02b734",
   "metadata": {},
   "source": [
    "The only consitency with all the duplicate values in the `events` table is that they are all `offer completed` events. There will be no analysis on duplicate rows in our analysis. So I will delete them."
   ]
  },
  {
   "cell_type": "code",
   "execution_count": 44,
   "id": "0343410a-7ebc-45e7-98c6-10f80b6e34c0",
   "metadata": {},
   "outputs": [],
   "source": [
    "# Drop the duplicates in the events table\n",
    "events = events.drop_duplicates()"
   ]
  },
  {
   "cell_type": "code",
   "execution_count": 45,
   "id": "31fb0510-1e7e-42a3-838e-2f791aa936ab",
   "metadata": {},
   "outputs": [],
   "source": [
    "# Divide the value column into two columns based on the value of value_key and drop the old columns\n",
    "events['amount'] = np.where(events['value_key'] == 'amount', events['value'], np.NaN)\n",
    "events['offer_id'] = np.where(events['value_key'] == 'offer id', events['value'], np.NaN)\n",
    "events = events.drop(['value', 'value_key'], axis=1)\n",
    "\n",
    "# Reorder the columns into a more intuitive order\n",
    "events = events[['event', 'time', 'day', 'hour', 'customer_id', 'offer_id', 'amount', 'reward']]"
   ]
  },
  {
   "cell_type": "code",
   "execution_count": 46,
   "id": "30d70637-2e1b-43c9-a250-590d71071ee9",
   "metadata": {},
   "outputs": [],
   "source": [
    "# Create transactions table to be merged\n",
    "transactions = events[events['event'] == 'transaction'].drop(['offer_id', 'reward', 'event'], axis=1)\n",
    "transactions = transactions[['customer_id', 'amount', 'time', 'day', 'hour']]\n",
    "\n",
    "# Join transactions and offer completed events\n",
    "events = (events[events['event'] != 'transaction']                                                 # Filter out the transactions events\n",
    "                     .drop('amount', axis=1)\n",
    "                     .merge(transactions, how='left', on=['time', 'day', 'hour', 'customer_id']))  # Join the transactions table"
   ]
  },
  {
   "cell_type": "markdown",
   "id": "32017434-5a1b-4e20-9674-bd5c7369392e",
   "metadata": {},
   "source": [
    "Note that this gets rid of transactions that did not redeem an offer in the events table. Also note that there are some transactions where the customer gets the reward without reaching the difficulty. This is likely because the transaction amount has the reward already taken out. \n",
    "\n",
    "Since the `events` table has has four distinct events. It seems benificial to break up the `events` table into the four distinct tables and clean the now seperate tables accordingly"
   ]
  },
  {
   "cell_type": "code",
   "execution_count": 47,
   "id": "45e3e20e-adac-4e80-a041-fa02d35fa769",
   "metadata": {},
   "outputs": [],
   "source": [
    "# Divide the events table into four seperate tables\n",
    "offers_received = events[events['event'] == 'offer received'][['customer_id', 'offer_id', 'time', 'day', 'hour']]\n",
    "offers_viewed = events[events['event'] == 'offer viewed'][['customer_id', 'offer_id', 'time', 'day', 'hour']]"
   ]
  },
  {
   "cell_type": "code",
   "execution_count": 48,
   "id": "3fcc3122-8e7a-4a9e-b835-dd93802ba4a2",
   "metadata": {},
   "outputs": [],
   "source": [
    "offers_completed = events[events['event'] == 'offer completed'][['customer_id', 'offer_id', 'time', 'reward', 'day', 'hour', 'amount']]\n",
    "\n",
    "# Engineer a new column that has the amount before discount\n",
    "offers_completed['due_amount'] = offers_completed['reward'] + offers_completed['amount']\n",
    "\n",
    "# Rename the column that has the price after discount to a more intuitive name\n",
    "offers_completed = offers_completed.rename({'amount': 'discounted_amount'}, axis=1)"
   ]
  },
  {
   "cell_type": "markdown",
   "id": "5ed2776c-a46e-415d-8b1c-aed3ccd34614",
   "metadata": {},
   "source": [
    "## Exporting to MySQL"
   ]
  },
  {
   "cell_type": "code",
   "execution_count": 49,
   "id": "3e17d07d-d7f7-4479-8d81-6ee71ef0c23a",
   "metadata": {},
   "outputs": [],
   "source": [
    "# Create a connection to the MySQL database\n",
    "user = 'root'\n",
    "hidden = 'Basketba11isgood' \n",
    "host = 'localhost'\n",
    "port = '3306'\n",
    "database = 'starbucks_promotions_db'\n",
    "\n",
    "connection = create_engine(f'mysql+mysqlconnector://{user}:{hidden}@{host}:{port}/{database}')"
   ]
  },
  {
   "cell_type": "code",
   "execution_count": 50,
   "id": "8e87804a-326e-46f0-abbc-1e1054a1f0a1",
   "metadata": {},
   "outputs": [],
   "source": [
    "# Export the tables to MySQL\n",
    "data = [offers, customers, offers_received, offers_viewed, transactions]\n",
    "table_names = ['offers', 'customers', 'offers_received', 'offers_viewed', 'transactions']\n",
    "\n",
    "for i, table in enumerate(data):\n",
    "   table.to_sql(table_names[i], con=connection, if_exists='replace', index=False)"
   ]
  }
 ],
 "metadata": {
  "kernelspec": {
   "display_name": "Python 3 (ipykernel)",
   "language": "python",
   "name": "python3"
  },
  "language_info": {
   "codemirror_mode": {
    "name": "ipython",
    "version": 3
   },
   "file_extension": ".py",
   "mimetype": "text/x-python",
   "name": "python",
   "nbconvert_exporter": "python",
   "pygments_lexer": "ipython3",
   "version": "3.12.7"
  }
 },
 "nbformat": 4,
 "nbformat_minor": 5
}
